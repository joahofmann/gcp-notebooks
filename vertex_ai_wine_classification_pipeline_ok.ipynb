{
  "cells": [
    {
      "cell_type": "markdown",
      "metadata": {
        "id": "view-in-github",
        "colab_type": "text"
      },
      "source": [
        "<a href=\"https://colab.research.google.com/github/joahofmann/gcp-notebooks/blob/main/vertex_ai_wine_classification_pipeline_ok.ipynb\" target=\"_parent\"><img src=\"https://colab.research.google.com/assets/colab-badge.svg\" alt=\"Open In Colab\"/></a>"
      ]
    },
    {
      "cell_type": "markdown",
      "metadata": {
        "id": "2b59cd86"
      },
      "source": [
        "# Vertex AI Pipelines Example\n",
        "\n",
        "This notebook demonstrates how to create and run a simple Kubeflow pipeline on Vertex AI."
      ],
      "id": "2b59cd86"
    },
    {
      "cell_type": "markdown",
      "metadata": {
        "id": "43b81849"
      },
      "source": [
        "# 1. Setup and Authentication"
      ],
      "id": "43b81849"
    },
    {
      "cell_type": "code",
      "metadata": {
        "id": "32d43e95"
      },
      "source": [
        "# Install necessary libraries\n",
        "!pip install --upgrade google-cloud-aiplatform google-cloud-storage kfp google-cloud-pipeline-components --quiet"
      ],
      "execution_count": 2,
      "outputs": [],
      "id": "32d43e95"
    },
    {
      "cell_type": "code",
      "metadata": {
        "id": "0680f577"
      },
      "source": [
        "# Restart runtime (Colab only)\n",
        "import sys\n",
        "if \"google.colab\" in sys.modules:\n",
        "    import IPython\n",
        "    app = IPython.Application.instance()\n",
        "    app.kernel.do_shutdown(True)"
      ],
      "execution_count": 3,
      "outputs": [],
      "id": "0680f577"
    },
    {
      "cell_type": "code",
      "metadata": {
        "id": "c138e493"
      },
      "source": [
        "# Authenticate to Google Cloud\n",
        "# If you are running this in a Colab environment, this will open a browser window for authentication.\n",
        "import sys\n",
        "if \"google.colab\" in sys.modules:\n",
        "    from google.colab import auth\n",
        "    auth.authenticate_user()"
      ],
      "execution_count": 4,
      "outputs": [],
      "id": "c138e493"
    },
    {
      "cell_type": "code",
      "metadata": {
        "id": "47012516"
      },
      "source": [
        "# --- User-defined variables ---\n",
        "# Replace with your actual project ID and region\n",
        "PROJECT_ID = \"vertex-test-id\" # @param {type:\"string\"}\n",
        "REGION = \"us-central1\" # @param {type:\"string\"}\n",
        "BUCKET_NAME = \"gcs-bucket-name-wine2\" # @param {type:\"string\"}"
      ],
      "execution_count": null,
      "outputs": [],
      "id": "47012516"
    },
    {
      "cell_type": "code",
      "metadata": {
        "id": "0d1c28f5"
      },
      "source": [
        "# Validate inputs\n",
        "if PROJECT_ID == \"your-gcp-project-id\" or not PROJECT_ID:\n",
        "    raise ValueError(\"Please replace 'your-gcp-project-id' with your actual GCP project ID.\")\n",
        "if BUCKET_NAME == \"your-gcs-bucket-name\" or not BUCKET_NAME:\n",
        "    raise ValueError(\"Please replace 'your-gcs-bucket-name' with your actual GCS bucket name.\")"
      ],
      "execution_count": null,
      "outputs": [],
      "id": "0d1c28f5"
    },
    {
      "cell_type": "code",
      "metadata": {
        "id": "f1a15351"
      },
      "source": [
        "BUCKET_URI = f\"gs://{BUCKET_NAME}\"\n",
        "PIPELINE_ROOT = f\"{BUCKET_URI}/pipeline_root_simple_example\"\n",
        "\n",
        "print(f\"Project ID: {PROJECT_ID}\")\n",
        "print(f\"Region: {REGION}\")\n",
        "print(f\"Bucket URI: {BUCKET_URI}\")\n",
        "print(f\"Pipeline Root: {PIPELINE_ROOT}\")"
      ],
      "execution_count": null,
      "outputs": [],
      "id": "f1a15351"
    },
    {
      "cell_type": "markdown",
      "metadata": {
        "id": "c53447e3"
      },
      "source": [
        "### Create a Cloud Storage bucket (if it doesn't exist)\n",
        "\n",
        "Create a storage bucket to store intermediate artifacts such as datasets."
      ],
      "id": "c53447e3"
    },
    {
      "cell_type": "code",
      "metadata": {
        "id": "5ada224e"
      },
      "source": [
        "# You only need to run this if your bucket doesn't already exist\n",
        "! gsutil mb -l {REGION} -p {PROJECT_ID} {BUCKET_URI}"
      ],
      "execution_count": null,
      "outputs": [],
      "id": "5ada224e"
    },
    {
      "cell_type": "code",
      "metadata": {
        "id": "db7fd687"
      },
      "source": [
        "# Initialize Vertex AI SDK\n",
        "from google.cloud import aiplatform\n",
        "aiplatform.init(project=PROJECT_ID, location=REGION, staging_bucket=BUCKET_URI)"
      ],
      "execution_count": null,
      "outputs": [],
      "id": "db7fd687"
    },
    {
      "cell_type": "code",
      "metadata": {
        "id": "c20b313f"
      },
      "source": [
        "# Get the service account\n",
        "SERVICE_ACCOUNT = !gcloud projects describe $PROJECT_ID --format=\"value(projectNumber)\"\n",
        "SERVICE_ACCOUNT = f\"{SERVICE_ACCOUNT[0].strip()}-compute@developer.gserviceaccount.com\"\n",
        "print(f\"Service Account: {SERVICE_ACCOUNT}\")"
      ],
      "execution_count": null,
      "outputs": [],
      "id": "c20b313f"
    },
    {
      "cell_type": "markdown",
      "source": [
        "Grant necessary permissions to the Compute Engine default service account.\n",
        "Grant roles/storage.objectAdmin and roles/aiplatform.user to the service account at the project level."
      ],
      "metadata": {
        "id": "nbirvLDXia_A"
      },
      "id": "nbirvLDXia_A"
    },
    {
      "cell_type": "code",
      "source": [],
      "metadata": {
        "id": "aiSjN47HNcPW"
      },
      "id": "aiSjN47HNcPW",
      "execution_count": null,
      "outputs": []
    },
    {
      "cell_type": "code",
      "metadata": {
        "id": "78fff607"
      },
      "source": [
        "# Grant necessary permissions to the Compute Engine default service account at the project level\n",
        "!gcloud projects add-iam-policy-binding {PROJECT_ID} --member=\"serviceAccount:{SERVICE_ACCOUNT}\" --role=\"roles/storage.objectAdmin\"\n",
        "!gcloud projects add-iam-policy-binding {PROJECT_ID} --member=\"serviceAccount:{SERVICE_ACCOUNT}\" --role=\"roles/aiplatform.user\"\n",
        "\n",
        "#!gsutil iam ch serviceAccount:{SERVICE_ACCOUNT}:roles/storage.objectAdmin {BUCKET_URI}"
      ],
      "execution_count": null,
      "outputs": [],
      "id": "78fff607"
    },
    {
      "cell_type": "code",
      "source": [],
      "metadata": {
        "id": "_goNU8zZrbXa"
      },
      "execution_count": null,
      "outputs": [],
      "id": "_goNU8zZrbXa"
    },
    {
      "cell_type": "markdown",
      "source": [
        "Set service account access for Vertex AI Pipelines. Run the following commands to grant your service account access to read and write pipeline artifacts in the bucket that you created in the previous step. You only need to run these once per service account."
      ],
      "metadata": {
        "id": "MDmWL06ifjik"
      },
      "id": "MDmWL06ifjik"
    },
    {
      "cell_type": "code",
      "execution_count": 1,
      "metadata": {
        "id": "ovArRTbqPpT2"
      },
      "outputs": [],
      "source": [
        "#! gsutil iam ch serviceAccount:{SERVICE_ACCOUNT}:roles/storage.objectCreator $BUCKET_URI\n",
        "\n",
        "#! gsutil iam ch serviceAccount:{SERVICE_ACCOUNT}:roles/storage.objectViewer $BUCKET_URI"
      ],
      "id": "ovArRTbqPpT2"
    },
    {
      "cell_type": "markdown",
      "metadata": {
        "id": "setup_vars"
      },
      "source": [
        "### Import libraries and define constants"
      ],
      "id": "setup_vars"
    },
    {
      "cell_type": "code",
      "source": [
        "import google.cloud.aiplatform as aip\n",
        "from kfp import compiler, dsl\n",
        "from kfp.dsl import ClassificationMetrics, Metrics, Output, component"
      ],
      "metadata": {
        "id": "s5ApgwTIbDwq"
      },
      "execution_count": null,
      "outputs": [],
      "id": "s5ApgwTIbDwq"
    },
    {
      "cell_type": "code",
      "source": [],
      "metadata": {
        "id": "wnnNKAbhbDtG"
      },
      "execution_count": null,
      "outputs": [],
      "id": "wnnNKAbhbDtG"
    },
    {
      "cell_type": "code",
      "source": [],
      "metadata": {
        "id": "_oneFUTYdqwo"
      },
      "execution_count": null,
      "outputs": [],
      "id": "_oneFUTYdqwo"
    },
    {
      "cell_type": "code",
      "source": [
        "import kfp.dsl as dsl\n",
        "from kfp.dsl import (Artifact,\n",
        "                        Dataset,\n",
        "                        Input,\n",
        "                        Model,\n",
        "                        Output,\n",
        "                        Metrics,\n",
        "                        ClassificationMetrics,\n",
        "                        component,\n",
        "                        OutputPath,\n",
        "                        InputPath)\n",
        "\n",
        "from typing import NamedTuple\n",
        "from datetime import datetime\n",
        "import os # Import os for path manipulation if needed\n",
        "from google.cloud.aiplatform import pipeline_jobs\n",
        "import json\n",
        "\n",
        "# --- Global Configuration Placeholders ---\n",
        "# IMPORTANT: Replace these with your actual GCP project ID, bucket, and region.\n",
        "# These variables need to be defined before they are used in the pipeline definition.\n",
        "####PROJECT_ID = \"vertex-test-id\" # e.g., \"my-gcp-project-12345\"\n",
        "#REGION = LOCATION             # e.g., \"us-central1\" or \"europe-west1\"\n",
        "# Define a GCS bucket path where pipeline artifacts will be stored.\n",
        "# Ensure this bucket exists and your service account has write permissions.\n",
        "####PIPELINE_ROOT = f\"gs://your-kfp-pipeline-bucket/wine-quality-pipeline-root\"\n",
        "\n",
        "# Generate a timestamp for unique display names for pipeline runs\n",
        "TIMESTAMP = datetime.now().strftime(\"%Y%m%d%H%M%S\")\n",
        "DISPLAY_NAME = f'pipeline-winequality-job-{TIMESTAMP}'"
      ],
      "metadata": {
        "id": "7lOBhvevdrUI"
      },
      "execution_count": null,
      "outputs": [],
      "id": "7lOBhvevdrUI"
    },
    {
      "cell_type": "code",
      "source": [],
      "metadata": {
        "id": "_ctyGiuBdrUJ"
      },
      "execution_count": null,
      "outputs": [],
      "id": "_ctyGiuBdrUJ"
    },
    {
      "cell_type": "markdown",
      "metadata": {
        "id": "459d2b87"
      },
      "source": [
        "# Create pipeline\n",
        "\n",
        "We create 4 components:  \n",
        "- Load data   \n",
        "- Train a  model\n",
        "- Evaluate the model\n",
        "- Deploy the model\n",
        "\n",
        "The components have dependencies on `pandas`, `sklearn`."
      ],
      "id": "459d2b87"
    },
    {
      "cell_type": "code",
      "source": [],
      "metadata": {
        "id": "f5diz9crbDpu"
      },
      "execution_count": null,
      "outputs": [],
      "id": "f5diz9crbDpu"
    },
    {
      "cell_type": "code",
      "source": [],
      "metadata": {
        "id": "SRxon47IbDj2"
      },
      "execution_count": null,
      "outputs": [],
      "id": "SRxon47IbDj2"
    },
    {
      "cell_type": "code",
      "source": [],
      "metadata": {
        "id": "Dzdi7aWzbDIQ"
      },
      "execution_count": null,
      "outputs": [],
      "id": "Dzdi7aWzbDIQ"
    },
    {
      "cell_type": "markdown",
      "metadata": {
        "id": "pipeline_constants"
      },
      "source": [
        "#### Vertex AI constants\n",
        "\n",
        "Setup up the following constants for Vertex AI pipelines:\n",
        "- `PIPELINE_NAME`: Set name for the pipeline.\n",
        "- `PIPELINE_ROOT`: Cloud Storage bucket path to store pipeline artifacts."
      ],
      "id": "pipeline_constants"
    },
    {
      "cell_type": "code",
      "execution_count": null,
      "metadata": {
        "id": "X0UUB32aPpT3"
      },
      "outputs": [],
      "source": [
        "#PIPELINE_NAME = \"metrics-pipeline-v2\"\n",
        "#PIPELINE_ROOT = \"{}/pipeline_root/iris\".format(BUCKET_URI)"
      ],
      "id": "X0UUB32aPpT3"
    },
    {
      "cell_type": "markdown",
      "source": [
        "Let's look at our data."
      ],
      "metadata": {
        "id": "2aJwQjsSxHFm"
      },
      "id": "2aJwQjsSxHFm"
    },
    {
      "cell_type": "code",
      "execution_count": null,
      "metadata": {
        "id": "5bd2d50e"
      },
      "outputs": [],
      "source": [
        "import pandas as pd\n",
        "df_wine = pd.read_csv(\"http://archive.ics.uci.edu/ml/machine-learning-databases/wine-quality/winequality-white.csv\", delimiter=\";\")\n",
        "df_wine.head()"
      ],
      "id": "5bd2d50e"
    },
    {
      "cell_type": "code",
      "source": [],
      "metadata": {
        "id": "q3JgqpD-XG17"
      },
      "execution_count": null,
      "outputs": [],
      "id": "q3JgqpD-XG17"
    },
    {
      "cell_type": "code",
      "source": [
        "df_wine.quality.describe()"
      ],
      "metadata": {
        "id": "MgiHwcpk5tW4"
      },
      "execution_count": null,
      "outputs": [],
      "id": "MgiHwcpk5tW4"
    },
    {
      "cell_type": "markdown",
      "metadata": {
        "id": "init_aip:mbsdk"
      },
      "source": [
        "## Initialize Vertex AI SDK for Python\n",
        "\n",
        "To get started using Vertex AI, you must [enable the Vertex AI API](https://console.cloud.google.com/flows/enableapi?apiid=aiplatform.googleapis.com)."
      ],
      "id": "init_aip:mbsdk"
    },
    {
      "cell_type": "code",
      "execution_count": null,
      "metadata": {
        "id": "zP6fkF3rPpT3"
      },
      "outputs": [],
      "source": [
        "aip.init(project=PROJECT_ID, staging_bucket=BUCKET_URI)"
      ],
      "id": "zP6fkF3rPpT3"
    },
    {
      "cell_type": "markdown",
      "metadata": {
        "id": "define_component:wine_classification"
      },
      "source": [
        "### Define pipeline components using scikit-learn\n",
        "\n",
        "In this section, you define some Python function-based components that use scikit-learn to train some classifiers and produce evaluations that can be visualized.\n",
        "\n",
        "Note the use of the `@component()` decorator in the definitions below. Optionally, you can set a list of packages for the component to install. That is, list the base image to use (the default is a Python 3.7 image), and the name of a component YAML file to generate, so that the component definition can be shared and reused."
      ],
      "id": "define_component:wine_classification"
    },
    {
      "cell_type": "code",
      "source": [],
      "metadata": {
        "id": "GaEjh1PWTdp4"
      },
      "execution_count": null,
      "outputs": [],
      "id": "GaEjh1PWTdp4"
    },
    {
      "cell_type": "markdown",
      "source": [
        "\n",
        "## First component: read the wine quality dataset and store it in Google Cloud Storage\n",
        "Also let's do some preprocessing as we always do in ML tasks.\n",
        "\n"
      ],
      "metadata": {
        "id": "2QRloZ9lLTLU"
      },
      "id": "2QRloZ9lLTLU"
    },
    {
      "cell_type": "code",
      "execution_count": null,
      "metadata": {
        "id": "51b051c9"
      },
      "outputs": [],
      "source": [
        "@component(\n",
        "  packages_to_install=[\"pandas\", \"numpy==1.23.5\", \"pyarrow\", \"scikit-learn==1.2.2\"],\n",
        "  base_image=\"python:3.9\",\n",
        "  #output_component_file=\"get_wine_data.yaml\"\n",
        ")\n",
        "def get_wine_data(\n",
        "  url: str, # Revert to standard parameter definition\n",
        "  # Use Output[T] to get a metadata-rich handle to the output artifact of type `Dataset`.\n",
        "  # the artifact already has path in the place, where we run the pipeline\n",
        "  dataset_train: Output[Dataset],\n",
        "  dataset_test: Output[Dataset]\n",
        "):\n",
        "  import numpy as np\n",
        "  import pandas as pd\n",
        "  from sklearn.model_selection import train_test_split\n",
        "\n",
        "  df_wine = pd.read_csv(url, delimiter=\";\")\n",
        "  df_wine['best_quality'] = df_wine.quality.apply(lambda x: int(x>=7))\n",
        "  df_wine['target'] = df_wine.best_quality\n",
        "  df_wine.drop(\n",
        "      columns=['quality', 'total sulfur dioxide', 'best_quality'],\n",
        "      inplace=True\n",
        "  )\n",
        "\n",
        "  train, test = train_test_split(df_wine, test_size=0.3)\n",
        "  train.to_csv(dataset_train.path + \".csv\" , index=False)\n",
        "  test.to_csv(dataset_test.path + \".csv\" , index=False)"
      ],
      "id": "51b051c9"
    },
    {
      "cell_type": "markdown",
      "metadata": {
        "id": "de33e87f"
      },
      "source": [
        "## Train the wine quality model\n"
      ],
      "id": "de33e87f"
    },
    {
      "cell_type": "code",
      "execution_count": null,
      "metadata": {
        "id": "9a50fc15"
      },
      "outputs": [],
      "source": [
        "@component(\n",
        "  packages_to_install = [\n",
        "      \"pandas\",\n",
        "      \"numpy==1.23.5\",\n",
        "      \"scikit-learn==1.2.2\"\n",
        "  ], base_image=\"python:3.9\",\n",
        ")\n",
        "def train_winequality(\n",
        "  # Use Input[T] to get a metadata-rich handle to the\n",
        "  # input artifact of type `Dataset`.\n",
        "  dataset:  Input[Dataset],\n",
        "  model: Output[Model],\n",
        "):\n",
        "  import pickle\n",
        "  import pandas as pd\n",
        "  from sklearn.ensemble import RandomForestClassifier\n",
        "\n",
        "  data = pd.read_csv(dataset.path+\".csv\")\n",
        "  model_rf = RandomForestClassifier(n_estimators=10)\n",
        "  model_rf.fit(\n",
        "      data.drop(columns=[\"target\"]),\n",
        "      data.target,\n",
        "  )\n",
        "  model.metadata[\"framework\"] = \"RF\"\n",
        "  file_name = model.path + \".pkl\"\n",
        "  with open(file_name, 'wb') as file:\n",
        "      pickle.dump(model_rf, file)"
      ],
      "id": "9a50fc15"
    },
    {
      "cell_type": "markdown",
      "metadata": {
        "id": "fdec3aea"
      },
      "source": [
        "## Evaluate the model\n",
        "The results of evaluation will be written in the file in GCP."
      ],
      "id": "fdec3aea"
    },
    {
      "cell_type": "code",
      "execution_count": null,
      "metadata": {
        "id": "c1b304bb"
      },
      "outputs": [],
      "source": [
        "@component(\n",
        "  packages_to_install = [\n",
        "      \"pandas\",\n",
        "      \"numpy==1.23.5\",\n",
        "      \"scikit-learn==1.2.2\"\n",
        "  ], base_image=\"python:3.9\",\n",
        ")\n",
        "def winequality_evaluation(\n",
        "  test_set:  Input[Dataset],\n",
        "  rf_winequality_model: Input[Model],\n",
        "  thresholds_dict_str: str,\n",
        "  metrics: Output[ClassificationMetrics],\n",
        "  kpi: Output[Metrics]\n",
        ") -> NamedTuple(\"output\", [(\"deploy\", str)]):\n",
        "\n",
        "  from sklearn.ensemble import RandomForestClassifier\n",
        "  import pandas as pd\n",
        "  import logging\n",
        "  import pickle\n",
        "  from sklearn.metrics import roc_curve, confusion_matrix, accuracy_score\n",
        "  import json\n",
        "  import typing\n",
        "\n",
        "  def threshold_check(val1, val2):\n",
        "      cond = \"false\"\n",
        "      if val1 >= val2 :\n",
        "          cond = \"true\"\n",
        "      return cond\n",
        "\n",
        "  data = pd.read_csv(test_set.path+\".csv\")\n",
        "  file_name = rf_winequality_model.path + \".pkl\"\n",
        "  with open(file_name, 'rb') as file:\n",
        "      model = pickle.load(file)\n",
        "\n",
        "  X_test = data.drop(columns=[\"target\"])\n",
        "  y_target = data.target\n",
        "  y_pred = model.predict(X_test)\n",
        "\n",
        "  y_scores =  model.predict_proba(X_test)[:, 1]\n",
        "  fpr, tpr, thresholds = roc_curve(\n",
        "        y_true=data.target.to_numpy(), y_score=y_scores, pos_label=True\n",
        "  )\n",
        "  metrics.log_roc_curve(fpr.tolist(), tpr.tolist(), thresholds.tolist())\n",
        "\n",
        "  metrics.log_confusion_matrix(\n",
        "      [\"False\", \"True\"],\n",
        "      confusion_matrix(\n",
        "          data.target, y_pred\n",
        "      ).tolist(),\n",
        "  )\n",
        "\n",
        "  accuracy = accuracy_score(data.target, y_pred.round())\n",
        "  thresholds_dict = json.loads(thresholds_dict_str)\n",
        "  rf_winequality_model.metadata[\"accuracy\"] = float(accuracy)\n",
        "  kpi.log_metric(\"accuracy\", float(accuracy))\n",
        "  deploy = threshold_check(float(accuracy), int(thresholds_dict['roc']))\n",
        "  return (deploy,)"
      ],
      "id": "c1b304bb"
    },
    {
      "cell_type": "markdown",
      "metadata": {
        "id": "139b5ad2"
      },
      "source": [
        "## Deploy model"
      ],
      "id": "139b5ad2"
    },
    {
      "cell_type": "code",
      "execution_count": null,
      "metadata": {
        "id": "0ae07652"
      },
      "outputs": [],
      "source": [
        "@component(\n",
        "  packages_to_install=[\"google-cloud-aiplatform\", \"scikit-learn==1.0.0\",  \"kfp\"],\n",
        "  base_image=\"python:3.9\",\n",
        "  #output_component_file=\"model_winequality_coponent.yml\"\n",
        ")\n",
        "def deploy_winequality(\n",
        "  model: Input[Model],\n",
        "  project: str,\n",
        "  region: str,\n",
        "  serving_container_image_uri : str,\n",
        "  vertex_endpoint: Output[Artifact],\n",
        "  vertex_model: Output[Model]\n",
        "):\n",
        "  from google.cloud import aiplatform\n",
        "  aiplatform.init(project=project, location=region)\n",
        "\n",
        "  DISPLAY_NAME  = \"winequality\"\n",
        "  MODEL_NAME = \"winequality-rf\"\n",
        "  ENDPOINT_NAME = \"winequality_endpoint\"\n",
        "\n",
        "  def create_endpoint():\n",
        "      endpoints = aiplatform.Endpoint.list(\n",
        "        filter='display_name=\"{}\"'.format(ENDPOINT_NAME),\n",
        "        order_by='create_time desc',\n",
        "        project=project,\n",
        "        location=region,\n",
        "      )\n",
        "      if len(endpoints) > 0:\n",
        "          return endpoints[0]  # most recently created\n",
        "      else:\n",
        "          return aiplatform.Endpoint.create(\n",
        "            display_name=ENDPOINT_NAME, project=project, location=region\n",
        "        )\n",
        "  endpoint = create_endpoint()\n",
        "\n",
        "  #Import a model programmatically\n",
        "  model_upload = aiplatform.Model.upload(\n",
        "      display_name = DISPLAY_NAME,\n",
        "      artifact_uri = model.uri.replace(\"model\", \"\"),\n",
        "      serving_container_image_uri = serving_container_image_uri,\n",
        "      serving_container_health_route=f\"/v1/models/{MODEL_NAME}\",\n",
        "      serving_container_predict_route=f\"/v1/models/{MODEL_NAME}:predict\",\n",
        "      serving_container_environment_variables={\n",
        "      \"MODEL_NAME\": MODEL_NAME,\n",
        "  },\n",
        "  )\n",
        "  model_deploy = model_upload.deploy(\n",
        "      machine_type=\"n1-standard-4\",\n",
        "      endpoint=endpoint,\n",
        "      traffic_split={\"0\": 100},\n",
        "      deployed_model_display_name=DISPLAY_NAME,\n",
        "  )\n",
        "\n",
        "  # Save the resource name to the output params\n",
        "  vertex_model.uri = model_deploy.resource_name"
      ],
      "id": "0ae07652"
    },
    {
      "cell_type": "code",
      "execution_count": null,
      "metadata": {
        "id": "7902a0f7"
      },
      "outputs": [],
      "source": [
        "from datetime import datetime\n",
        "\n",
        "TIMESTAMP = datetime.now().strftime(\"%Y%m%d%H%M%S\")\n",
        "DISPLAY_NAME = 'pipeline-winequality-job{}'.format(TIMESTAMP)"
      ],
      "id": "7902a0f7"
    },
    {
      "cell_type": "code",
      "source": [
        "DISPLAY_NAME"
      ],
      "metadata": {
        "id": "DNfk8o3YfdvK"
      },
      "id": "DNfk8o3YfdvK",
      "execution_count": null,
      "outputs": []
    },
    {
      "cell_type": "markdown",
      "metadata": {
        "id": "f98bd8c3"
      },
      "source": [
        "## Create the Pipeline itself\n",
        "\n",
        "Once you have created all the needed components define the pipeline and then compile it into a `.json` file."
      ],
      "id": "f98bd8c3"
    },
    {
      "cell_type": "code",
      "execution_count": null,
      "metadata": {
        "id": "FJsGtfhtcqgs"
      },
      "outputs": [],
      "source": [
        "PIPELINE_ROOT"
      ],
      "id": "FJsGtfhtcqgs"
    },
    {
      "cell_type": "code",
      "execution_count": null,
      "metadata": {
        "id": "d3d5f227"
      },
      "outputs": [],
      "source": [
        "@dsl.pipeline(\n",
        "  # Default pipeline root. You can override it when submitting the pipeline.\n",
        "  pipeline_root=PIPELINE_ROOT,\n",
        "  # A name for the pipeline. Use to determine the pipeline Context.\n",
        "  name=\"pipeline-winequality\",\n",
        ")\n",
        "def pipeline(\n",
        "  url: str = \"http://archive.ics.uci.edu/ml/machine-learning-databases/wine-quality/winequality-white.csv\",\n",
        "  project: str = PROJECT_ID,\n",
        "  region: str = REGION,\n",
        "  display_name: str = DISPLAY_NAME,\n",
        "  api_endpoint: str = REGION+\"-aiplatform.googleapis.com\",\n",
        "  thresholds_dict_str: str = '{\"roc\":0.8}',\n",
        "  serving_container_image_uri: str = \"europe-docker.pkg.dev/vertex-ai/prediction/sklearn-cpu.0-24:latest\"\n",
        "):\n",
        "  data_op = get_wine_data(url=url)\n",
        "  train_model_op = train_winequality(dataset=data_op.outputs[\"dataset_train\"])\n",
        "  model_evaluation_op = winequality_evaluation(\n",
        "      test_set=data_op.outputs[\"dataset_test\"],\n",
        "      rf_winequality_model=train_model_op.outputs[\"model\"],\n",
        "      thresholds_dict_str = thresholds_dict_str, # I deploy the model anly if the model performance is above the threshold\n",
        "  )\n",
        "\n",
        "  with dsl.Condition(\n",
        "      model_evaluation_op.outputs[\"deploy\"]==\"true\",\n",
        "      name=\"deploy-winequality\",\n",
        "  ):\n",
        "      deploy_model_op = deploy_winequality(\n",
        "        model=train_model_op.outputs['model'],\n",
        "        project=project,\n",
        "        region=region,\n",
        "        serving_container_image_uri = serving_container_image_uri,\n",
        "      )"
      ],
      "id": "d3d5f227"
    },
    {
      "cell_type": "markdown",
      "metadata": {
        "id": "6ba00f47"
      },
      "source": [
        "### Compile and run the pipeline"
      ],
      "id": "6ba00f47"
    },
    {
      "cell_type": "code",
      "execution_count": null,
      "metadata": {
        "id": "d68ec6e4"
      },
      "outputs": [],
      "source": [
        "compiler.Compiler().compile(\n",
        "    pipeline_func=pipeline,\n",
        "    package_path='ml_winequality.json'\n",
        ")"
      ],
      "id": "d68ec6e4"
    },
    {
      "cell_type": "markdown",
      "metadata": {
        "id": "c68be6e6"
      },
      "source": [
        "The pipeline compilation generates the **ml_winequality.json** job spec file."
      ],
      "id": "c68be6e6"
    },
    {
      "cell_type": "code",
      "execution_count": null,
      "metadata": {
        "id": "f1e47a43"
      },
      "outputs": [],
      "source": [
        "### Create a run"
      ],
      "id": "f1e47a43"
    },
    {
      "cell_type": "code",
      "execution_count": null,
      "metadata": {
        "id": "N_YjyECUdeDS"
      },
      "outputs": [],
      "source": [
        "aiplatform.init(project=PROJECT_ID, location=REGION)"
      ],
      "id": "N_YjyECUdeDS"
    },
    {
      "cell_type": "code",
      "execution_count": null,
      "metadata": {
        "id": "e4lycTgRtNkv"
      },
      "outputs": [],
      "source": [
        "# might be needed if we restarted the notebook before\n",
        "# from google.colab import auth\n",
        "# auth.authenticate_user()"
      ],
      "id": "e4lycTgRtNkv"
    },
    {
      "cell_type": "code",
      "execution_count": 38,
      "metadata": {
        "id": "b24bac81"
      },
      "outputs": [],
      "source": [
        "start_pipeline = pipeline_jobs.PipelineJob(\n",
        "  display_name=\"winequality-pipeline\",\n",
        "  template_path=\"ml_winequality.json\",\n",
        "  enable_caching=True,\n",
        "  location=REGION\n",
        ")"
      ],
      "id": "b24bac81"
    },
    {
      "cell_type": "code",
      "source": [
        "#stop execution\n",
        "raise SystemExit(1)"
      ],
      "metadata": {
        "id": "vZFcPN1VXjc4"
      },
      "id": "vZFcPN1VXjc4",
      "execution_count": null,
      "outputs": []
    },
    {
      "cell_type": "code",
      "execution_count": 39,
      "metadata": {
        "id": "gq0C91EItkmP"
      },
      "outputs": [],
      "source": [
        "start_pipeline.run(service_account=SERVICE_ACCOUNT)"
      ],
      "id": "gq0C91EItkmP"
    },
    {
      "cell_type": "markdown",
      "metadata": {
        "id": "dcb26db0"
      },
      "source": [
        "### List all models"
      ],
      "id": "dcb26db0"
    },
    {
      "cell_type": "code",
      "execution_count": 16,
      "metadata": {
        "id": "8e9c6097",
        "colab": {
          "base_uri": "https://localhost:8080/"
        },
        "outputId": "0d740e3b-50bb-4e9c-d2c5-d9e9a751adc5"
      },
      "outputs": [
        {
          "output_type": "stream",
          "name": "stdout",
          "text": [
            "Using endpoint [https://us-central1-aiplatform.googleapis.com/]\n",
            "MODEL_ID             DISPLAY_NAME\n",
            "5996071213355499520  winequality\n"
          ]
        }
      ],
      "source": [
        "! gcloud ai models list --region={REGION} --project={PROJECT_ID} --filter={DISPLAY_NAME}"
      ],
      "id": "8e9c6097"
    },
    {
      "cell_type": "markdown",
      "metadata": {
        "id": "a1de419e"
      },
      "source": [
        "### Schedule pipeline"
      ],
      "id": "a1de419e"
    },
    {
      "cell_type": "markdown",
      "metadata": {
        "id": "fbce39c8"
      },
      "source": [
        "The scheduled jobs are supported by the Cloud Scheduler and Cloud Functions.\n",
        "Check that the APIs Cloud Scheduler, Cloud Functions are enabled.\n",
        "\n",
        "Below is a code to create a scheduled pipeline run"
      ],
      "id": "fbce39c8"
    },
    {
      "cell_type": "code",
      "execution_count": null,
      "metadata": {
        "id": "c2cf02fc"
      },
      "outputs": [],
      "source": [
        "from kfp.v2.google.client import AIPlatformClient\n",
        "\n",
        "api_client = AIPlatformClient(\n",
        "                project_id=PROJECT_ID,\n",
        "                region=REGION,\n",
        "                )\n",
        "\n",
        "response = api_client.create_schedule_from_job_spec(\n",
        "    enable_caching=True,\n",
        "    job_spec_path=\"ml_winequality.json\",\n",
        "    schedule=\"0 0 * * 1\", # once per week on Monday\n",
        "    time_zone=\"Europe/Brussels\",  # change this as necessary\n",
        "    parameter_values={\"display_name\": DISPLAY_NAME},\n",
        "    pipeline_root=PIPELINE_ROOT,  # this argument is necessary if you did not specify PIPELINE_ROOT as part of the pipeline definition.\n",
        "    #service_account=SERVICE_ACCOUNT,\n",
        ")\n"
      ],
      "id": "c2cf02fc"
    },
    {
      "cell_type": "markdown",
      "metadata": {
        "id": "3bfc56a4"
      },
      "source": [
        "Once the scheduled job is created, you can see it listed in the Cloud Scheduler panel in the Console."
      ],
      "id": "3bfc56a4"
    },
    {
      "cell_type": "markdown",
      "metadata": {
        "id": "a14ebfea"
      },
      "source": [
        "# Get predictions from endpoint"
      ],
      "id": "a14ebfea"
    },
    {
      "cell_type": "markdown",
      "source": [
        "We can check our model performance by calling endpoint. And for sure we can call it for the new data coming."
      ],
      "metadata": {
        "id": "dSmxv1ehde9I"
      },
      "id": "dSmxv1ehde9I"
    },
    {
      "cell_type": "code",
      "source": [
        "! pip install gcsfs"
      ],
      "metadata": {
        "id": "GR46l2oH_274",
        "colab": {
          "base_uri": "https://localhost:8080/"
        },
        "outputId": "0aa78a30-8952-4cbc-eee3-8eb39e880b55"
      },
      "id": "GR46l2oH_274",
      "execution_count": 17,
      "outputs": [
        {
          "output_type": "stream",
          "name": "stdout",
          "text": [
            "Requirement already satisfied: gcsfs in /usr/local/lib/python3.11/dist-packages (2025.3.2)\n",
            "Requirement already satisfied: aiohttp!=4.0.0a0,!=4.0.0a1 in /usr/local/lib/python3.11/dist-packages (from gcsfs) (3.11.15)\n",
            "Requirement already satisfied: decorator>4.1.2 in /usr/local/lib/python3.11/dist-packages (from gcsfs) (4.4.2)\n",
            "Requirement already satisfied: fsspec==2025.3.2 in /usr/local/lib/python3.11/dist-packages (from gcsfs) (2025.3.2)\n",
            "Requirement already satisfied: google-auth>=1.2 in /usr/local/lib/python3.11/dist-packages (from gcsfs) (2.38.0)\n",
            "Requirement already satisfied: google-auth-oauthlib in /usr/local/lib/python3.11/dist-packages (from gcsfs) (1.2.2)\n",
            "Requirement already satisfied: google-cloud-storage in /usr/local/lib/python3.11/dist-packages (from gcsfs) (2.19.0)\n",
            "Requirement already satisfied: requests in /usr/local/lib/python3.11/dist-packages (from gcsfs) (2.32.3)\n",
            "Requirement already satisfied: aiohappyeyeballs>=2.3.0 in /usr/local/lib/python3.11/dist-packages (from aiohttp!=4.0.0a0,!=4.0.0a1->gcsfs) (2.6.1)\n",
            "Requirement already satisfied: aiosignal>=1.1.2 in /usr/local/lib/python3.11/dist-packages (from aiohttp!=4.0.0a0,!=4.0.0a1->gcsfs) (1.4.0)\n",
            "Requirement already satisfied: attrs>=17.3.0 in /usr/local/lib/python3.11/dist-packages (from aiohttp!=4.0.0a0,!=4.0.0a1->gcsfs) (25.3.0)\n",
            "Requirement already satisfied: frozenlist>=1.1.1 in /usr/local/lib/python3.11/dist-packages (from aiohttp!=4.0.0a0,!=4.0.0a1->gcsfs) (1.7.0)\n",
            "Requirement already satisfied: multidict<7.0,>=4.5 in /usr/local/lib/python3.11/dist-packages (from aiohttp!=4.0.0a0,!=4.0.0a1->gcsfs) (6.6.3)\n",
            "Requirement already satisfied: propcache>=0.2.0 in /usr/local/lib/python3.11/dist-packages (from aiohttp!=4.0.0a0,!=4.0.0a1->gcsfs) (0.3.2)\n",
            "Requirement already satisfied: yarl<2.0,>=1.17.0 in /usr/local/lib/python3.11/dist-packages (from aiohttp!=4.0.0a0,!=4.0.0a1->gcsfs) (1.20.1)\n",
            "Requirement already satisfied: cachetools<6.0,>=2.0.0 in /usr/local/lib/python3.11/dist-packages (from google-auth>=1.2->gcsfs) (5.5.2)\n",
            "Requirement already satisfied: pyasn1-modules>=0.2.1 in /usr/local/lib/python3.11/dist-packages (from google-auth>=1.2->gcsfs) (0.4.2)\n",
            "Requirement already satisfied: rsa<5,>=3.1.4 in /usr/local/lib/python3.11/dist-packages (from google-auth>=1.2->gcsfs) (4.9.1)\n",
            "Requirement already satisfied: requests-oauthlib>=0.7.0 in /usr/local/lib/python3.11/dist-packages (from google-auth-oauthlib->gcsfs) (2.0.0)\n",
            "Requirement already satisfied: google-api-core<3.0.0dev,>=2.15.0 in /usr/local/lib/python3.11/dist-packages (from google-cloud-storage->gcsfs) (2.25.1)\n",
            "Requirement already satisfied: google-cloud-core<3.0dev,>=2.3.0 in /usr/local/lib/python3.11/dist-packages (from google-cloud-storage->gcsfs) (2.4.3)\n",
            "Requirement already satisfied: google-resumable-media>=2.7.2 in /usr/local/lib/python3.11/dist-packages (from google-cloud-storage->gcsfs) (2.7.2)\n",
            "Requirement already satisfied: google-crc32c<2.0dev,>=1.0 in /usr/local/lib/python3.11/dist-packages (from google-cloud-storage->gcsfs) (1.7.1)\n",
            "Requirement already satisfied: charset-normalizer<4,>=2 in /usr/local/lib/python3.11/dist-packages (from requests->gcsfs) (3.4.2)\n",
            "Requirement already satisfied: idna<4,>=2.5 in /usr/local/lib/python3.11/dist-packages (from requests->gcsfs) (3.10)\n",
            "Requirement already satisfied: urllib3<3,>=1.21.1 in /usr/local/lib/python3.11/dist-packages (from requests->gcsfs) (2.4.0)\n",
            "Requirement already satisfied: certifi>=2017.4.17 in /usr/local/lib/python3.11/dist-packages (from requests->gcsfs) (2025.7.9)\n",
            "Requirement already satisfied: typing-extensions>=4.2 in /usr/local/lib/python3.11/dist-packages (from aiosignal>=1.1.2->aiohttp!=4.0.0a0,!=4.0.0a1->gcsfs) (4.14.1)\n",
            "Requirement already satisfied: googleapis-common-protos<2.0.0,>=1.56.2 in /usr/local/lib/python3.11/dist-packages (from google-api-core<3.0.0dev,>=2.15.0->google-cloud-storage->gcsfs) (1.70.0)\n",
            "Requirement already satisfied: protobuf!=3.20.0,!=3.20.1,!=4.21.0,!=4.21.1,!=4.21.2,!=4.21.3,!=4.21.4,!=4.21.5,<7.0.0,>=3.19.5 in /usr/local/lib/python3.11/dist-packages (from google-api-core<3.0.0dev,>=2.15.0->google-cloud-storage->gcsfs) (5.29.5)\n",
            "Requirement already satisfied: proto-plus<2.0.0,>=1.22.3 in /usr/local/lib/python3.11/dist-packages (from google-api-core<3.0.0dev,>=2.15.0->google-cloud-storage->gcsfs) (1.26.1)\n",
            "Requirement already satisfied: pyasn1<0.7.0,>=0.6.1 in /usr/local/lib/python3.11/dist-packages (from pyasn1-modules>=0.2.1->google-auth>=1.2->gcsfs) (0.6.1)\n",
            "Requirement already satisfied: oauthlib>=3.0.0 in /usr/local/lib/python3.11/dist-packages (from requests-oauthlib>=0.7.0->google-auth-oauthlib->gcsfs) (3.3.1)\n"
          ]
        }
      ]
    },
    {
      "cell_type": "code",
      "source": [
        "# here is how to read data from GCS. You need to be authorized!\n",
        "\n",
        "import gcsfs\n",
        "import pandas as pd\n",
        "\n",
        "fs = gcsfs.GCSFileSystem()\n",
        "\n",
        "data_path = 'gs://gcs-bucket-name-wine2/pipeline_root_simple_example/219162896674/pipeline-winequality-20250712224306/get-wine-data_1228575498100015104/dataset_test.csv'\n",
        "\n",
        "with fs.open(data_path, 'rb') as f:\n",
        "    test_df = pd.read_csv(f, nrows=10) # let's read just a chunk of data to speed up data load\n",
        "test_df.head()"
      ],
      "metadata": {
        "id": "vdVYOgku_s2Z",
        "colab": {
          "base_uri": "https://localhost:8080/",
          "height": 206
        },
        "outputId": "dfea073c-6e4f-47b8-b6cf-37e9b230b838"
      },
      "id": "vdVYOgku_s2Z",
      "execution_count": 22,
      "outputs": [
        {
          "output_type": "execute_result",
          "data": {
            "text/plain": [
              "   fixed acidity  volatile acidity  citric acid  residual sugar  chlorides  \\\n",
              "0            6.7             0.130         0.28             1.2      0.046   \n",
              "1            6.0             0.270         0.32             3.6      0.035   \n",
              "2            6.8             0.270         0.30            13.0      0.047   \n",
              "3            5.4             0.415         0.19             1.6      0.039   \n",
              "4            6.4             0.270         0.45             8.3      0.050   \n",
              "\n",
              "   free sulfur dioxide  density    pH  sulphates  alcohol  target  \n",
              "0                 35.0  0.99270  3.33       0.33     10.1       1  \n",
              "1                 36.0  0.99215  3.23       0.46     10.8       0  \n",
              "2                 69.0  0.99705  3.16       0.50      9.6       0  \n",
              "3                 27.0  0.99265  3.54       0.41     10.0       1  \n",
              "4                 52.0  0.99550  3.18       0.48      9.5       0  "
            ],
            "text/html": [
              "\n",
              "  <div id=\"df-b9fb41d5-1c26-434c-8ce9-902bf276e9f4\" class=\"colab-df-container\">\n",
              "    <div>\n",
              "<style scoped>\n",
              "    .dataframe tbody tr th:only-of-type {\n",
              "        vertical-align: middle;\n",
              "    }\n",
              "\n",
              "    .dataframe tbody tr th {\n",
              "        vertical-align: top;\n",
              "    }\n",
              "\n",
              "    .dataframe thead th {\n",
              "        text-align: right;\n",
              "    }\n",
              "</style>\n",
              "<table border=\"1\" class=\"dataframe\">\n",
              "  <thead>\n",
              "    <tr style=\"text-align: right;\">\n",
              "      <th></th>\n",
              "      <th>fixed acidity</th>\n",
              "      <th>volatile acidity</th>\n",
              "      <th>citric acid</th>\n",
              "      <th>residual sugar</th>\n",
              "      <th>chlorides</th>\n",
              "      <th>free sulfur dioxide</th>\n",
              "      <th>density</th>\n",
              "      <th>pH</th>\n",
              "      <th>sulphates</th>\n",
              "      <th>alcohol</th>\n",
              "      <th>target</th>\n",
              "    </tr>\n",
              "  </thead>\n",
              "  <tbody>\n",
              "    <tr>\n",
              "      <th>0</th>\n",
              "      <td>6.7</td>\n",
              "      <td>0.130</td>\n",
              "      <td>0.28</td>\n",
              "      <td>1.2</td>\n",
              "      <td>0.046</td>\n",
              "      <td>35.0</td>\n",
              "      <td>0.99270</td>\n",
              "      <td>3.33</td>\n",
              "      <td>0.33</td>\n",
              "      <td>10.1</td>\n",
              "      <td>1</td>\n",
              "    </tr>\n",
              "    <tr>\n",
              "      <th>1</th>\n",
              "      <td>6.0</td>\n",
              "      <td>0.270</td>\n",
              "      <td>0.32</td>\n",
              "      <td>3.6</td>\n",
              "      <td>0.035</td>\n",
              "      <td>36.0</td>\n",
              "      <td>0.99215</td>\n",
              "      <td>3.23</td>\n",
              "      <td>0.46</td>\n",
              "      <td>10.8</td>\n",
              "      <td>0</td>\n",
              "    </tr>\n",
              "    <tr>\n",
              "      <th>2</th>\n",
              "      <td>6.8</td>\n",
              "      <td>0.270</td>\n",
              "      <td>0.30</td>\n",
              "      <td>13.0</td>\n",
              "      <td>0.047</td>\n",
              "      <td>69.0</td>\n",
              "      <td>0.99705</td>\n",
              "      <td>3.16</td>\n",
              "      <td>0.50</td>\n",
              "      <td>9.6</td>\n",
              "      <td>0</td>\n",
              "    </tr>\n",
              "    <tr>\n",
              "      <th>3</th>\n",
              "      <td>5.4</td>\n",
              "      <td>0.415</td>\n",
              "      <td>0.19</td>\n",
              "      <td>1.6</td>\n",
              "      <td>0.039</td>\n",
              "      <td>27.0</td>\n",
              "      <td>0.99265</td>\n",
              "      <td>3.54</td>\n",
              "      <td>0.41</td>\n",
              "      <td>10.0</td>\n",
              "      <td>1</td>\n",
              "    </tr>\n",
              "    <tr>\n",
              "      <th>4</th>\n",
              "      <td>6.4</td>\n",
              "      <td>0.270</td>\n",
              "      <td>0.45</td>\n",
              "      <td>8.3</td>\n",
              "      <td>0.050</td>\n",
              "      <td>52.0</td>\n",
              "      <td>0.99550</td>\n",
              "      <td>3.18</td>\n",
              "      <td>0.48</td>\n",
              "      <td>9.5</td>\n",
              "      <td>0</td>\n",
              "    </tr>\n",
              "  </tbody>\n",
              "</table>\n",
              "</div>\n",
              "    <div class=\"colab-df-buttons\">\n",
              "\n",
              "  <div class=\"colab-df-container\">\n",
              "    <button class=\"colab-df-convert\" onclick=\"convertToInteractive('df-b9fb41d5-1c26-434c-8ce9-902bf276e9f4')\"\n",
              "            title=\"Convert this dataframe to an interactive table.\"\n",
              "            style=\"display:none;\">\n",
              "\n",
              "  <svg xmlns=\"http://www.w3.org/2000/svg\" height=\"24px\" viewBox=\"0 -960 960 960\">\n",
              "    <path d=\"M120-120v-720h720v720H120Zm60-500h600v-160H180v160Zm220 220h160v-160H400v160Zm0 220h160v-160H400v160ZM180-400h160v-160H180v160Zm440 0h160v-160H620v160ZM180-180h160v-160H180v160Zm440 0h160v-160H620v160Z\"/>\n",
              "  </svg>\n",
              "    </button>\n",
              "\n",
              "  <style>\n",
              "    .colab-df-container {\n",
              "      display:flex;\n",
              "      gap: 12px;\n",
              "    }\n",
              "\n",
              "    .colab-df-convert {\n",
              "      background-color: #E8F0FE;\n",
              "      border: none;\n",
              "      border-radius: 50%;\n",
              "      cursor: pointer;\n",
              "      display: none;\n",
              "      fill: #1967D2;\n",
              "      height: 32px;\n",
              "      padding: 0 0 0 0;\n",
              "      width: 32px;\n",
              "    }\n",
              "\n",
              "    .colab-df-convert:hover {\n",
              "      background-color: #E2EBFA;\n",
              "      box-shadow: 0px 1px 2px rgba(60, 64, 67, 0.3), 0px 1px 3px 1px rgba(60, 64, 67, 0.15);\n",
              "      fill: #174EA6;\n",
              "    }\n",
              "\n",
              "    .colab-df-buttons div {\n",
              "      margin-bottom: 4px;\n",
              "    }\n",
              "\n",
              "    [theme=dark] .colab-df-convert {\n",
              "      background-color: #3B4455;\n",
              "      fill: #D2E3FC;\n",
              "    }\n",
              "\n",
              "    [theme=dark] .colab-df-convert:hover {\n",
              "      background-color: #434B5C;\n",
              "      box-shadow: 0px 1px 3px 1px rgba(0, 0, 0, 0.15);\n",
              "      filter: drop-shadow(0px 1px 2px rgba(0, 0, 0, 0.3));\n",
              "      fill: #FFFFFF;\n",
              "    }\n",
              "  </style>\n",
              "\n",
              "    <script>\n",
              "      const buttonEl =\n",
              "        document.querySelector('#df-b9fb41d5-1c26-434c-8ce9-902bf276e9f4 button.colab-df-convert');\n",
              "      buttonEl.style.display =\n",
              "        google.colab.kernel.accessAllowed ? 'block' : 'none';\n",
              "\n",
              "      async function convertToInteractive(key) {\n",
              "        const element = document.querySelector('#df-b9fb41d5-1c26-434c-8ce9-902bf276e9f4');\n",
              "        const dataTable =\n",
              "          await google.colab.kernel.invokeFunction('convertToInteractive',\n",
              "                                                    [key], {});\n",
              "        if (!dataTable) return;\n",
              "\n",
              "        const docLinkHtml = 'Like what you see? Visit the ' +\n",
              "          '<a target=\"_blank\" href=https://colab.research.google.com/notebooks/data_table.ipynb>data table notebook</a>'\n",
              "          + ' to learn more about interactive tables.';\n",
              "        element.innerHTML = '';\n",
              "        dataTable['output_type'] = 'display_data';\n",
              "        await google.colab.output.renderOutput(dataTable, element);\n",
              "        const docLink = document.createElement('div');\n",
              "        docLink.innerHTML = docLinkHtml;\n",
              "        element.appendChild(docLink);\n",
              "      }\n",
              "    </script>\n",
              "  </div>\n",
              "\n",
              "\n",
              "    <div id=\"df-d2437bbb-eeb2-4e65-b81c-f61a2e5fc1b5\">\n",
              "      <button class=\"colab-df-quickchart\" onclick=\"quickchart('df-d2437bbb-eeb2-4e65-b81c-f61a2e5fc1b5')\"\n",
              "                title=\"Suggest charts\"\n",
              "                style=\"display:none;\">\n",
              "\n",
              "<svg xmlns=\"http://www.w3.org/2000/svg\" height=\"24px\"viewBox=\"0 0 24 24\"\n",
              "     width=\"24px\">\n",
              "    <g>\n",
              "        <path d=\"M19 3H5c-1.1 0-2 .9-2 2v14c0 1.1.9 2 2 2h14c1.1 0 2-.9 2-2V5c0-1.1-.9-2-2-2zM9 17H7v-7h2v7zm4 0h-2V7h2v10zm4 0h-2v-4h2v4z\"/>\n",
              "    </g>\n",
              "</svg>\n",
              "      </button>\n",
              "\n",
              "<style>\n",
              "  .colab-df-quickchart {\n",
              "      --bg-color: #E8F0FE;\n",
              "      --fill-color: #1967D2;\n",
              "      --hover-bg-color: #E2EBFA;\n",
              "      --hover-fill-color: #174EA6;\n",
              "      --disabled-fill-color: #AAA;\n",
              "      --disabled-bg-color: #DDD;\n",
              "  }\n",
              "\n",
              "  [theme=dark] .colab-df-quickchart {\n",
              "      --bg-color: #3B4455;\n",
              "      --fill-color: #D2E3FC;\n",
              "      --hover-bg-color: #434B5C;\n",
              "      --hover-fill-color: #FFFFFF;\n",
              "      --disabled-bg-color: #3B4455;\n",
              "      --disabled-fill-color: #666;\n",
              "  }\n",
              "\n",
              "  .colab-df-quickchart {\n",
              "    background-color: var(--bg-color);\n",
              "    border: none;\n",
              "    border-radius: 50%;\n",
              "    cursor: pointer;\n",
              "    display: none;\n",
              "    fill: var(--fill-color);\n",
              "    height: 32px;\n",
              "    padding: 0;\n",
              "    width: 32px;\n",
              "  }\n",
              "\n",
              "  .colab-df-quickchart:hover {\n",
              "    background-color: var(--hover-bg-color);\n",
              "    box-shadow: 0 1px 2px rgba(60, 64, 67, 0.3), 0 1px 3px 1px rgba(60, 64, 67, 0.15);\n",
              "    fill: var(--button-hover-fill-color);\n",
              "  }\n",
              "\n",
              "  .colab-df-quickchart-complete:disabled,\n",
              "  .colab-df-quickchart-complete:disabled:hover {\n",
              "    background-color: var(--disabled-bg-color);\n",
              "    fill: var(--disabled-fill-color);\n",
              "    box-shadow: none;\n",
              "  }\n",
              "\n",
              "  .colab-df-spinner {\n",
              "    border: 2px solid var(--fill-color);\n",
              "    border-color: transparent;\n",
              "    border-bottom-color: var(--fill-color);\n",
              "    animation:\n",
              "      spin 1s steps(1) infinite;\n",
              "  }\n",
              "\n",
              "  @keyframes spin {\n",
              "    0% {\n",
              "      border-color: transparent;\n",
              "      border-bottom-color: var(--fill-color);\n",
              "      border-left-color: var(--fill-color);\n",
              "    }\n",
              "    20% {\n",
              "      border-color: transparent;\n",
              "      border-left-color: var(--fill-color);\n",
              "      border-top-color: var(--fill-color);\n",
              "    }\n",
              "    30% {\n",
              "      border-color: transparent;\n",
              "      border-left-color: var(--fill-color);\n",
              "      border-top-color: var(--fill-color);\n",
              "      border-right-color: var(--fill-color);\n",
              "    }\n",
              "    40% {\n",
              "      border-color: transparent;\n",
              "      border-right-color: var(--fill-color);\n",
              "      border-top-color: var(--fill-color);\n",
              "    }\n",
              "    60% {\n",
              "      border-color: transparent;\n",
              "      border-right-color: var(--fill-color);\n",
              "    }\n",
              "    80% {\n",
              "      border-color: transparent;\n",
              "      border-right-color: var(--fill-color);\n",
              "      border-bottom-color: var(--fill-color);\n",
              "    }\n",
              "    90% {\n",
              "      border-color: transparent;\n",
              "      border-bottom-color: var(--fill-color);\n",
              "    }\n",
              "  }\n",
              "</style>\n",
              "\n",
              "      <script>\n",
              "        async function quickchart(key) {\n",
              "          const quickchartButtonEl =\n",
              "            document.querySelector('#' + key + ' button');\n",
              "          quickchartButtonEl.disabled = true;  // To prevent multiple clicks.\n",
              "          quickchartButtonEl.classList.add('colab-df-spinner');\n",
              "          try {\n",
              "            const charts = await google.colab.kernel.invokeFunction(\n",
              "                'suggestCharts', [key], {});\n",
              "          } catch (error) {\n",
              "            console.error('Error during call to suggestCharts:', error);\n",
              "          }\n",
              "          quickchartButtonEl.classList.remove('colab-df-spinner');\n",
              "          quickchartButtonEl.classList.add('colab-df-quickchart-complete');\n",
              "        }\n",
              "        (() => {\n",
              "          let quickchartButtonEl =\n",
              "            document.querySelector('#df-d2437bbb-eeb2-4e65-b81c-f61a2e5fc1b5 button');\n",
              "          quickchartButtonEl.style.display =\n",
              "            google.colab.kernel.accessAllowed ? 'block' : 'none';\n",
              "        })();\n",
              "      </script>\n",
              "    </div>\n",
              "\n",
              "    </div>\n",
              "  </div>\n"
            ],
            "application/vnd.google.colaboratory.intrinsic+json": {
              "type": "dataframe",
              "variable_name": "test_df",
              "summary": "{\n  \"name\": \"test_df\",\n  \"rows\": 10,\n  \"fields\": [\n    {\n      \"column\": \"fixed acidity\",\n      \"properties\": {\n        \"dtype\": \"number\",\n        \"std\": 0.8252272414311101,\n        \"min\": 5.4,\n        \"max\": 8.5,\n        \"num_unique_values\": 10,\n        \"samples\": [\n          8.5,\n          6.0,\n          6.3\n        ],\n        \"semantic_type\": \"\",\n        \"description\": \"\"\n      }\n    },\n    {\n      \"column\": \"volatile acidity\",\n      \"properties\": {\n        \"dtype\": \"number\",\n        \"std\": 0.09664511253952669,\n        \"min\": 0.13,\n        \"max\": 0.415,\n        \"num_unique_values\": 8,\n        \"samples\": [\n          0.27,\n          0.39,\n          0.13\n        ],\n        \"semantic_type\": \"\",\n        \"description\": \"\"\n      }\n    },\n    {\n      \"column\": \"citric acid\",\n      \"properties\": {\n        \"dtype\": \"number\",\n        \"std\": 0.09649409884086753,\n        \"min\": 0.18,\n        \"max\": 0.46,\n        \"num_unique_values\": 10,\n        \"samples\": [\n          0.36,\n          0.32,\n          0.18\n        ],\n        \"semantic_type\": \"\",\n        \"description\": \"\"\n      }\n    },\n    {\n      \"column\": \"residual sugar\",\n      \"properties\": {\n        \"dtype\": \"number\",\n        \"std\": 4.886773532255773,\n        \"min\": 1.2,\n        \"max\": 14.9,\n        \"num_unique_values\": 9,\n        \"samples\": [\n          5.4,\n          3.6,\n          3.5\n        ],\n        \"semantic_type\": \"\",\n        \"description\": \"\"\n      }\n    },\n    {\n      \"column\": \"chlorides\",\n      \"properties\": {\n        \"dtype\": \"number\",\n        \"std\": 0.007290785661062568,\n        \"min\": 0.027,\n        \"max\": 0.051,\n        \"num_unique_values\": 8,\n        \"samples\": [\n          0.035,\n          0.027,\n          0.046\n        ],\n        \"semantic_type\": \"\",\n        \"description\": \"\"\n      }\n    },\n    {\n      \"column\": \"free sulfur dioxide\",\n      \"properties\": {\n        \"dtype\": \"number\",\n        \"std\": 19.629909152447276,\n        \"min\": 23.0,\n        \"max\": 82.0,\n        \"num_unique_values\": 10,\n        \"samples\": [\n          47.0,\n          36.0,\n          23.0\n        ],\n        \"semantic_type\": \"\",\n        \"description\": \"\"\n      }\n    },\n    {\n      \"column\": \"density\",\n      \"properties\": {\n        \"dtype\": \"number\",\n        \"std\": 0.002550208052514763,\n        \"min\": 0.99018,\n        \"max\": 0.9982,\n        \"num_unique_values\": 10,\n        \"samples\": [\n          0.9982,\n          0.99215,\n          0.99018\n        ],\n        \"semantic_type\": \"\",\n        \"description\": \"\"\n      }\n    },\n    {\n      \"column\": \"pH\",\n      \"properties\": {\n        \"dtype\": \"number\",\n        \"std\": 0.1346600658448277,\n        \"min\": 3.08,\n        \"max\": 3.54,\n        \"num_unique_values\": 10,\n        \"samples\": [\n          3.08,\n          3.23,\n          3.34\n        ],\n        \"semantic_type\": \"\",\n        \"description\": \"\"\n      }\n    },\n    {\n      \"column\": \"sulphates\",\n      \"properties\": {\n        \"dtype\": \"number\",\n        \"std\": 0.13515834335244636,\n        \"min\": 0.31,\n        \"max\": 0.75,\n        \"num_unique_values\": 10,\n        \"samples\": [\n          0.31,\n          0.46,\n          0.54\n        ],\n        \"semantic_type\": \"\",\n        \"description\": \"\"\n      }\n    },\n    {\n      \"column\": \"alcohol\",\n      \"properties\": {\n        \"dtype\": \"number\",\n        \"std\": 1.004213346079629,\n        \"min\": 9.5,\n        \"max\": 12.8,\n        \"num_unique_values\": 7,\n        \"samples\": [\n          10.1,\n          10.8,\n          12.8\n        ],\n        \"semantic_type\": \"\",\n        \"description\": \"\"\n      }\n    },\n    {\n      \"column\": \"target\",\n      \"properties\": {\n        \"dtype\": \"number\",\n        \"std\": 0,\n        \"min\": 0,\n        \"max\": 1,\n        \"num_unique_values\": 2,\n        \"samples\": [\n          0,\n          1\n        ],\n        \"semantic_type\": \"\",\n        \"description\": \"\"\n      }\n    }\n  ]\n}"
            }
          },
          "metadata": {},
          "execution_count": 22
        }
      ]
    },
    {
      "cell_type": "code",
      "source": [
        "# create instances\n",
        "instances = test_df.drop(columns='target').values.tolist()"
      ],
      "metadata": {
        "id": "JFlbY9UOeTjU"
      },
      "id": "JFlbY9UOeTjU",
      "execution_count": 23,
      "outputs": []
    },
    {
      "cell_type": "code",
      "source": [
        "instances"
      ],
      "metadata": {
        "id": "QeYyCAwMebBF",
        "colab": {
          "base_uri": "https://localhost:8080/"
        },
        "outputId": "6929f52d-a14b-4259-f736-5d9773315c65"
      },
      "id": "QeYyCAwMebBF",
      "execution_count": 25,
      "outputs": [
        {
          "output_type": "execute_result",
          "data": {
            "text/plain": [
              "[[6.7, 0.13, 0.28, 1.2, 0.046, 35.0, 0.9927, 3.33, 0.33, 10.1],\n",
              " [6.0, 0.27, 0.32, 3.6, 0.035, 36.0, 0.99215, 3.23, 0.46, 10.8],\n",
              " [6.8, 0.27, 0.3, 13.0, 0.047, 69.0, 0.99705, 3.16, 0.5, 9.6],\n",
              " [5.4, 0.415, 0.19, 1.6, 0.039, 27.0, 0.99265, 3.54, 0.41, 10.0],\n",
              " [6.4, 0.27, 0.45, 8.3, 0.05, 52.0, 0.9955, 3.18, 0.48, 9.5],\n",
              " [6.3, 0.41, 0.18, 3.5, 0.027, 23.0, 0.99018, 3.34, 0.54, 12.8],\n",
              " [7.2, 0.19, 0.46, 3.8, 0.041, 82.0, 0.9932, 3.19, 0.6, 11.2],\n",
              " [6.5, 0.39, 0.23, 5.4, 0.051, 25.0, 0.9934, 3.24, 0.35, 10.0],\n",
              " [8.5, 0.32, 0.36, 14.9, 0.041, 47.0, 0.9982, 3.08, 0.31, 10.0],\n",
              " [7.1, 0.21, 0.33, 1.2, 0.039, 34.0, 0.99112, 3.11, 0.75, 11.2]]"
            ]
          },
          "metadata": {},
          "execution_count": 25
        }
      ]
    },
    {
      "cell_type": "code",
      "source": [
        "ENDPOINT_ID = !(gcloud ai endpoints list --region=$REGION \\\n",
        "              --format='value(ENDPOINT_ID)'\\\n",
        "              --filter=display_name=$ENDPOINT_NAME \\\n",
        "              --sort-by=creationTimeStamp)"
      ],
      "metadata": {
        "id": "ThdpwIcMl-2Z"
      },
      "id": "ThdpwIcMl-2Z",
      "execution_count": 26,
      "outputs": []
    },
    {
      "cell_type": "code",
      "execution_count": 30,
      "metadata": {
        "id": "f69cd649"
      },
      "outputs": [],
      "source": [
        "from google.cloud import aiplatform\n",
        "aiplatform.init(project=PROJECT_ID, location=REGION)\n",
        "\n",
        "ENDPOINT_NAME=\"winequality_endpoint\"\n",
        "\n",
        "# get the endpoint id\n",
        "endpoint_output = !(gcloud ai endpoints list --region=$REGION \\\n",
        "              --format='value(ENDPOINT_ID)'\\\n",
        "              --filter=display_name=$ENDPOINT_NAME \\\n",
        "              --sort-by=creationTimeStamp --project=$PROJECT_ID)\n",
        "\n",
        "if not endpoint_output:\n",
        "    raise ValueError(f\"No endpoint found with display name {ENDPOINT_NAME}\")\n",
        "\n",
        "# Extract the actual endpoint ID from the command output\n",
        "# The actual ID should be the last line of the output\n",
        "ENDPOINT_ID = endpoint_output[-1].strip()\n",
        "\n",
        "\n",
        "# aiplatform.init(project=PROJECT_ID, location=REGION)\n",
        "endpoint = aiplatform.Endpoint(ENDPOINT_ID)\n",
        "prediction = endpoint.predict(instances=instances)"
      ],
      "id": "f69cd649"
    },
    {
      "cell_type": "code",
      "source": [
        "prediction.predictions"
      ],
      "metadata": {
        "id": "9lLslB-dfcoM",
        "colab": {
          "base_uri": "https://localhost:8080/"
        },
        "outputId": "4e097c58-cad9-49a8-c29c-a3dd65079beb"
      },
      "id": "9lLslB-dfcoM",
      "execution_count": 31,
      "outputs": [
        {
          "output_type": "execute_result",
          "data": {
            "text/plain": [
              "[0.0, 0.0, 0.0, 0.0, 0.0, 1.0, 0.0, 0.0, 0.0, 0.0]"
            ]
          },
          "metadata": {},
          "execution_count": 31
        }
      ]
    },
    {
      "cell_type": "code",
      "source": [
        "list(map(int, prediction.predictions)), test_df.target.tolist()"
      ],
      "metadata": {
        "id": "WTcsB8Ro-wPF",
        "colab": {
          "base_uri": "https://localhost:8080/"
        },
        "outputId": "5a996432-75d7-460d-9a2a-da9b8d43e47c"
      },
      "id": "WTcsB8Ro-wPF",
      "execution_count": 32,
      "outputs": [
        {
          "output_type": "execute_result",
          "data": {
            "text/plain": [
              "([0, 0, 0, 0, 0, 1, 0, 0, 0, 0], [1, 0, 0, 1, 0, 1, 1, 0, 0, 0])"
            ]
          },
          "metadata": {},
          "execution_count": 32
        }
      ]
    },
    {
      "cell_type": "markdown",
      "source": [
        "So the model performance is quite good. At least on those 10 records :)"
      ],
      "metadata": {
        "id": "YpE1Jy2Sf5pe"
      },
      "id": "YpE1Jy2Sf5pe"
    },
    {
      "cell_type": "markdown",
      "metadata": {
        "id": "cf61af7d"
      },
      "source": [
        "# Test the batch prediction\n",
        "\n",
        "Takes some time, but at least you will have a code and understanding of how to run it.\n",
        "\n"
      ],
      "id": "cf61af7d"
    },
    {
      "cell_type": "code",
      "execution_count": null,
      "metadata": {
        "id": "e748c28b"
      },
      "outputs": [],
      "source": [
        "# Define variables\n",
        "job_display_name = \"winequality-batch-prediction-job\"\n",
        "MODEL_NAME=\"winequality\"\n",
        "ENDPOINT_NAME=\"winequality_endpoint\"\n",
        "BUCKET_URI=\"gs://tokyo-charge-378510-bucket-winequality/pipeline_root_wine/24871937313/pipeline-winequality-20230222111722/get_wine_data_5671759263626690560\"\n",
        "input_file_name=\"dataset_test.csv\"\n",
        "\n",
        "# Get model id\n",
        "MODEL_ID=!(gcloud ai models list --region=$REGION \\\n",
        "           --filter=display_name=$MODEL_NAME)\n",
        "MODEL_ID=MODEL_ID[2].split(\" \")[0]\n",
        "\n",
        "model_resource_name = f'projects/{PROJECT_ID}/locations/{REGION}/models/{MODEL_ID}'\n",
        "gcs_source= [f\"{BUCKET_URI}/{input_file_name}\"]\n",
        "gcs_destination_prefix=f\"{BUCKET_URI}/output\"\n",
        "\n",
        "def batch_prediction_job(\n",
        "    project: str,\n",
        "    location: str,\n",
        "    model_resource_name: str,\n",
        "    job_display_name: str,\n",
        "    gcs_source: str,\n",
        "    gcs_destination_prefix: str,\n",
        "    machine_type: str,\n",
        "    starting_replica_count: int = 1, # The number of nodes for this batch prediction job.\n",
        "    max_replica_count: int = 1,\n",
        "):\n",
        "    aiplatform.init(project=project, location=location)\n",
        "\n",
        "    model = aiplatform.Model(model_resource_name)\n",
        "\n",
        "    batch_prediction_job = model.batch_predict(\n",
        "        job_display_name=job_display_name,\n",
        "        instances_format='csv', #json\n",
        "        gcs_source=[f\"{BUCKET_URI}/{input_file_name}\"],\n",
        "        gcs_destination_prefix=f\"{BUCKET_URI}/output\",\n",
        "        machine_type=machine_type, # must be present\n",
        "    )\n",
        "    batch_prediction_job.wait()\n",
        "    print(batch_prediction_job.display_name)\n",
        "    print(batch_prediction_job.state)\n",
        "    return batch_prediction_job\n",
        "\n",
        "batch_prediction_job(PROJECT_ID, REGION, model_resource_name, job_display_name, gcs_source, gcs_destination_prefix, machine_type=\"n1-standard-2\")"
      ],
      "id": "e748c28b"
    },
    {
      "cell_type": "markdown",
      "source": [
        "# Clean up!"
      ],
      "metadata": {
        "id": "7v5R-N5bgSWz"
      },
      "id": "7v5R-N5bgSWz"
    },
    {
      "cell_type": "code",
      "source": [
        "# setup the following parameters manually\n",
        "\n",
        "DISPLAY_NAME = \"pipeline-winequality-20230222111722\"\n",
        "BUCKET_URI = \"gs://tokyo-charge-378510-bucket-winequality/pipeline_root_wine/24871937313/aaa\""
      ],
      "metadata": {
        "id": "8r9QmStlgikz"
      },
      "id": "8r9QmStlgikz",
      "execution_count": null,
      "outputs": []
    },
    {
      "cell_type": "code",
      "source": [
        "import os\n",
        "delete_pipeline = True\n",
        "delete_bucket = True\n",
        "\n",
        "try:\n",
        "    if delete_pipeline and \"DISPLAY_NAME\" in globals():\n",
        "        pipelines = aiplatform.PipelineJob.list(\n",
        "            filter=f\"display_name={DISPLAY_NAME}\", order_by=\"create_time\"\n",
        "        )\n",
        "        pipeline = pipelines[0]\n",
        "        aiplatform.PipelineJob.delete(pipeline.resource_name)\n",
        "        print(\"Deleted pipeline:\", pipeline)\n",
        "except Exception as e:\n",
        "    print(e)\n",
        "\n",
        "if delete_bucket or os.getenv(\"IS_TESTING\"):\n",
        "    ! gsutil rm -r $BUCKET_URI"
      ],
      "metadata": {
        "id": "OXk8Udktgezz"
      },
      "id": "OXk8Udktgezz",
      "execution_count": null,
      "outputs": []
    },
    {
      "cell_type": "code",
      "source": [
        "if delete_bucket or os.getenv(\"IS_TESTING\"):\n",
        "    ! gsutil rm -r $BUCKET_URI"
      ],
      "metadata": {
        "id": "Q_NsbE0aheOY"
      },
      "id": "Q_NsbE0aheOY",
      "execution_count": null,
      "outputs": []
    },
    {
      "cell_type": "markdown",
      "source": [
        "Then we need to go the the Vertex AI and delete deployed models.\n",
        "This is important as everyhting we store on cloud costs something."
      ],
      "metadata": {
        "id": "zC4dso77jpPn"
      },
      "id": "zC4dso77jpPn"
    },
    {
      "cell_type": "code",
      "metadata": {
        "id": "a1bf95ab"
      },
      "source": [
        "# Define the get_wine_data component using a YAML specification\n",
        "get_wine_data_yaml = \"\"\"\n",
        "name: Get Wine Data\n",
        "description: Reads the wine quality dataset and splits it into train and test sets.\n",
        "inputs:\n",
        "  - name: url\n",
        "    type: String\n",
        "outputs:\n",
        "  - name: dataset_train\n",
        "    type: Dataset\n",
        "  - name: dataset_test\n",
        "    type: Dataset\n",
        "implementation:\n",
        "  container:\n",
        "    image: python:3.9\n",
        "    command:\n",
        "      - python\n",
        "      - -c\n",
        "      - |\n",
        "        import pandas as pd\n",
        "        from sklearn.model_selection import train_test_split\n",
        "        import argparse\n",
        "\n",
        "        parser = argparse.ArgumentParser()\n",
        "        parser.add_argument('--url', type=str)\n",
        "        parser.add_argument('--dataset_train_path', type=str)\n",
        "        parser.add_argument('--dataset_test_path', type=str)\n",
        "        args = parser.parse_args()\n",
        "\n",
        "        df_wine = pd.read_csv(args.url, delimiter=\";\")\n",
        "        df_wine['best_quality'] = df_wine.quality.apply(lambda x: int(x>=7))\n",
        "        df_wine['target'] = df_wine.best_quality\n",
        "        df_wine.drop(\n",
        "            columns=['quality', 'total sulfur dioxide', 'best_quality'],\n",
        "            inplace=True\n",
        "        )\n",
        "\n",
        "        train, test = train_test_split(df_wine, test_size=0.3)\n",
        "        train.to_csv(args.dataset_train_path + \".csv\" , index=False)\n",
        "        test.to_csv(args.dataset_test_path + \".csv\" , index=False)\n",
        "\n",
        "    args:\n",
        "      - --url\n",
        "      - {inputValue: url}\n",
        "      - --dataset_train_path\n",
        "      - {outputPath: dataset_train}\n",
        "      - --dataset_test_path\n",
        "      - {outputPath: dataset_test}\n",
        "\"\"\"\n",
        "\n",
        "from kfp import components\n",
        "get_wine_data_op = components.load_component_from_yaml(get_wine_data_yaml)"
      ],
      "id": "a1bf95ab",
      "execution_count": null,
      "outputs": []
    },
    {
      "cell_type": "code",
      "metadata": {
        "id": "a537e633"
      },
      "source": [
        "@dsl.pipeline(\n",
        "  # Default pipeline root. You can override it when submitting the pipeline.\n",
        "  pipeline_root=PIPELINE_ROOT,\n",
        "  # A name for the pipeline. Use to determine the pipeline Context.\n",
        "  name=\"pipeline-winequality\",\n",
        ")\n",
        "def pipeline(\n",
        "  url: str = \"http://archive.ics.uci.edu/ml/machine-learning-databases/wine-quality/winequality-white.csv\",\n",
        "  project: str = PROJECT_ID,\n",
        "  region: str = REGION,\n",
        "  display_name: str = DISPLAY_NAME,\n",
        "  api_endpoint: str = REGION+\"-aiplatform.googleapis.com\",\n",
        "  thresholds_dict_str: str = '{\"roc\":0.8}',\n",
        "  serving_container_image_uri: str = \"europe-docker.pkg.dev/vertex-ai/prediction/sklearn-cpu.0-24:latest\"\n",
        "):\n",
        "  data_op = get_wine_data_op(url=url)\n",
        "  train_model_op = train_winequality(dataset=data_op.outputs[\"dataset_train\"])\n",
        "  model_evaluation_op = winequality_evaluation(\n",
        "      test_set=data_op.outputs[\"dataset_test\"],\n",
        "      rf_winequality_model=train_model_op.outputs[\"model\"],\n",
        "      thresholds_dict_str = thresholds_dict_str, # I deploy the model anly if the model performance is above the threshold\n",
        "  )\n",
        "\n",
        "  with dsl.Condition(\n",
        "      model_evaluation_op.outputs[\"deploy\"]==\"true\",\n",
        "      name=\"deploy-winequality\",\n",
        "  ):\n",
        "      deploy_model_op = deploy_winequality(\n",
        "        model=train_model_op.outputs['model'],\n",
        "        project=project,\n",
        "        region=region,\n",
        "        serving_container_image_uri = serving_container_image_uri,\n",
        "      )"
      ],
      "id": "a537e633",
      "execution_count": null,
      "outputs": []
    }
  ],
  "metadata": {
    "colab": {
      "provenance": [],
      "include_colab_link": true
    },
    "environment": {
      "name": "tf2-gpu.2-3.m75",
      "type": "gcloud",
      "uri": "gcr.io/deeplearning-platform-release/tf2-gpu.2-3:m75"
    },
    "kernelspec": {
      "display_name": "vetex_env",
      "language": "python",
      "name": "vetex_env"
    },
    "language_info": {
      "codemirror_mode": {
        "name": "ipython",
        "version": 3
      },
      "file_extension": ".py",
      "mimetype": "text/x-python",
      "name": "python",
      "nbconvert_exporter": "python",
      "pygments_lexer": "ipython3",
      "version": "3.7.10"
    }
  },
  "nbformat": 4,
  "nbformat_minor": 5
}