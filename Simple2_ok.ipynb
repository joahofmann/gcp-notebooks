{
  "nbformat": 4,
  "nbformat_minor": 0,
  "metadata": {
    "colab": {
      "provenance": [],
      "authorship_tag": "ABX9TyMx89cvkzQSmMZc0pm9b+O5",
      "include_colab_link": true
    },
    "kernelspec": {
      "name": "python3",
      "display_name": "Python 3"
    },
    "language_info": {
      "name": "python"
    }
  },
  "cells": [
    {
      "cell_type": "markdown",
      "metadata": {
        "id": "view-in-github",
        "colab_type": "text"
      },
      "source": [
        "<a href=\"https://colab.research.google.com/github/joahofmann/gcp-notebooks/blob/main/Simple2_ok.ipynb\" target=\"_parent\"><img src=\"https://colab.research.google.com/assets/colab-badge.svg\" alt=\"Open In Colab\"/></a>"
      ]
    },
    {
      "cell_type": "code",
      "execution_count": null,
      "metadata": {
        "id": "1sK4APCfFnb0"
      },
      "outputs": [],
      "source": []
    },
    {
      "cell_type": "markdown",
      "metadata": {
        "id": "2b59cd86"
      },
      "source": [
        "# Vertex AI Pipelines Example\n",
        "\n",
        "This notebook demonstrates how to create and run a simple Kubeflow pipeline on Vertex AI."
      ]
    },
    {
      "cell_type": "markdown",
      "metadata": {
        "id": "43b81849"
      },
      "source": [
        "# 1. Setup and Authentication"
      ]
    },
    {
      "cell_type": "code",
      "metadata": {
        "id": "32d43e95",
        "colab": {
          "base_uri": "https://localhost:8080/"
        },
        "outputId": "a9ba38c3-ce51-4ea0-9e53-6b2f42507049"
      },
      "source": [
        "# Install necessary libraries\n",
        "!pip install --upgrade google-cloud-aiplatform google-cloud-storage kfp google-cloud-pipeline-components --quiet"
      ],
      "execution_count": 1,
      "outputs": [
        {
          "output_type": "stream",
          "name": "stdout",
          "text": [
            "\u001b[?25l     \u001b[90m━━━━━━━━━━━━━━━━━━━━━━━━━━━━━━━━━━━━━━━━\u001b[0m \u001b[32m0.0/269.1 kB\u001b[0m \u001b[31m?\u001b[0m eta \u001b[36m-:--:--\u001b[0m\r\u001b[2K     \u001b[91m━━━━━━━━━━━━━━━━━━━━━━━━━━━━━━━━━━━━━━\u001b[0m\u001b[91m╸\u001b[0m \u001b[32m266.2/269.1 kB\u001b[0m \u001b[31m9.1 MB/s\u001b[0m eta \u001b[36m0:00:01\u001b[0m\r\u001b[2K     \u001b[90m━━━━━━━━━━━━━━━━━━━━━━━━━━━━━━━━━━━━━━━\u001b[0m \u001b[32m269.1/269.1 kB\u001b[0m \u001b[31m5.9 MB/s\u001b[0m eta \u001b[36m0:00:00\u001b[0m\n",
            "\u001b[?25h  Preparing metadata (setup.py) ... \u001b[?25l\u001b[?25hdone\n",
            "\u001b[2K     \u001b[90m━━━━━━━━━━━━━━━━━━━━━━━━━━━━━━━━━━━━━━━━\u001b[0m \u001b[32m84.0/84.0 kB\u001b[0m \u001b[31m7.8 MB/s\u001b[0m eta \u001b[36m0:00:00\u001b[0m\n",
            "\u001b[?25h  Preparing metadata (setup.py) ... \u001b[?25l\u001b[?25hdone\n",
            "\u001b[2K   \u001b[90m━━━━━━━━━━━━━━━━━━━━━━━━━━━━━━━━━━━━━━━━\u001b[0m \u001b[32m7.9/7.9 MB\u001b[0m \u001b[31m26.2 MB/s\u001b[0m eta \u001b[36m0:00:00\u001b[0m\n",
            "\u001b[2K   \u001b[90m━━━━━━━━━━━━━━━━━━━━━━━━━━━━━━━━━━━━━━━━\u001b[0m \u001b[32m1.5/1.5 MB\u001b[0m \u001b[31m29.5 MB/s\u001b[0m eta \u001b[36m0:00:00\u001b[0m\n",
            "\u001b[2K   \u001b[90m━━━━━━━━━━━━━━━━━━━━━━━━━━━━━━━━━━━━━━━━\u001b[0m \u001b[32m1.7/1.7 MB\u001b[0m \u001b[31m41.1 MB/s\u001b[0m eta \u001b[36m0:00:00\u001b[0m\n",
            "\u001b[2K   \u001b[90m━━━━━━━━━━━━━━━━━━━━━━━━━━━━━━━━━━━━━━━━\u001b[0m \u001b[32m294.9/294.9 kB\u001b[0m \u001b[31m19.9 MB/s\u001b[0m eta \u001b[36m0:00:00\u001b[0m\n",
            "\u001b[?25h  Building wheel for kfp (setup.py) ... \u001b[?25l\u001b[?25hdone\n",
            "  Building wheel for kfp-server-api (setup.py) ... \u001b[?25l\u001b[?25hdone\n",
            "\u001b[31mERROR: pip's dependency resolver does not currently take into account all the packages that are installed. This behaviour is the source of the following dependency conflicts.\n",
            "ydf 0.12.0 requires protobuf<6.0.0,>=5.29.1, but you have protobuf 4.25.8 which is incompatible.\u001b[0m\u001b[31m\n",
            "\u001b[0m"
          ]
        }
      ]
    },
    {
      "cell_type": "code",
      "metadata": {
        "id": "0680f577"
      },
      "source": [
        "# Restart runtime (Colab only)\n",
        "import sys\n",
        "if \"google.colab\" in sys.modules:\n",
        "    import IPython\n",
        "    app = IPython.Application.instance()\n",
        "    app.kernel.do_shutdown(True)"
      ],
      "execution_count": 2,
      "outputs": []
    },
    {
      "cell_type": "code",
      "metadata": {
        "id": "c138e493"
      },
      "source": [
        "# Authenticate to Google Cloud\n",
        "# If you are running this in a Colab environment, this will open a browser window for authentication.\n",
        "import sys\n",
        "if \"google.colab\" in sys.modules:\n",
        "    from google.colab import auth\n",
        "    auth.authenticate_user()"
      ],
      "execution_count": 1,
      "outputs": []
    },
    {
      "cell_type": "code",
      "metadata": {
        "id": "47012516"
      },
      "source": [
        "# --- User-defined variables ---\n",
        "# Replace with your actual project ID and region\n",
        "PROJECT_ID = \"vertex-test-id\" # @param {type:\"string\"}\n",
        "REGION = \"us-central1\" # @param {type:\"string\"}\n",
        "BUCKET_NAME = \"gcs-bucket-name-gamma\" # @param {type:\"string\"}"
      ],
      "execution_count": 2,
      "outputs": []
    },
    {
      "cell_type": "code",
      "metadata": {
        "id": "0d1c28f5"
      },
      "source": [
        "# Validate inputs\n",
        "if PROJECT_ID == \"your-gcp-project-id\" or not PROJECT_ID:\n",
        "    raise ValueError(\"Please replace 'your-gcp-project-id' with your actual GCP project ID.\")\n",
        "if BUCKET_NAME == \"your-gcs-bucket-name\" or not BUCKET_NAME:\n",
        "    raise ValueError(\"Please replace 'your-gcs-bucket-name' with your actual GCS bucket name.\")"
      ],
      "execution_count": 3,
      "outputs": []
    },
    {
      "cell_type": "code",
      "metadata": {
        "colab": {
          "base_uri": "https://localhost:8080/"
        },
        "id": "f1a15351",
        "outputId": "2c7ddea8-c4b1-4715-fdf8-e53b8990e0ca"
      },
      "source": [
        "BUCKET_URI = f\"gs://{BUCKET_NAME}\"\n",
        "PIPELINE_ROOT = f\"{BUCKET_URI}/pipeline_root_simple_example\"\n",
        "\n",
        "print(f\"Project ID: {PROJECT_ID}\")\n",
        "print(f\"Region: {REGION}\")\n",
        "print(f\"Bucket URI: {BUCKET_URI}\")\n",
        "print(f\"Pipeline Root: {PIPELINE_ROOT}\")"
      ],
      "execution_count": 4,
      "outputs": [
        {
          "output_type": "stream",
          "name": "stdout",
          "text": [
            "Project ID: vertex-test-id\n",
            "Region: us-central1\n",
            "Bucket URI: gs://gcs-bucket-name-gamma\n",
            "Pipeline Root: gs://gcs-bucket-name-gamma/pipeline_root_simple_example\n"
          ]
        }
      ]
    },
    {
      "cell_type": "markdown",
      "metadata": {
        "id": "c53447e3"
      },
      "source": [
        "### Create a Cloud Storage bucket (if it doesn't exist)\n",
        "\n",
        "Create a storage bucket to store intermediate artifacts such as datasets."
      ]
    },
    {
      "cell_type": "code",
      "metadata": {
        "colab": {
          "base_uri": "https://localhost:8080/"
        },
        "id": "5ada224e",
        "outputId": "2f85e36e-3b1e-4349-df50-fffd9e0837fb"
      },
      "source": [
        "# You only need to run this if your bucket doesn't already exist\n",
        "! gsutil mb -l {REGION} -p {PROJECT_ID} {BUCKET_URI}"
      ],
      "execution_count": 5,
      "outputs": [
        {
          "output_type": "stream",
          "name": "stdout",
          "text": [
            "Creating gs://gcs-bucket-name-gamma/...\n"
          ]
        }
      ]
    },
    {
      "cell_type": "code",
      "metadata": {
        "id": "db7fd687"
      },
      "source": [
        "# Initialize Vertex AI SDK\n",
        "from google.cloud import aiplatform\n",
        "aiplatform.init(project=PROJECT_ID, location=REGION, staging_bucket=BUCKET_URI)"
      ],
      "execution_count": 6,
      "outputs": []
    },
    {
      "cell_type": "code",
      "metadata": {
        "colab": {
          "base_uri": "https://localhost:8080/"
        },
        "id": "c20b313f",
        "outputId": "29949997-90e4-46da-b25e-0679fd19d483"
      },
      "source": [
        "# Get the service account\n",
        "SERVICE_ACCOUNT = !gcloud projects describe $PROJECT_ID --format=\"value(projectNumber)\"\n",
        "SERVICE_ACCOUNT = f\"{SERVICE_ACCOUNT[0].strip()}-compute@developer.gserviceaccount.com\"\n",
        "print(f\"Service Account: {SERVICE_ACCOUNT}\")"
      ],
      "execution_count": 7,
      "outputs": [
        {
          "output_type": "stream",
          "name": "stdout",
          "text": [
            "Service Account: 219162896674-compute@developer.gserviceaccount.com\n"
          ]
        }
      ]
    },
    {
      "cell_type": "markdown",
      "metadata": {
        "id": "6adde340"
      },
      "source": [
        "### Grant necessary permissions to the Compute Engine default service account\n",
        "\n",
        "Grant `roles/storage.objectAdmin` and `roles/aiplatform.user` to the service account at the project level."
      ]
    },
    {
      "cell_type": "code",
      "metadata": {
        "colab": {
          "base_uri": "https://localhost:8080/"
        },
        "id": "78fff607",
        "outputId": "0a21c2eb-f76c-4dd7-9b8a-31415f8cfa7d"
      },
      "source": [
        "# Grant necessary permissions to the Compute Engine default service account at the project level\n",
        "!gcloud projects add-iam-policy-binding {PROJECT_ID} --member=\"serviceAccount:{SERVICE_ACCOUNT}\" --role=\"roles/storage.objectAdmin\"\n",
        "!gcloud projects add-iam-policy-binding {PROJECT_ID} --member=\"serviceAccount:{SERVICE_ACCOUNT}\" --role=\"roles/aiplatform.user\"\n",
        "\n",
        "#!gsutil iam ch serviceAccount:{SERVICE_ACCOUNT}:roles/storage.objectAdmin {BUCKET_URI}"
      ],
      "execution_count": 8,
      "outputs": [
        {
          "output_type": "stream",
          "name": "stdout",
          "text": [
            "Updated IAM policy for project [vertex-test-id].\n",
            "bindings:\n",
            "- members:\n",
            "  - serviceAccount:219162896674-compute@developer.gserviceaccount.com\n",
            "  - serviceAccount:vertex-test-id@appspot.gserviceaccount.com\n",
            "  - user:Joachim.Hofmann@bluewin.ch\n",
            "  role: roles/aiplatform.admin\n",
            "- members:\n",
            "  - serviceAccount:service-219162896674@gcp-sa-vertex-nb.iam.gserviceaccount.com\n",
            "  role: roles/aiplatform.colabServiceAgent\n",
            "- members:\n",
            "  - serviceAccount:service-219162896674@gcp-sa-aiplatform-cc.iam.gserviceaccount.com\n",
            "  role: roles/aiplatform.customCodeServiceAgent\n",
            "- members:\n",
            "  - serviceAccount:service-219162896674@gcp-sa-aiplatform-vm.iam.gserviceaccount.com\n",
            "  role: roles/aiplatform.notebookServiceAgent\n",
            "- members:\n",
            "  - serviceAccount:service-219162896674@gcp-sa-aiplatform.iam.gserviceaccount.com\n",
            "  role: roles/aiplatform.serviceAgent\n",
            "- members:\n",
            "  - serviceAccount:219162896674-compute@developer.gserviceaccount.com\n",
            "  - serviceAccount:vertex-test-id@appspot.gserviceaccount.com\n",
            "  role: roles/aiplatform.user\n",
            "- members:\n",
            "  - serviceAccount:service-219162896674@gcp-sa-cloudaicompanion.iam.gserviceaccount.com\n",
            "  role: roles/cloudaicompanion.serviceAgent\n",
            "- members:\n",
            "  - serviceAccount:219162896674@cloudbuild.gserviceaccount.com\n",
            "  role: roles/cloudbuild.builds.builder\n",
            "- members:\n",
            "  - serviceAccount:service-219162896674@gcp-sa-cloudbuild.iam.gserviceaccount.com\n",
            "  role: roles/cloudbuild.serviceAgent\n",
            "- members:\n",
            "  - serviceAccount:service-219162896674@gcf-admin-robot.iam.gserviceaccount.com\n",
            "  role: roles/cloudfunctions.serviceAgent\n",
            "- members:\n",
            "  - serviceAccount:service-219162896674@compute-system.iam.gserviceaccount.com\n",
            "  role: roles/compute.serviceAgent\n",
            "- members:\n",
            "  - serviceAccount:service-219162896674@containerregistry.iam.gserviceaccount.com\n",
            "  role: roles/containerregistry.ServiceAgent\n",
            "- members:\n",
            "  - serviceAccount:service-219162896674@dataflow-service-producer-prod.iam.gserviceaccount.com\n",
            "  role: roles/dataflow.serviceAgent\n",
            "- members:\n",
            "  - serviceAccount:service-219162896674@gcp-sa-datapipelines.iam.gserviceaccount.com\n",
            "  role: roles/datapipelines.serviceAgent\n",
            "- members:\n",
            "  - serviceAccount:219162896674-compute@developer.gserviceaccount.com\n",
            "  - serviceAccount:219162896674@cloudservices.gserviceaccount.com\n",
            "  - serviceAccount:my-sa-123@vertex-test-id.iam.gserviceaccount.com\n",
            "  - serviceAccount:vertex-test-id@appspot.gserviceaccount.com\n",
            "  role: roles/editor\n",
            "- members:\n",
            "  - serviceAccount:service-219162896674@gcp-sa-notebooks.iam.gserviceaccount.com\n",
            "  role: roles/notebooks.serviceAgent\n",
            "- members:\n",
            "  - user:Joachim.Hofmann@bluewin.ch\n",
            "  role: roles/owner\n",
            "- members:\n",
            "  - serviceAccount:service-219162896674@gcp-sa-pubsub.iam.gserviceaccount.com\n",
            "  role: roles/pubsub.serviceAgent\n",
            "- members:\n",
            "  - serviceAccount:219162896674-compute@developer.gserviceaccount.com\n",
            "  - serviceAccount:vertex-test-id@appspot.gserviceaccount.com\n",
            "  - user:Joachim.Hofmann@bluewin.ch\n",
            "  role: roles/storage.admin\n",
            "- members:\n",
            "  - serviceAccount:219162896674-compute@developer.gserviceaccount.com\n",
            "  - serviceAccount:vertex-test-id@appspot.gserviceaccount.com\n",
            "  role: roles/storage.objectAdmin\n",
            "- members:\n",
            "  - serviceAccount:219162896674-compute@developer.gserviceaccount.com\n",
            "  - serviceAccount:vertex-test-id@appspot.gserviceaccount.com\n",
            "  - user:Joachim.Hofmann@bluewin.ch\n",
            "  role: roles/storage.objectCreator\n",
            "etag: BwY5uNzjlho=\n",
            "version: 1\n",
            "Updated IAM policy for project [vertex-test-id].\n",
            "bindings:\n",
            "- members:\n",
            "  - serviceAccount:219162896674-compute@developer.gserviceaccount.com\n",
            "  - serviceAccount:vertex-test-id@appspot.gserviceaccount.com\n",
            "  - user:Joachim.Hofmann@bluewin.ch\n",
            "  role: roles/aiplatform.admin\n",
            "- members:\n",
            "  - serviceAccount:service-219162896674@gcp-sa-vertex-nb.iam.gserviceaccount.com\n",
            "  role: roles/aiplatform.colabServiceAgent\n",
            "- members:\n",
            "  - serviceAccount:service-219162896674@gcp-sa-aiplatform-cc.iam.gserviceaccount.com\n",
            "  role: roles/aiplatform.customCodeServiceAgent\n",
            "- members:\n",
            "  - serviceAccount:service-219162896674@gcp-sa-aiplatform-vm.iam.gserviceaccount.com\n",
            "  role: roles/aiplatform.notebookServiceAgent\n",
            "- members:\n",
            "  - serviceAccount:service-219162896674@gcp-sa-aiplatform.iam.gserviceaccount.com\n",
            "  role: roles/aiplatform.serviceAgent\n",
            "- members:\n",
            "  - serviceAccount:219162896674-compute@developer.gserviceaccount.com\n",
            "  - serviceAccount:vertex-test-id@appspot.gserviceaccount.com\n",
            "  role: roles/aiplatform.user\n",
            "- members:\n",
            "  - serviceAccount:service-219162896674@gcp-sa-cloudaicompanion.iam.gserviceaccount.com\n",
            "  role: roles/cloudaicompanion.serviceAgent\n",
            "- members:\n",
            "  - serviceAccount:219162896674@cloudbuild.gserviceaccount.com\n",
            "  role: roles/cloudbuild.builds.builder\n",
            "- members:\n",
            "  - serviceAccount:service-219162896674@gcp-sa-cloudbuild.iam.gserviceaccount.com\n",
            "  role: roles/cloudbuild.serviceAgent\n",
            "- members:\n",
            "  - serviceAccount:service-219162896674@gcf-admin-robot.iam.gserviceaccount.com\n",
            "  role: roles/cloudfunctions.serviceAgent\n",
            "- members:\n",
            "  - serviceAccount:service-219162896674@compute-system.iam.gserviceaccount.com\n",
            "  role: roles/compute.serviceAgent\n",
            "- members:\n",
            "  - serviceAccount:service-219162896674@containerregistry.iam.gserviceaccount.com\n",
            "  role: roles/containerregistry.ServiceAgent\n",
            "- members:\n",
            "  - serviceAccount:service-219162896674@dataflow-service-producer-prod.iam.gserviceaccount.com\n",
            "  role: roles/dataflow.serviceAgent\n",
            "- members:\n",
            "  - serviceAccount:service-219162896674@gcp-sa-datapipelines.iam.gserviceaccount.com\n",
            "  role: roles/datapipelines.serviceAgent\n",
            "- members:\n",
            "  - serviceAccount:219162896674-compute@developer.gserviceaccount.com\n",
            "  - serviceAccount:219162896674@cloudservices.gserviceaccount.com\n",
            "  - serviceAccount:my-sa-123@vertex-test-id.iam.gserviceaccount.com\n",
            "  - serviceAccount:vertex-test-id@appspot.gserviceaccount.com\n",
            "  role: roles/editor\n",
            "- members:\n",
            "  - serviceAccount:service-219162896674@gcp-sa-notebooks.iam.gserviceaccount.com\n",
            "  role: roles/notebooks.serviceAgent\n",
            "- members:\n",
            "  - user:Joachim.Hofmann@bluewin.ch\n",
            "  role: roles/owner\n",
            "- members:\n",
            "  - serviceAccount:service-219162896674@gcp-sa-pubsub.iam.gserviceaccount.com\n",
            "  role: roles/pubsub.serviceAgent\n",
            "- members:\n",
            "  - serviceAccount:219162896674-compute@developer.gserviceaccount.com\n",
            "  - serviceAccount:vertex-test-id@appspot.gserviceaccount.com\n",
            "  - user:Joachim.Hofmann@bluewin.ch\n",
            "  role: roles/storage.admin\n",
            "- members:\n",
            "  - serviceAccount:219162896674-compute@developer.gserviceaccount.com\n",
            "  - serviceAccount:vertex-test-id@appspot.gserviceaccount.com\n",
            "  role: roles/storage.objectAdmin\n",
            "- members:\n",
            "  - serviceAccount:219162896674-compute@developer.gserviceaccount.com\n",
            "  - serviceAccount:vertex-test-id@appspot.gserviceaccount.com\n",
            "  - user:Joachim.Hofmann@bluewin.ch\n",
            "  role: roles/storage.objectCreator\n",
            "etag: BwY5uN0GY9w=\n",
            "version: 1\n"
          ]
        }
      ]
    },
    {
      "cell_type": "markdown",
      "metadata": {
        "id": "a06fc742"
      },
      "source": [
        "# 2. Define Custom Components"
      ]
    },
    {
      "cell_type": "code",
      "metadata": {
        "id": "11b11f68"
      },
      "source": [
        "from kfp import dsl\n",
        "from kfp.dsl import component, Input, Output, Artifact, Dataset, Model\n",
        "\n",
        "from typing import NamedTuple"
      ],
      "execution_count": 9,
      "outputs": []
    },
    {
      "cell_type": "code",
      "metadata": {
        "id": "75421c9c"
      },
      "source": [
        "from kfp import dsl\n",
        "from kfp.dsl import component, Output, Dataset\n",
        "from kfp.compiler import Compiler\n",
        "\n",
        "@component(\n",
        "    packages_to_install=['scikit-learn', 'pandas'],\n",
        "    base_image=\"python:3.9\", # Using standard python:3.9\n",
        ")\n",
        "def generate_synthetic_data(\n",
        "    num_samples: int,\n",
        "    data: Output[Dataset]\n",
        "):\n",
        "    \"\"\"Generates synthetic classification data.\"\"\"\n",
        "    # Ensure the imports are inside the function\n",
        "    import os\n",
        "    from sklearn.datasets import make_classification\n",
        "    import pandas as pd\n",
        "\n",
        "    print(f\"Generating {num_samples} samples...\")\n",
        "    X, y = make_classification(n_samples=num_samples, n_features=10, n_classes=2, random_state=42)\n",
        "    df = pd.DataFrame(X, columns=[f\"feature_{i}\" for i in range(10)])\n",
        "    df[\"target\"] = y\n",
        "\n",
        "    # Create the output directory if it doesn't exist\n",
        "    os.makedirs(data.path, exist_ok=True)\n",
        "\n",
        "    # Save the data to the output path\n",
        "    output_csv_path = os.path.join(data.path, \"generated_data.csv\")\n",
        "    df.to_csv(output_csv_path, index=False)\n",
        "    print(f\"Data saved to: {output_csv_path}\")\n",
        "\n",
        "# Compile the component separately\n",
        "generate_synthetic_data_op = generate_synthetic_data\n",
        "compiler = Compiler()\n",
        "compiler.compile(generate_synthetic_data_op, package_path=\"generate_synthetic_data_component.yaml\")"
      ],
      "execution_count": 41,
      "outputs": []
    },
    {
      "cell_type": "code",
      "metadata": {
        "id": "39dfc7ab"
      },
      "source": [
        "from kfp import dsl\n",
        "from kfp.dsl import component, Input, Output, Dataset, Model\n",
        "from sklearn.model_selection import train_test_split\n",
        "from sklearn.ensemble import RandomForestClassifier\n",
        "from sklearn.metrics import accuracy_score\n",
        "import joblib # for saving the model\n",
        "import os\n",
        "\n",
        "@component(\n",
        "    packages_to_install=['scikit-learn', 'pandas', 'joblib'],\n",
        "    base_image=\"python:3.9\"\n",
        ")\n",
        "def train_model(\n",
        "    dataset: Input[Dataset],\n",
        "    model: Output[Model],\n",
        "    n_estimators: int = 100,\n",
        ") -> None:\n",
        "    \"\"\"Trains a RandomForestClassifier on the input dataset.\"\"\"\n",
        "    # Ensure the imports are inside the function\n",
        "    import pandas as pd\n",
        "    from sklearn.model_selection import train_test_split\n",
        "    from sklearn.ensemble import RandomForestClassifier\n",
        "    from sklearn.metrics import accuracy_score\n",
        "    import joblib\n",
        "    import os\n",
        "\n",
        "    print(f\"Loading data from: {dataset.path}\")\n",
        "    df = pd.read_csv(os.path.join(dataset.path, \"generated_data.csv\"))\n",
        "\n",
        "    X = df.drop(\"target\", axis=1)\n",
        "    y = df[\"target\"]\n",
        "\n",
        "    X_train, X_test, y_train, y_test = train_test_split(X, y, test_size=0.2, random_state=42)\n",
        "\n",
        "    print(f\"Training RandomForestClassifier with {n_estimators} estimators...\")\n",
        "    model_instance = RandomForestClassifier(n_estimators=n_estimators, random_state=42)\n",
        "    model_instance.fit(X_train, y_train)\n",
        "\n",
        "    y_pred = model_instance.predict(X_test)\n",
        "    accuracy = accuracy_score(y_test, y_pred)\n",
        "    print(f\"Model accuracy: {accuracy}\")\n",
        "\n",
        "    # Create the output directory for the model if it doesn't exist\n",
        "    os.makedirs(model.path, exist_ok=True)\n",
        "\n",
        "    # Save the trained model to the output path\n",
        "    model_save_path = os.path.join(model.path, \"model.joblib\")\n",
        "    joblib.dump(model_instance, model_save_path)\n",
        "    print(f\"Model saved to: {model_save_path}\")"
      ],
      "execution_count": 42,
      "outputs": []
    },
    {
      "cell_type": "markdown",
      "metadata": {
        "id": "27f081c6"
      },
      "source": [
        "# 3. Define and Compile the Pipeline"
      ]
    },
    {
      "cell_type": "code",
      "metadata": {
        "id": "dc3415d2"
      },
      "source": [
        "from kfp import dsl\n",
        "from kfp.components import load_component_from_file\n",
        "\n",
        "# Load the generate_synthetic_data component from the compiled YAML file\n",
        "generate_synthetic_data_op = load_component_from_file(\"generate_synthetic_data_component.yaml\")\n",
        "\n",
        "@dsl.pipeline(\n",
        "    name=\"simple-ml-pipeline\",\n",
        "    description=\"A simple pipeline that generates data and trains a model.\",\n",
        "    pipeline_root=PIPELINE_ROOT,\n",
        ")\n",
        "def simple_pipeline(\n",
        "    num_samples: int = 1000,\n",
        "    n_estimators: int = 50,\n",
        "):\n",
        "    \"\"\"\n",
        "    Defines a simple ML pipeline:\n",
        "    1. Generates synthetic data.\n",
        "    2. Trains a RandomForest model.\n",
        "    \"\"\"\n",
        "\n",
        "    # Task to generate data using the loaded component\n",
        "    generate_data_task = generate_synthetic_data_op(num_samples=num_samples)\n",
        "\n",
        "    # Task to train model, using output from generate_data_task as input\n",
        "    train_model_task = train_model(\n",
        "        dataset=generate_data_task.outputs[\"data\"],\n",
        "        n_estimators=n_estimators,\n",
        "    )\n",
        "\n",
        "    # You can add more components here, e.g., for evaluation, model deployment, etc."
      ],
      "execution_count": 43,
      "outputs": []
    },
    {
      "cell_type": "code",
      "metadata": {
        "colab": {
          "base_uri": "https://localhost:8080/"
        },
        "id": "3a1cf9b4",
        "outputId": "c54f52e7-a7d5-4556-f6c2-94f62cd6f61f"
      },
      "source": [
        "from kfp.compiler import Compiler\n",
        "\n",
        "# Instantiate the compiler\n",
        "compiler = Compiler()\n",
        "\n",
        "# Compile the pipeline function\n",
        "compiler.compile(simple_pipeline, package_path=\"simple_pipeline.json\")\n",
        "\n",
        "print(\"Pipeline compiled to simple_pipeline.json\")"
      ],
      "execution_count": 44,
      "outputs": [
        {
          "output_type": "stream",
          "name": "stdout",
          "text": [
            "Pipeline compiled to simple_pipeline.json\n"
          ]
        }
      ]
    },
    {
      "cell_type": "markdown",
      "metadata": {
        "id": "c9480a25"
      },
      "source": [
        "# 4. Create and Run the Pipeline Job on Vertex AI"
      ]
    },
    {
      "cell_type": "code",
      "metadata": {
        "id": "a1cf022d"
      },
      "source": [
        "import google.cloud.aiplatform as aiplatform\n",
        "import time\n",
        "\n",
        "pipeline_spec_path = \"simple_pipeline.json\"\n",
        "parameter_values = {\"num_samples\": 1000, \"n_estimators\": 50}\n",
        "\n",
        "# Create a unique display name for the job\n",
        "timestamp = int(time.time())\n",
        "job_display_name = f\"simple-ml-pipeline-job-{timestamp}\"\n",
        "\n",
        "job = aiplatform.PipelineJob(\n",
        "    display_name=job_display_name,\n",
        "    template_path=pipeline_spec_path,\n",
        "    pipeline_root=PIPELINE_ROOT,\n",
        "    parameter_values=parameter_values,\n",
        ")\n",
        "\n",
        "job.run()"
      ],
      "execution_count": 45,
      "outputs": []
    },
    {
      "cell_type": "markdown",
      "metadata": {
        "id": "24301613"
      },
      "source": [
        "# 5. Monitor the Pipeline Run\n",
        "\n",
        "You can monitor the pipeline run in the Google Cloud console. The link to the job is provided in the output of the previous cell."
      ]
    },
    {
      "cell_type": "markdown",
      "metadata": {
        "id": "c8a716aa"
      },
      "source": [
        "# 6. Clean up (Optional)\n",
        "\n",
        "If you want to clean up the resources created during this example, you can delete the Cloud Storage bucket and the pipeline jobs."
      ]
    },
    {
      "cell_type": "code",
      "metadata": {
        "id": "4e294dc2"
      },
      "source": [
        "# Delete the Cloud Storage bucket (use with caution!)\n",
        "# ! gsutil rm -r {BUCKET_URI}\n",
        "\n",
        "# Delete pipeline jobs (optional)\n",
        "# from google.cloud.aiplatform.matching_engine.matching_engine_index import MatchingEngineIndex\n",
        "# from google.api_core import exceptions\n",
        "\n",
        "# try:\n",
        "#     aiplatform.PipelineJob.list(filter=f'display_name:\"simple-ml-pipeline-job*\"')[0].delete()\n",
        "# except exceptions.NotFound:\n",
        "#     print(\"No pipeline jobs found to delete.\")"
      ],
      "execution_count": null,
      "outputs": []
    }
  ]
}