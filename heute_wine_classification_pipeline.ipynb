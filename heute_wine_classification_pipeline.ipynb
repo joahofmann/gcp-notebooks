{
  "cells": [
    {
      "cell_type": "markdown",
      "metadata": {
        "id": "view-in-github",
        "colab_type": "text"
      },
      "source": [
        "<a href=\"https://colab.research.google.com/github/joahofmann/gcp-notebooks/blob/main/heute_wine_classification_pipeline.ipynb\" target=\"_parent\"><img src=\"https://colab.research.google.com/assets/colab-badge.svg\" alt=\"Open In Colab\"/></a>"
      ]
    },
    {
      "cell_type": "markdown",
      "metadata": {
        "id": "2b59cd86"
      },
      "source": [
        "# Vertex AI Pipelines Example\n",
        "\n",
        "This notebook demonstrates how to create and run a simple Kubeflow pipeline on Vertex AI."
      ],
      "id": "2b59cd86"
    },
    {
      "cell_type": "markdown",
      "metadata": {
        "id": "43b81849"
      },
      "source": [
        "# 1. Setup and Authentication"
      ],
      "id": "43b81849"
    },
    {
      "cell_type": "code",
      "metadata": {
        "id": "32d43e95",
        "colab": {
          "base_uri": "https://localhost:8080/"
        },
        "outputId": "3ec70f18-06c1-44d3-ccbc-e42aa94c0f33"
      },
      "source": [
        "# Install necessary libraries\n",
        "!pip install --upgrade google-cloud-aiplatform google-cloud-storage kfp google-cloud-pipeline-components --quiet"
      ],
      "execution_count": null,
      "outputs": [
        {
          "output_type": "stream",
          "name": "stdout",
          "text": [
            "  Preparing metadata (setup.py) ... \u001b[?25l\u001b[?25hdone\n",
            "\u001b[2K     \u001b[90m━━━━━━━━━━━━━━━━━━━━━━━━━━━━━━━━━━━━━━━━\u001b[0m \u001b[32m84.0/84.0 kB\u001b[0m \u001b[31m4.6 MB/s\u001b[0m eta \u001b[36m0:00:00\u001b[0m\n",
            "\u001b[?25h  Preparing metadata (setup.py) ... \u001b[?25l\u001b[?25hdone\n",
            "\u001b[2K   \u001b[90m━━━━━━━━━━━━━━━━━━━━━━━━━━━━━━━━━━━━━━━━\u001b[0m \u001b[32m7.9/7.9 MB\u001b[0m \u001b[31m34.6 MB/s\u001b[0m eta \u001b[36m0:00:00\u001b[0m\n",
            "\u001b[2K   \u001b[90m━━━━━━━━━━━━━━━━━━━━━━━━━━━━━━━━━━━━━━━━\u001b[0m \u001b[32m1.5/1.5 MB\u001b[0m \u001b[31m27.8 MB/s\u001b[0m eta \u001b[36m0:00:00\u001b[0m\n",
            "\u001b[2K   \u001b[90m━━━━━━━━━━━━━━━━━━━━━━━━━━━━━━━━━━━━━━━━\u001b[0m \u001b[32m1.7/1.7 MB\u001b[0m \u001b[31m18.7 MB/s\u001b[0m eta \u001b[36m0:00:00\u001b[0m\n",
            "\u001b[2K   \u001b[90m━━━━━━━━━━━━━━━━━━━━━━━━━━━━━━━━━━━━━━━━\u001b[0m \u001b[32m294.9/294.9 kB\u001b[0m \u001b[31m14.9 MB/s\u001b[0m eta \u001b[36m0:00:00\u001b[0m\n",
            "\u001b[?25h  Building wheel for kfp (setup.py) ... \u001b[?25l\u001b[?25hdone\n",
            "  Building wheel for kfp-server-api (setup.py) ... \u001b[?25l\u001b[?25hdone\n",
            "\u001b[31mERROR: pip's dependency resolver does not currently take into account all the packages that are installed. This behaviour is the source of the following dependency conflicts.\n",
            "ydf 0.12.0 requires protobuf<6.0.0,>=5.29.1, but you have protobuf 4.25.8 which is incompatible.\u001b[0m\u001b[31m\n",
            "\u001b[0m"
          ]
        }
      ],
      "id": "32d43e95"
    },
    {
      "cell_type": "code",
      "metadata": {
        "id": "0680f577"
      },
      "source": [
        "# Restart runtime (Colab only)\n",
        "import sys\n",
        "if \"google.colab\" in sys.modules:\n",
        "    import IPython\n",
        "    app = IPython.Application.instance()\n",
        "    app.kernel.do_shutdown(True)"
      ],
      "execution_count": null,
      "outputs": [],
      "id": "0680f577"
    },
    {
      "cell_type": "code",
      "metadata": {
        "id": "c138e493"
      },
      "source": [
        "# Authenticate to Google Cloud\n",
        "# If you are running this in a Colab environment, this will open a browser window for authentication.\n",
        "import sys\n",
        "if \"google.colab\" in sys.modules:\n",
        "    from google.colab import auth\n",
        "    auth.authenticate_user()"
      ],
      "execution_count": null,
      "outputs": [],
      "id": "c138e493"
    },
    {
      "cell_type": "code",
      "metadata": {
        "id": "47012516"
      },
      "source": [
        "# --- User-defined variables ---\n",
        "# Replace with your actual project ID and region\n",
        "PROJECT_ID = \"vertex-test-id\" # @param {type:\"string\"}\n",
        "REGION = \"us-central1\" # @param {type:\"string\"}\n",
        "BUCKET_NAME = \"gcs-bucket-name-wine2\" # @param {type:\"string\"}"
      ],
      "execution_count": null,
      "outputs": [],
      "id": "47012516"
    },
    {
      "cell_type": "code",
      "metadata": {
        "id": "0d1c28f5"
      },
      "source": [
        "# Validate inputs\n",
        "if PROJECT_ID == \"your-gcp-project-id\" or not PROJECT_ID:\n",
        "    raise ValueError(\"Please replace 'your-gcp-project-id' with your actual GCP project ID.\")\n",
        "if BUCKET_NAME == \"your-gcs-bucket-name\" or not BUCKET_NAME:\n",
        "    raise ValueError(\"Please replace 'your-gcs-bucket-name' with your actual GCS bucket name.\")"
      ],
      "execution_count": null,
      "outputs": [],
      "id": "0d1c28f5"
    },
    {
      "cell_type": "code",
      "metadata": {
        "colab": {
          "base_uri": "https://localhost:8080/"
        },
        "id": "f1a15351",
        "outputId": "d6859345-eccd-4560-960d-8f31e83437ff"
      },
      "source": [
        "BUCKET_URI = f\"gs://{BUCKET_NAME}\"\n",
        "PIPELINE_ROOT = f\"{BUCKET_URI}/pipeline_root_simple_example\"\n",
        "\n",
        "print(f\"Project ID: {PROJECT_ID}\")\n",
        "print(f\"Region: {REGION}\")\n",
        "print(f\"Bucket URI: {BUCKET_URI}\")\n",
        "print(f\"Pipeline Root: {PIPELINE_ROOT}\")"
      ],
      "execution_count": null,
      "outputs": [
        {
          "output_type": "stream",
          "name": "stdout",
          "text": [
            "Project ID: vertex-test-id\n",
            "Region: us-central1\n",
            "Bucket URI: gs://gcs-bucket-name-wine2\n",
            "Pipeline Root: gs://gcs-bucket-name-wine2/pipeline_root_simple_example\n"
          ]
        }
      ],
      "id": "f1a15351"
    },
    {
      "cell_type": "markdown",
      "metadata": {
        "id": "c53447e3"
      },
      "source": [
        "### Create a Cloud Storage bucket (if it doesn't exist)\n",
        "\n",
        "Create a storage bucket to store intermediate artifacts such as datasets."
      ],
      "id": "c53447e3"
    },
    {
      "cell_type": "code",
      "metadata": {
        "colab": {
          "base_uri": "https://localhost:8080/"
        },
        "id": "5ada224e",
        "outputId": "e1ea6c8f-be25-489f-8784-df6049456ccb"
      },
      "source": [
        "# You only need to run this if your bucket doesn't already exist\n",
        "! gsutil mb -l {REGION} -p {PROJECT_ID} {BUCKET_URI}"
      ],
      "execution_count": null,
      "outputs": [
        {
          "output_type": "stream",
          "name": "stdout",
          "text": [
            "Creating gs://gcs-bucket-name-wine2/...\n"
          ]
        }
      ],
      "id": "5ada224e"
    },
    {
      "cell_type": "code",
      "metadata": {
        "id": "db7fd687"
      },
      "source": [
        "# Initialize Vertex AI SDK\n",
        "from google.cloud import aiplatform\n",
        "aiplatform.init(project=PROJECT_ID, location=REGION, staging_bucket=BUCKET_URI)"
      ],
      "execution_count": null,
      "outputs": [],
      "id": "db7fd687"
    },
    {
      "cell_type": "code",
      "metadata": {
        "colab": {
          "base_uri": "https://localhost:8080/"
        },
        "id": "c20b313f",
        "outputId": "991d20a0-514a-4f6e-8b3d-38e14cf081b7"
      },
      "source": [
        "# Get the service account\n",
        "SERVICE_ACCOUNT = !gcloud projects describe $PROJECT_ID --format=\"value(projectNumber)\"\n",
        "SERVICE_ACCOUNT = f\"{SERVICE_ACCOUNT[0].strip()}-compute@developer.gserviceaccount.com\"\n",
        "print(f\"Service Account: {SERVICE_ACCOUNT}\")"
      ],
      "execution_count": null,
      "outputs": [
        {
          "output_type": "stream",
          "name": "stdout",
          "text": [
            "Service Account: 219162896674-compute@developer.gserviceaccount.com\n"
          ]
        }
      ],
      "id": "c20b313f"
    },
    {
      "cell_type": "markdown",
      "metadata": {
        "id": "6adde340"
      },
      "source": [
        "### Grant necessary permissions to the Compute Engine default service account\n",
        "\n",
        "Grant `roles/storage.objectAdmin` and `roles/aiplatform.user` to the service account at the project level."
      ],
      "id": "6adde340"
    },
    {
      "cell_type": "code",
      "source": [],
      "metadata": {
        "id": "aiSjN47HNcPW"
      },
      "id": "aiSjN47HNcPW",
      "execution_count": null,
      "outputs": []
    },
    {
      "cell_type": "code",
      "metadata": {
        "colab": {
          "base_uri": "https://localhost:8080/"
        },
        "id": "78fff607",
        "outputId": "e59bd561-afeb-4b32-be47-fb8264995c9d"
      },
      "source": [
        "# Grant necessary permissions to the Compute Engine default service account at the project level\n",
        "!gcloud projects add-iam-policy-binding {PROJECT_ID} --member=\"serviceAccount:{SERVICE_ACCOUNT}\" --role=\"roles/storage.objectAdmin\"\n",
        "!gcloud projects add-iam-policy-binding {PROJECT_ID} --member=\"serviceAccount:{SERVICE_ACCOUNT}\" --role=\"roles/aiplatform.user\"\n",
        "\n",
        "#!gsutil iam ch serviceAccount:{SERVICE_ACCOUNT}:roles/storage.objectAdmin {BUCKET_URI}"
      ],
      "execution_count": null,
      "outputs": [
        {
          "output_type": "stream",
          "name": "stdout",
          "text": [
            "Updated IAM policy for project [vertex-test-id].\n",
            "bindings:\n",
            "- members:\n",
            "  - serviceAccount:219162896674-compute@developer.gserviceaccount.com\n",
            "  - serviceAccount:vertex-test-id@appspot.gserviceaccount.com\n",
            "  - user:Joachim.Hofmann@bluewin.ch\n",
            "  role: roles/aiplatform.admin\n",
            "- members:\n",
            "  - serviceAccount:service-219162896674@gcp-sa-vertex-nb.iam.gserviceaccount.com\n",
            "  role: roles/aiplatform.colabServiceAgent\n",
            "- members:\n",
            "  - serviceAccount:service-219162896674@gcp-sa-aiplatform-cc.iam.gserviceaccount.com\n",
            "  role: roles/aiplatform.customCodeServiceAgent\n",
            "- members:\n",
            "  - serviceAccount:service-219162896674@gcp-sa-aiplatform-vm.iam.gserviceaccount.com\n",
            "  role: roles/aiplatform.notebookServiceAgent\n",
            "- members:\n",
            "  - serviceAccount:service-219162896674@gcp-sa-aiplatform.iam.gserviceaccount.com\n",
            "  role: roles/aiplatform.serviceAgent\n",
            "- members:\n",
            "  - serviceAccount:219162896674-compute@developer.gserviceaccount.com\n",
            "  - serviceAccount:vertex-test-id@appspot.gserviceaccount.com\n",
            "  role: roles/aiplatform.user\n",
            "- members:\n",
            "  - serviceAccount:service-219162896674@gcp-sa-cloudaicompanion.iam.gserviceaccount.com\n",
            "  role: roles/cloudaicompanion.serviceAgent\n",
            "- members:\n",
            "  - serviceAccount:219162896674@cloudbuild.gserviceaccount.com\n",
            "  role: roles/cloudbuild.builds.builder\n",
            "- members:\n",
            "  - serviceAccount:service-219162896674@gcp-sa-cloudbuild.iam.gserviceaccount.com\n",
            "  role: roles/cloudbuild.serviceAgent\n",
            "- members:\n",
            "  - serviceAccount:service-219162896674@gcf-admin-robot.iam.gserviceaccount.com\n",
            "  role: roles/cloudfunctions.serviceAgent\n",
            "- members:\n",
            "  - serviceAccount:service-219162896674@compute-system.iam.gserviceaccount.com\n",
            "  role: roles/compute.serviceAgent\n",
            "- members:\n",
            "  - serviceAccount:service-219162896674@containerregistry.iam.gserviceaccount.com\n",
            "  role: roles/containerregistry.ServiceAgent\n",
            "- members:\n",
            "  - serviceAccount:service-219162896674@dataflow-service-producer-prod.iam.gserviceaccount.com\n",
            "  role: roles/dataflow.serviceAgent\n",
            "- members:\n",
            "  - serviceAccount:service-219162896674@gcp-sa-datapipelines.iam.gserviceaccount.com\n",
            "  role: roles/datapipelines.serviceAgent\n",
            "- members:\n",
            "  - serviceAccount:219162896674-compute@developer.gserviceaccount.com\n",
            "  - serviceAccount:219162896674@cloudservices.gserviceaccount.com\n",
            "  - serviceAccount:my-sa-123@vertex-test-id.iam.gserviceaccount.com\n",
            "  - serviceAccount:vertex-test-id@appspot.gserviceaccount.com\n",
            "  role: roles/editor\n",
            "- members:\n",
            "  - serviceAccount:service-219162896674@gcp-sa-notebooks.iam.gserviceaccount.com\n",
            "  role: roles/notebooks.serviceAgent\n",
            "- members:\n",
            "  - user:Joachim.Hofmann@bluewin.ch\n",
            "  role: roles/owner\n",
            "- members:\n",
            "  - serviceAccount:service-219162896674@gcp-sa-pubsub.iam.gserviceaccount.com\n",
            "  role: roles/pubsub.serviceAgent\n",
            "- members:\n",
            "  - serviceAccount:219162896674-compute@developer.gserviceaccount.com\n",
            "  - serviceAccount:vertex-test-id@appspot.gserviceaccount.com\n",
            "  - user:Joachim.Hofmann@bluewin.ch\n",
            "  role: roles/storage.admin\n",
            "- members:\n",
            "  - serviceAccount:219162896674-compute@developer.gserviceaccount.com\n",
            "  - serviceAccount:vertex-test-id@appspot.gserviceaccount.com\n",
            "  role: roles/storage.objectAdmin\n",
            "- members:\n",
            "  - serviceAccount:219162896674-compute@developer.gserviceaccount.com\n",
            "  - serviceAccount:vertex-test-id@appspot.gserviceaccount.com\n",
            "  - user:Joachim.Hofmann@bluewin.ch\n",
            "  role: roles/storage.objectCreator\n",
            "etag: BwY5wNOeWpA=\n",
            "version: 1\n",
            "Updated IAM policy for project [vertex-test-id].\n",
            "bindings:\n",
            "- members:\n",
            "  - serviceAccount:219162896674-compute@developer.gserviceaccount.com\n",
            "  - serviceAccount:vertex-test-id@appspot.gserviceaccount.com\n",
            "  - user:Joachim.Hofmann@bluewin.ch\n",
            "  role: roles/aiplatform.admin\n",
            "- members:\n",
            "  - serviceAccount:service-219162896674@gcp-sa-vertex-nb.iam.gserviceaccount.com\n",
            "  role: roles/aiplatform.colabServiceAgent\n",
            "- members:\n",
            "  - serviceAccount:service-219162896674@gcp-sa-aiplatform-cc.iam.gserviceaccount.com\n",
            "  role: roles/aiplatform.customCodeServiceAgent\n",
            "- members:\n",
            "  - serviceAccount:service-219162896674@gcp-sa-aiplatform-vm.iam.gserviceaccount.com\n",
            "  role: roles/aiplatform.notebookServiceAgent\n",
            "- members:\n",
            "  - serviceAccount:service-219162896674@gcp-sa-aiplatform.iam.gserviceaccount.com\n",
            "  role: roles/aiplatform.serviceAgent\n",
            "- members:\n",
            "  - serviceAccount:219162896674-compute@developer.gserviceaccount.com\n",
            "  - serviceAccount:vertex-test-id@appspot.gserviceaccount.com\n",
            "  role: roles/aiplatform.user\n",
            "- members:\n",
            "  - serviceAccount:service-219162896674@gcp-sa-cloudaicompanion.iam.gserviceaccount.com\n",
            "  role: roles/cloudaicompanion.serviceAgent\n",
            "- members:\n",
            "  - serviceAccount:219162896674@cloudbuild.gserviceaccount.com\n",
            "  role: roles/cloudbuild.builds.builder\n",
            "- members:\n",
            "  - serviceAccount:service-219162896674@gcp-sa-cloudbuild.iam.gserviceaccount.com\n",
            "  role: roles/cloudbuild.serviceAgent\n",
            "- members:\n",
            "  - serviceAccount:service-219162896674@gcf-admin-robot.iam.gserviceaccount.com\n",
            "  role: roles/cloudfunctions.serviceAgent\n",
            "- members:\n",
            "  - serviceAccount:service-219162896674@compute-system.iam.gserviceaccount.com\n",
            "  role: roles/compute.serviceAgent\n",
            "- members:\n",
            "  - serviceAccount:service-219162896674@containerregistry.iam.gserviceaccount.com\n",
            "  role: roles/containerregistry.ServiceAgent\n",
            "- members:\n",
            "  - serviceAccount:service-219162896674@dataflow-service-producer-prod.iam.gserviceaccount.com\n",
            "  role: roles/dataflow.serviceAgent\n",
            "- members:\n",
            "  - serviceAccount:service-219162896674@gcp-sa-datapipelines.iam.gserviceaccount.com\n",
            "  role: roles/datapipelines.serviceAgent\n",
            "- members:\n",
            "  - serviceAccount:219162896674-compute@developer.gserviceaccount.com\n",
            "  - serviceAccount:219162896674@cloudservices.gserviceaccount.com\n",
            "  - serviceAccount:my-sa-123@vertex-test-id.iam.gserviceaccount.com\n",
            "  - serviceAccount:vertex-test-id@appspot.gserviceaccount.com\n",
            "  role: roles/editor\n",
            "- members:\n",
            "  - serviceAccount:service-219162896674@gcp-sa-notebooks.iam.gserviceaccount.com\n",
            "  role: roles/notebooks.serviceAgent\n",
            "- members:\n",
            "  - user:Joachim.Hofmann@bluewin.ch\n",
            "  role: roles/owner\n",
            "- members:\n",
            "  - serviceAccount:service-219162896674@gcp-sa-pubsub.iam.gserviceaccount.com\n",
            "  role: roles/pubsub.serviceAgent\n",
            "- members:\n",
            "  - serviceAccount:219162896674-compute@developer.gserviceaccount.com\n",
            "  - serviceAccount:vertex-test-id@appspot.gserviceaccount.com\n",
            "  - user:Joachim.Hofmann@bluewin.ch\n",
            "  role: roles/storage.admin\n",
            "- members:\n",
            "  - serviceAccount:219162896674-compute@developer.gserviceaccount.com\n",
            "  - serviceAccount:vertex-test-id@appspot.gserviceaccount.com\n",
            "  role: roles/storage.objectAdmin\n",
            "- members:\n",
            "  - serviceAccount:219162896674-compute@developer.gserviceaccount.com\n",
            "  - serviceAccount:vertex-test-id@appspot.gserviceaccount.com\n",
            "  - user:Joachim.Hofmann@bluewin.ch\n",
            "  role: roles/storage.objectCreator\n",
            "etag: BwY5wNPAps4=\n",
            "version: 1\n"
          ]
        }
      ],
      "id": "78fff607"
    },
    {
      "cell_type": "code",
      "source": [],
      "metadata": {
        "id": "_goNU8zZrbXa"
      },
      "execution_count": null,
      "outputs": [],
      "id": "_goNU8zZrbXa"
    },
    {
      "cell_type": "markdown",
      "metadata": {
        "id": "set_service_account:pipelines"
      },
      "source": [
        "#### Set service account access for Vertex AI Pipelines\n",
        "\n",
        "Run the following commands to grant your service account access to read and write pipeline artifacts in the bucket that you created in the previous step. You only need to run these once per service account."
      ],
      "id": "set_service_account:pipelines"
    },
    {
      "cell_type": "code",
      "execution_count": null,
      "metadata": {
        "id": "ovArRTbqPpT2"
      },
      "outputs": [],
      "source": [
        "#! gsutil iam ch serviceAccount:{SERVICE_ACCOUNT}:roles/storage.objectCreator $BUCKET_URI\n",
        "\n",
        "#! gsutil iam ch serviceAccount:{SERVICE_ACCOUNT}:roles/storage.objectViewer $BUCKET_URI"
      ],
      "id": "ovArRTbqPpT2"
    },
    {
      "cell_type": "markdown",
      "metadata": {
        "id": "setup_vars"
      },
      "source": [
        "### Import libraries and define constants"
      ],
      "id": "setup_vars"
    },
    {
      "cell_type": "code",
      "source": [
        "import google.cloud.aiplatform as aip\n",
        "from kfp import compiler, dsl\n",
        "from kfp.dsl import ClassificationMetrics, Metrics, Output, component"
      ],
      "metadata": {
        "id": "s5ApgwTIbDwq"
      },
      "execution_count": null,
      "outputs": [],
      "id": "s5ApgwTIbDwq"
    },
    {
      "cell_type": "code",
      "source": [],
      "metadata": {
        "id": "wnnNKAbhbDtG"
      },
      "execution_count": null,
      "outputs": [],
      "id": "wnnNKAbhbDtG"
    },
    {
      "cell_type": "code",
      "source": [],
      "metadata": {
        "id": "_oneFUTYdqwo"
      },
      "execution_count": null,
      "outputs": [],
      "id": "_oneFUTYdqwo"
    },
    {
      "cell_type": "code",
      "source": [
        "import kfp.dsl as dsl\n",
        "from kfp.dsl import (Artifact,\n",
        "                        Dataset,\n",
        "                        Input,\n",
        "                        Model,\n",
        "                        Output,\n",
        "                        Metrics,\n",
        "                        ClassificationMetrics,\n",
        "                        component,\n",
        "                        OutputPath,\n",
        "                        InputPath)\n",
        "\n",
        "from typing import NamedTuple\n",
        "from datetime import datetime\n",
        "import os # Import os for path manipulation if needed\n",
        "from google.cloud.aiplatform import pipeline_jobs\n",
        "import json\n",
        "\n",
        "# --- Global Configuration Placeholders ---\n",
        "# IMPORTANT: Replace these with your actual GCP project ID, bucket, and region.\n",
        "# These variables need to be defined before they are used in the pipeline definition.\n",
        "####PROJECT_ID = \"vertex-test-id\" # e.g., \"my-gcp-project-12345\"\n",
        "#REGION = LOCATION             # e.g., \"us-central1\" or \"europe-west1\"\n",
        "# Define a GCS bucket path where pipeline artifacts will be stored.\n",
        "# Ensure this bucket exists and your service account has write permissions.\n",
        "####PIPELINE_ROOT = f\"gs://your-kfp-pipeline-bucket/wine-quality-pipeline-root\"\n",
        "\n",
        "# Generate a timestamp for unique display names for pipeline runs\n",
        "TIMESTAMP = datetime.now().strftime(\"%Y%m%d%H%M%S\")\n",
        "DISPLAY_NAME = f'pipeline-winequality-job-{TIMESTAMP}'"
      ],
      "metadata": {
        "id": "7lOBhvevdrUI"
      },
      "execution_count": null,
      "outputs": [],
      "id": "7lOBhvevdrUI"
    },
    {
      "cell_type": "code",
      "source": [],
      "metadata": {
        "id": "_ctyGiuBdrUJ"
      },
      "execution_count": null,
      "outputs": [],
      "id": "_ctyGiuBdrUJ"
    },
    {
      "cell_type": "markdown",
      "metadata": {
        "id": "459d2b87"
      },
      "source": [
        "# Create pipeline\n",
        "\n",
        "We create 4 components:  \n",
        "- Load data   \n",
        "- Train a  model\n",
        "- Evaluate the model\n",
        "- Deploy the model\n",
        "\n",
        "The components have dependencies on `pandas`, `sklearn`."
      ],
      "id": "459d2b87"
    },
    {
      "cell_type": "code",
      "source": [],
      "metadata": {
        "id": "f5diz9crbDpu"
      },
      "execution_count": null,
      "outputs": [],
      "id": "f5diz9crbDpu"
    },
    {
      "cell_type": "code",
      "source": [],
      "metadata": {
        "id": "SRxon47IbDj2"
      },
      "execution_count": null,
      "outputs": [],
      "id": "SRxon47IbDj2"
    },
    {
      "cell_type": "code",
      "source": [],
      "metadata": {
        "id": "Dzdi7aWzbDIQ"
      },
      "execution_count": null,
      "outputs": [],
      "id": "Dzdi7aWzbDIQ"
    },
    {
      "cell_type": "markdown",
      "metadata": {
        "id": "pipeline_constants"
      },
      "source": [
        "#### Vertex AI constants\n",
        "\n",
        "Setup up the following constants for Vertex AI pipelines:\n",
        "- `PIPELINE_NAME`: Set name for the pipeline.\n",
        "- `PIPELINE_ROOT`: Cloud Storage bucket path to store pipeline artifacts."
      ],
      "id": "pipeline_constants"
    },
    {
      "cell_type": "code",
      "execution_count": null,
      "metadata": {
        "id": "X0UUB32aPpT3"
      },
      "outputs": [],
      "source": [
        "#PIPELINE_NAME = \"metrics-pipeline-v2\"\n",
        "#PIPELINE_ROOT = \"{}/pipeline_root/iris\".format(BUCKET_URI)"
      ],
      "id": "X0UUB32aPpT3"
    },
    {
      "cell_type": "markdown",
      "source": [
        "Let's look at our data."
      ],
      "metadata": {
        "id": "2aJwQjsSxHFm"
      },
      "id": "2aJwQjsSxHFm"
    },
    {
      "cell_type": "code",
      "execution_count": null,
      "metadata": {
        "colab": {
          "base_uri": "https://localhost:8080/",
          "height": 206
        },
        "id": "5bd2d50e",
        "outputId": "4b278051-dd80-4c06-9545-3b85c773cb42"
      },
      "outputs": [
        {
          "output_type": "execute_result",
          "data": {
            "text/plain": [
              "   fixed acidity  volatile acidity  citric acid  residual sugar  chlorides  \\\n",
              "0            7.0              0.27         0.36            20.7      0.045   \n",
              "1            6.3              0.30         0.34             1.6      0.049   \n",
              "2            8.1              0.28         0.40             6.9      0.050   \n",
              "3            7.2              0.23         0.32             8.5      0.058   \n",
              "4            7.2              0.23         0.32             8.5      0.058   \n",
              "\n",
              "   free sulfur dioxide  total sulfur dioxide  density    pH  sulphates  \\\n",
              "0                 45.0                 170.0   1.0010  3.00       0.45   \n",
              "1                 14.0                 132.0   0.9940  3.30       0.49   \n",
              "2                 30.0                  97.0   0.9951  3.26       0.44   \n",
              "3                 47.0                 186.0   0.9956  3.19       0.40   \n",
              "4                 47.0                 186.0   0.9956  3.19       0.40   \n",
              "\n",
              "   alcohol  quality  \n",
              "0      8.8        6  \n",
              "1      9.5        6  \n",
              "2     10.1        6  \n",
              "3      9.9        6  \n",
              "4      9.9        6  "
            ],
            "text/html": [
              "\n",
              "  <div id=\"df-0e6fa214-7ca0-4f27-827f-99a37ff77671\" class=\"colab-df-container\">\n",
              "    <div>\n",
              "<style scoped>\n",
              "    .dataframe tbody tr th:only-of-type {\n",
              "        vertical-align: middle;\n",
              "    }\n",
              "\n",
              "    .dataframe tbody tr th {\n",
              "        vertical-align: top;\n",
              "    }\n",
              "\n",
              "    .dataframe thead th {\n",
              "        text-align: right;\n",
              "    }\n",
              "</style>\n",
              "<table border=\"1\" class=\"dataframe\">\n",
              "  <thead>\n",
              "    <tr style=\"text-align: right;\">\n",
              "      <th></th>\n",
              "      <th>fixed acidity</th>\n",
              "      <th>volatile acidity</th>\n",
              "      <th>citric acid</th>\n",
              "      <th>residual sugar</th>\n",
              "      <th>chlorides</th>\n",
              "      <th>free sulfur dioxide</th>\n",
              "      <th>total sulfur dioxide</th>\n",
              "      <th>density</th>\n",
              "      <th>pH</th>\n",
              "      <th>sulphates</th>\n",
              "      <th>alcohol</th>\n",
              "      <th>quality</th>\n",
              "    </tr>\n",
              "  </thead>\n",
              "  <tbody>\n",
              "    <tr>\n",
              "      <th>0</th>\n",
              "      <td>7.0</td>\n",
              "      <td>0.27</td>\n",
              "      <td>0.36</td>\n",
              "      <td>20.7</td>\n",
              "      <td>0.045</td>\n",
              "      <td>45.0</td>\n",
              "      <td>170.0</td>\n",
              "      <td>1.0010</td>\n",
              "      <td>3.00</td>\n",
              "      <td>0.45</td>\n",
              "      <td>8.8</td>\n",
              "      <td>6</td>\n",
              "    </tr>\n",
              "    <tr>\n",
              "      <th>1</th>\n",
              "      <td>6.3</td>\n",
              "      <td>0.30</td>\n",
              "      <td>0.34</td>\n",
              "      <td>1.6</td>\n",
              "      <td>0.049</td>\n",
              "      <td>14.0</td>\n",
              "      <td>132.0</td>\n",
              "      <td>0.9940</td>\n",
              "      <td>3.30</td>\n",
              "      <td>0.49</td>\n",
              "      <td>9.5</td>\n",
              "      <td>6</td>\n",
              "    </tr>\n",
              "    <tr>\n",
              "      <th>2</th>\n",
              "      <td>8.1</td>\n",
              "      <td>0.28</td>\n",
              "      <td>0.40</td>\n",
              "      <td>6.9</td>\n",
              "      <td>0.050</td>\n",
              "      <td>30.0</td>\n",
              "      <td>97.0</td>\n",
              "      <td>0.9951</td>\n",
              "      <td>3.26</td>\n",
              "      <td>0.44</td>\n",
              "      <td>10.1</td>\n",
              "      <td>6</td>\n",
              "    </tr>\n",
              "    <tr>\n",
              "      <th>3</th>\n",
              "      <td>7.2</td>\n",
              "      <td>0.23</td>\n",
              "      <td>0.32</td>\n",
              "      <td>8.5</td>\n",
              "      <td>0.058</td>\n",
              "      <td>47.0</td>\n",
              "      <td>186.0</td>\n",
              "      <td>0.9956</td>\n",
              "      <td>3.19</td>\n",
              "      <td>0.40</td>\n",
              "      <td>9.9</td>\n",
              "      <td>6</td>\n",
              "    </tr>\n",
              "    <tr>\n",
              "      <th>4</th>\n",
              "      <td>7.2</td>\n",
              "      <td>0.23</td>\n",
              "      <td>0.32</td>\n",
              "      <td>8.5</td>\n",
              "      <td>0.058</td>\n",
              "      <td>47.0</td>\n",
              "      <td>186.0</td>\n",
              "      <td>0.9956</td>\n",
              "      <td>3.19</td>\n",
              "      <td>0.40</td>\n",
              "      <td>9.9</td>\n",
              "      <td>6</td>\n",
              "    </tr>\n",
              "  </tbody>\n",
              "</table>\n",
              "</div>\n",
              "    <div class=\"colab-df-buttons\">\n",
              "      \n",
              "  <div class=\"colab-df-container\">\n",
              "    <button class=\"colab-df-convert\" onclick=\"convertToInteractive('df-0e6fa214-7ca0-4f27-827f-99a37ff77671')\"\n",
              "            title=\"Convert this dataframe to an interactive table.\"\n",
              "            style=\"display:none;\">\n",
              "      \n",
              "  <svg xmlns=\"http://www.w3.org/2000/svg\" height=\"24px\" viewBox=\"0 -960 960 960\">\n",
              "    <path d=\"M120-120v-720h720v720H120Zm60-500h600v-160H180v160Zm220 220h160v-160H400v160Zm0 220h160v-160H400v160ZM180-400h160v-160H180v160Zm440 0h160v-160H620v160ZM180-180h160v-160H180v160Zm440 0h160v-160H620v160Z\"/>\n",
              "  </svg>\n",
              "    </button>\n",
              "    \n",
              "  <style>\n",
              "    .colab-df-container {\n",
              "      display:flex;\n",
              "      gap: 12px;\n",
              "    }\n",
              "\n",
              "    .colab-df-convert {\n",
              "      background-color: #E8F0FE;\n",
              "      border: none;\n",
              "      border-radius: 50%;\n",
              "      cursor: pointer;\n",
              "      display: none;\n",
              "      fill: #1967D2;\n",
              "      height: 32px;\n",
              "      padding: 0 0 0 0;\n",
              "      width: 32px;\n",
              "    }\n",
              "\n",
              "    .colab-df-convert:hover {\n",
              "      background-color: #E2EBFA;\n",
              "      box-shadow: 0px 1px 2px rgba(60, 64, 67, 0.3), 0px 1px 3px 1px rgba(60, 64, 67, 0.15);\n",
              "      fill: #174EA6;\n",
              "    }\n",
              "\n",
              "    .colab-df-buttons div {\n",
              "      margin-bottom: 4px;\n",
              "    }\n",
              "\n",
              "    [theme=dark] .colab-df-convert {\n",
              "      background-color: #3B4455;\n",
              "      fill: #D2E3FC;\n",
              "    }\n",
              "\n",
              "    [theme=dark] .colab-df-convert:hover {\n",
              "      background-color: #434B5C;\n",
              "      box-shadow: 0px 1px 3px 1px rgba(0, 0, 0, 0.15);\n",
              "      filter: drop-shadow(0px 1px 2px rgba(0, 0, 0, 0.3));\n",
              "      fill: #FFFFFF;\n",
              "    }\n",
              "  </style>\n",
              "\n",
              "    <script>\n",
              "      const buttonEl =\n",
              "        document.querySelector('#df-0e6fa214-7ca0-4f27-827f-99a37ff77671 button.colab-df-convert');\n",
              "      buttonEl.style.display =\n",
              "        google.colab.kernel.accessAllowed ? 'block' : 'none';\n",
              "\n",
              "      async function convertToInteractive(key) {\n",
              "        const element = document.querySelector('#df-0e6fa214-7ca0-4f27-827f-99a37ff77671');\n",
              "        const dataTable =\n",
              "          await google.colab.kernel.invokeFunction('convertToInteractive',\n",
              "                                                    [key], {});\n",
              "        if (!dataTable) return;\n",
              "\n",
              "        const docLinkHtml = 'Like what you see? Visit the ' +\n",
              "          '<a target=\"_blank\" href=https://colab.research.google.com/notebooks/data_table.ipynb>data table notebook</a>'\n",
              "          + ' to learn more about interactive tables.';\n",
              "        element.innerHTML = '';\n",
              "        dataTable['output_type'] = 'display_data';\n",
              "        await google.colab.output.renderOutput(dataTable, element);\n",
              "        const docLink = document.createElement('div');\n",
              "        docLink.innerHTML = docLinkHtml;\n",
              "        element.appendChild(docLink);\n",
              "      }\n",
              "    </script>\n",
              "  </div>\n",
              "  \n",
              "    </div>\n",
              "  </div>\n",
              "  "
            ]
          },
          "metadata": {},
          "execution_count": 13
        }
      ],
      "source": [
        "import pandas as pd\n",
        "df_wine = pd.read_csv(\"http://archive.ics.uci.edu/ml/machine-learning-databases/wine-quality/winequality-white.csv\", delimiter=\";\")\n",
        "df_wine.head()"
      ],
      "id": "5bd2d50e"
    },
    {
      "cell_type": "code",
      "source": [],
      "metadata": {
        "id": "q3JgqpD-XG17"
      },
      "execution_count": null,
      "outputs": [],
      "id": "q3JgqpD-XG17"
    },
    {
      "cell_type": "code",
      "source": [
        "df_wine.quality.describe()"
      ],
      "metadata": {
        "colab": {
          "base_uri": "https://localhost:8080/",
          "height": 335
        },
        "id": "MgiHwcpk5tW4",
        "outputId": "f21a6b91-b34d-4784-ecda-67855894602a"
      },
      "execution_count": null,
      "outputs": [
        {
          "output_type": "execute_result",
          "data": {
            "text/plain": [
              "count    4898.000000\n",
              "mean        5.877909\n",
              "std         0.885639\n",
              "min         3.000000\n",
              "25%         5.000000\n",
              "50%         6.000000\n",
              "75%         6.000000\n",
              "max         9.000000\n",
              "Name: quality, dtype: float64"
            ],
            "text/html": [
              "<div>\n",
              "<style scoped>\n",
              "    .dataframe tbody tr th:only-of-type {\n",
              "        vertical-align: middle;\n",
              "    }\n",
              "\n",
              "    .dataframe tbody tr th {\n",
              "        vertical-align: top;\n",
              "    }\n",
              "\n",
              "    .dataframe thead th {\n",
              "        text-align: right;\n",
              "    }\n",
              "</style>\n",
              "<table border=\"1\" class=\"dataframe\">\n",
              "  <thead>\n",
              "    <tr style=\"text-align: right;\">\n",
              "      <th></th>\n",
              "      <th>quality</th>\n",
              "    </tr>\n",
              "  </thead>\n",
              "  <tbody>\n",
              "    <tr>\n",
              "      <th>count</th>\n",
              "      <td>4898.000000</td>\n",
              "    </tr>\n",
              "    <tr>\n",
              "      <th>mean</th>\n",
              "      <td>5.877909</td>\n",
              "    </tr>\n",
              "    <tr>\n",
              "      <th>std</th>\n",
              "      <td>0.885639</td>\n",
              "    </tr>\n",
              "    <tr>\n",
              "      <th>min</th>\n",
              "      <td>3.000000</td>\n",
              "    </tr>\n",
              "    <tr>\n",
              "      <th>25%</th>\n",
              "      <td>5.000000</td>\n",
              "    </tr>\n",
              "    <tr>\n",
              "      <th>50%</th>\n",
              "      <td>6.000000</td>\n",
              "    </tr>\n",
              "    <tr>\n",
              "      <th>75%</th>\n",
              "      <td>6.000000</td>\n",
              "    </tr>\n",
              "    <tr>\n",
              "      <th>max</th>\n",
              "      <td>9.000000</td>\n",
              "    </tr>\n",
              "  </tbody>\n",
              "</table>\n",
              "</div><br><label><b>dtype:</b> float64</label>"
            ]
          },
          "metadata": {},
          "execution_count": 14
        }
      ],
      "id": "MgiHwcpk5tW4"
    },
    {
      "cell_type": "markdown",
      "metadata": {
        "id": "init_aip:mbsdk"
      },
      "source": [
        "## Initialize Vertex AI SDK for Python\n",
        "\n",
        "To get started using Vertex AI, you must [enable the Vertex AI API](https://console.cloud.google.com/flows/enableapi?apiid=aiplatform.googleapis.com)."
      ],
      "id": "init_aip:mbsdk"
    },
    {
      "cell_type": "code",
      "execution_count": null,
      "metadata": {
        "id": "zP6fkF3rPpT3"
      },
      "outputs": [],
      "source": [
        "aip.init(project=PROJECT_ID, staging_bucket=BUCKET_URI)"
      ],
      "id": "zP6fkF3rPpT3"
    },
    {
      "cell_type": "markdown",
      "metadata": {
        "id": "define_component:wine_classification"
      },
      "source": [
        "### Define pipeline components using scikit-learn\n",
        "\n",
        "In this section, you define some Python function-based components that use scikit-learn to train some classifiers and produce evaluations that can be visualized.\n",
        "\n",
        "Note the use of the `@component()` decorator in the definitions below. Optionally, you can set a list of packages for the component to install. That is, list the base image to use (the default is a Python 3.7 image), and the name of a component YAML file to generate, so that the component definition can be shared and reused."
      ],
      "id": "define_component:wine_classification"
    },
    {
      "cell_type": "code",
      "source": [],
      "metadata": {
        "id": "GaEjh1PWTdp4"
      },
      "execution_count": null,
      "outputs": [],
      "id": "GaEjh1PWTdp4"
    },
    {
      "cell_type": "markdown",
      "source": [
        "\n",
        "## First component: read the wine quality dataset and store it in Google Cloud Storage\n",
        "Also let's do some preprocessing as we always do in ML tasks.\n",
        "\n"
      ],
      "metadata": {
        "id": "2QRloZ9lLTLU"
      },
      "id": "2QRloZ9lLTLU"
    },
    {
      "cell_type": "code",
      "execution_count": null,
      "metadata": {
        "id": "51b051c9",
        "colab": {
          "base_uri": "https://localhost:8080/"
        },
        "outputId": "4528dc7e-d934-41d0-ffb6-079b9d0f9442"
      },
      "outputs": [
        {
          "output_type": "stream",
          "name": "stderr",
          "text": [
            "/tmp/ipython-input-36-2794715531.py:1: DeprecationWarning: output_component_file parameter is deprecated and will eventually be removed. Please use `Compiler().compile()` to compile a component instead.\n",
            "  @component(\n"
          ]
        }
      ],
      "source": [
        "@component(\n",
        "  packages_to_install=[\"pandas\", \"pyarrow\", \"scikit-learn==1.0.0\"],\n",
        "  base_image=\"python:3.9\",\n",
        "  output_component_file=\"get_wine_data.yaml\"\n",
        ")\n",
        "def get_wine_data(\n",
        "  url: str, # Revert to standard parameter definition\n",
        "  # Use Output[T] to get a metadata-rich handle to the output artifact of type `Dataset`.\n",
        "  # the artifact already has path in the place, where we run the pipeline\n",
        "  dataset_train: Output[Dataset],\n",
        "  dataset_test: Output[Dataset]\n",
        "):\n",
        "  import numpy as np\n",
        "  import pandas as pd\n",
        "  from sklearn.model_selection import train_test_split\n",
        "\n",
        "  df_wine = pd.read_csv(url, delimiter=\";\")\n",
        "  df_wine['best_quality'] = df_wine.quality.apply(lambda x: int(x>=7))\n",
        "  df_wine['target'] = df_wine.best_quality\n",
        "  df_wine.drop(\n",
        "      columns=['quality', 'total sulfur dioxide', 'best_quality'],\n",
        "      inplace=True\n",
        "  )\n",
        "\n",
        "  train, test = train_test_split(df_wine, test_size=0.3)\n",
        "  train.to_csv(dataset_train.path + \".csv\" , index=False)\n",
        "  test.to_csv(dataset_test.path + \".csv\" , index=False)"
      ],
      "id": "51b051c9"
    },
    {
      "cell_type": "markdown",
      "metadata": {
        "id": "de33e87f"
      },
      "source": [
        "## Train the wine quality model\n"
      ],
      "id": "de33e87f"
    },
    {
      "cell_type": "code",
      "execution_count": null,
      "metadata": {
        "id": "9a50fc15"
      },
      "outputs": [],
      "source": [
        "@component(\n",
        "  packages_to_install = [\n",
        "      \"pandas\",\n",
        "      \"scikit-learn==1.0.0\"\n",
        "  ], base_image=\"python:3.9\",\n",
        ")\n",
        "def train_winequality(\n",
        "  # Use Input[T] to get a metadata-rich handle to the\n",
        "  # input artifact of type `Dataset`.\n",
        "  dataset:  Input[Dataset],\n",
        "  model: Output[Model],\n",
        "):\n",
        "  import pickle\n",
        "  import pandas as pd\n",
        "  from sklearn.ensemble import RandomForestClassifier\n",
        "\n",
        "  data = pd.read_csv(dataset.path+\".csv\")\n",
        "  model_rf = RandomForestClassifier(n_estimators=10)\n",
        "  model_rf.fit(\n",
        "      data.drop(columns=[\"target\"]),\n",
        "      data.target,\n",
        "  )\n",
        "  model.metadata[\"framework\"] = \"RF\"\n",
        "  file_name = model.path + \".pkl\"\n",
        "  with open(file_name, 'wb') as file:\n",
        "      pickle.dump(model_rf, file)"
      ],
      "id": "9a50fc15"
    },
    {
      "cell_type": "markdown",
      "metadata": {
        "id": "fdec3aea"
      },
      "source": [
        "## Evaluate the model\n",
        "The results of evaluation will be written in the file in GCP."
      ],
      "id": "fdec3aea"
    },
    {
      "cell_type": "code",
      "execution_count": null,
      "metadata": {
        "id": "c1b304bb"
      },
      "outputs": [],
      "source": [
        "@component(\n",
        "  packages_to_install = [\n",
        "      \"pandas\",\n",
        "      \"scikit-learn==1.0.0\"\n",
        "  ], base_image=\"python:3.9\",\n",
        ")\n",
        "def winequality_evaluation(\n",
        "  test_set:  Input[Dataset],\n",
        "  rf_winequality_model: Input[Model],\n",
        "  thresholds_dict_str: str,\n",
        "  metrics: Output[ClassificationMetrics],\n",
        "  kpi: Output[Metrics]\n",
        ") -> NamedTuple(\"output\", [(\"deploy\", str)]):\n",
        "\n",
        "  from sklearn.ensemble import RandomForestClassifier\n",
        "  import pandas as pd\n",
        "  import logging\n",
        "  import pickle\n",
        "  from sklearn.metrics import roc_curve, confusion_matrix, accuracy_score\n",
        "  import json\n",
        "  import typing\n",
        "\n",
        "  def threshold_check(val1, val2):\n",
        "      cond = \"false\"\n",
        "      if val1 >= val2 :\n",
        "          cond = \"true\"\n",
        "      return cond\n",
        "\n",
        "  data = pd.read_csv(test_set.path+\".csv\")\n",
        "  file_name = rf_winequality_model.path + \".pkl\"\n",
        "  with open(file_name, 'rb') as file:\n",
        "      model = pickle.load(file)\n",
        "\n",
        "  X_test = data.drop(columns=[\"target\"])\n",
        "  y_target = data.target\n",
        "  y_pred = model.predict(X_test)\n",
        "\n",
        "  y_scores =  model.predict_proba(X_test)[:, 1]\n",
        "  fpr, tpr, thresholds = roc_curve(\n",
        "        y_true=data.target.to_numpy(), y_score=y_scores, pos_label=True\n",
        "  )\n",
        "  metrics.log_roc_curve(fpr.tolist(), tpr.tolist(), thresholds.tolist())\n",
        "\n",
        "  metrics.log_confusion_matrix(\n",
        "      [\"False\", \"True\"],\n",
        "      confusion_matrix(\n",
        "          data.target, y_pred\n",
        "      ).tolist(),\n",
        "  )\n",
        "\n",
        "  accuracy = accuracy_score(data.target, y_pred.round())\n",
        "  thresholds_dict = json.loads(thresholds_dict_str)\n",
        "  rf_winequality_model.metadata[\"accuracy\"] = float(accuracy)\n",
        "  kpi.log_metric(\"accuracy\", float(accuracy))\n",
        "  deploy = threshold_check(float(accuracy), int(thresholds_dict['roc']))\n",
        "  return (deploy,)"
      ],
      "id": "c1b304bb"
    },
    {
      "cell_type": "markdown",
      "metadata": {
        "id": "139b5ad2"
      },
      "source": [
        "## Deploy model"
      ],
      "id": "139b5ad2"
    },
    {
      "cell_type": "code",
      "execution_count": null,
      "metadata": {
        "id": "0ae07652",
        "colab": {
          "base_uri": "https://localhost:8080/"
        },
        "outputId": "2f21856d-0eeb-4524-dda5-1a90520e4fde"
      },
      "outputs": [
        {
          "output_type": "stream",
          "name": "stderr",
          "text": [
            "/tmp/ipython-input-39-1398708474.py:1: DeprecationWarning: output_component_file parameter is deprecated and will eventually be removed. Please use `Compiler().compile()` to compile a component instead.\n",
            "  @component(\n"
          ]
        }
      ],
      "source": [
        "@component(\n",
        "  packages_to_install=[\"google-cloud-aiplatform\", \"scikit-learn==1.0.0\",  \"kfp\"],\n",
        "  base_image=\"python:3.9\",\n",
        "  output_component_file=\"model_winequality_coponent.yml\"\n",
        ")\n",
        "def deploy_winequality(\n",
        "  model: Input[Model],\n",
        "  project: str,\n",
        "  region: str,\n",
        "  serving_container_image_uri : str,\n",
        "  vertex_endpoint: Output[Artifact],\n",
        "  vertex_model: Output[Model]\n",
        "):\n",
        "  from google.cloud import aiplatform\n",
        "  aiplatform.init(project=project, location=region)\n",
        "\n",
        "  DISPLAY_NAME  = \"winequality\"\n",
        "  MODEL_NAME = \"winequality-rf\"\n",
        "  ENDPOINT_NAME = \"winequality_endpoint\"\n",
        "\n",
        "  def create_endpoint():\n",
        "      endpoints = aiplatform.Endpoint.list(\n",
        "        filter='display_name=\"{}\"'.format(ENDPOINT_NAME),\n",
        "        order_by='create_time desc',\n",
        "        project=project,\n",
        "        location=region,\n",
        "      )\n",
        "      if len(endpoints) > 0:\n",
        "          return endpoints[0]  # most recently created\n",
        "      else:\n",
        "          return aiplatform.Endpoint.create(\n",
        "            display_name=ENDPOINT_NAME, project=project, location=region\n",
        "        )\n",
        "  endpoint = create_endpoint()\n",
        "\n",
        "  #Import a model programmatically\n",
        "  model_upload = aiplatform.Model.upload(\n",
        "      display_name = DISPLAY_NAME,\n",
        "      artifact_uri = model.uri.replace(\"model\", \"\"),\n",
        "      serving_container_image_uri = serving_container_image_uri,\n",
        "      serving_container_health_route=f\"/v1/models/{MODEL_NAME}\",\n",
        "      serving_container_predict_route=f\"/v1/models/{MODEL_NAME}:predict\",\n",
        "      serving_container_environment_variables={\n",
        "      \"MODEL_NAME\": MODEL_NAME,\n",
        "  },\n",
        "  )\n",
        "  model_deploy = model_upload.deploy(\n",
        "      machine_type=\"n1-standard-4\",\n",
        "      endpoint=endpoint,\n",
        "      traffic_split={\"0\": 100},\n",
        "      deployed_model_display_name=DISPLAY_NAME,\n",
        "  )\n",
        "\n",
        "  # Save the resource name to the output params\n",
        "  vertex_model.uri = model_deploy.resource_name"
      ],
      "id": "0ae07652"
    },
    {
      "cell_type": "code",
      "execution_count": null,
      "metadata": {
        "id": "7902a0f7"
      },
      "outputs": [],
      "source": [
        "from datetime import datetime\n",
        "\n",
        "TIMESTAMP = datetime.now().strftime(\"%Y%m%d%H%M%S\")\n",
        "DISPLAY_NAME = 'pipeline-winequality-job{}'.format(TIMESTAMP)"
      ],
      "id": "7902a0f7"
    },
    {
      "cell_type": "code",
      "source": [
        "DISPLAY_NAME"
      ],
      "metadata": {
        "colab": {
          "base_uri": "https://localhost:8080/",
          "height": 36
        },
        "id": "DNfk8o3YfdvK",
        "outputId": "df291563-7a68-44fd-b422-6191fe90caa9"
      },
      "id": "DNfk8o3YfdvK",
      "execution_count": null,
      "outputs": [
        {
          "output_type": "execute_result",
          "data": {
            "text/plain": [
              "'pipeline-winequality-job20250712200222'"
            ],
            "application/vnd.google.colaboratory.intrinsic+json": {
              "type": "string"
            }
          },
          "metadata": {},
          "execution_count": 41
        }
      ]
    },
    {
      "cell_type": "markdown",
      "metadata": {
        "id": "f98bd8c3"
      },
      "source": [
        "## Create the Pipeline itself\n",
        "\n",
        "Once you have created all the needed components define the pipeline and then compile it into a `.json` file."
      ],
      "id": "f98bd8c3"
    },
    {
      "cell_type": "code",
      "execution_count": null,
      "metadata": {
        "colab": {
          "base_uri": "https://localhost:8080/",
          "height": 36
        },
        "id": "FJsGtfhtcqgs",
        "outputId": "b1358e64-4e63-4737-8d73-ba1efadff2ba"
      },
      "outputs": [
        {
          "output_type": "execute_result",
          "data": {
            "text/plain": [
              "'gs://gcs-bucket-name-wine2/pipeline_root_simple_example'"
            ],
            "application/vnd.google.colaboratory.intrinsic+json": {
              "type": "string"
            }
          },
          "metadata": {},
          "execution_count": 21
        }
      ],
      "source": [
        "PIPELINE_ROOT"
      ],
      "id": "FJsGtfhtcqgs"
    },
    {
      "cell_type": "code",
      "execution_count": null,
      "metadata": {
        "id": "d3d5f227",
        "colab": {
          "base_uri": "https://localhost:8080/"
        },
        "outputId": "1f610652-1328-4734-839e-96ad8cab5930"
      },
      "outputs": [
        {
          "output_type": "stream",
          "name": "stderr",
          "text": [
            "/tmp/ipython-input-42-870405069.py:24: DeprecationWarning: dsl.Condition is deprecated. Please use dsl.If instead.\n",
            "  with dsl.Condition(\n"
          ]
        }
      ],
      "source": [
        "@dsl.pipeline(\n",
        "  # Default pipeline root. You can override it when submitting the pipeline.\n",
        "  pipeline_root=PIPELINE_ROOT,\n",
        "  # A name for the pipeline. Use to determine the pipeline Context.\n",
        "  name=\"pipeline-winequality\",\n",
        ")\n",
        "def pipeline(\n",
        "  url: str = \"http://archive.ics.uci.edu/ml/machine-learning-databases/wine-quality/winequality-white.csv\",\n",
        "  project: str = PROJECT_ID,\n",
        "  region: str = REGION,\n",
        "  display_name: str = DISPLAY_NAME,\n",
        "  api_endpoint: str = REGION+\"-aiplatform.googleapis.com\",\n",
        "  thresholds_dict_str: str = '{\"roc\":0.8}',\n",
        "  serving_container_image_uri: str = \"europe-docker.pkg.dev/vertex-ai/prediction/sklearn-cpu.0-24:latest\"\n",
        "):\n",
        "  data_op = get_wine_data(url=url)\n",
        "  train_model_op = train_winequality(dataset=data_op.outputs[\"dataset_train\"])\n",
        "  model_evaluation_op = winequality_evaluation(\n",
        "      test_set=data_op.outputs[\"dataset_test\"],\n",
        "      rf_winequality_model=train_model_op.outputs[\"model\"],\n",
        "      thresholds_dict_str = thresholds_dict_str, # I deploy the model anly if the model performance is above the threshold\n",
        "  )\n",
        "\n",
        "  with dsl.Condition(\n",
        "      model_evaluation_op.outputs[\"deploy\"]==\"true\",\n",
        "      name=\"deploy-winequality\",\n",
        "  ):\n",
        "      deploy_model_op = deploy_winequality(\n",
        "        model=train_model_op.outputs['model'],\n",
        "        project=project,\n",
        "        region=region,\n",
        "        serving_container_image_uri = serving_container_image_uri,\n",
        "      )"
      ],
      "id": "d3d5f227"
    },
    {
      "cell_type": "markdown",
      "metadata": {
        "id": "6ba00f47"
      },
      "source": [
        "### Compile and run the pipeline"
      ],
      "id": "6ba00f47"
    },
    {
      "cell_type": "code",
      "execution_count": null,
      "metadata": {
        "id": "d68ec6e4"
      },
      "outputs": [],
      "source": [
        "compiler.Compiler().compile(\n",
        "    pipeline_func=pipeline,\n",
        "    package_path='ml_winequality.json'\n",
        ")"
      ],
      "id": "d68ec6e4"
    },
    {
      "cell_type": "markdown",
      "metadata": {
        "id": "c68be6e6"
      },
      "source": [
        "The pipeline compilation generates the **ml_winequality.json** job spec file."
      ],
      "id": "c68be6e6"
    },
    {
      "cell_type": "code",
      "execution_count": null,
      "metadata": {
        "id": "f1e47a43"
      },
      "outputs": [],
      "source": [
        "### Create a run"
      ],
      "id": "f1e47a43"
    },
    {
      "cell_type": "code",
      "execution_count": null,
      "metadata": {
        "id": "N_YjyECUdeDS"
      },
      "outputs": [],
      "source": [
        "aiplatform.init(project=PROJECT_ID, location=REGION)"
      ],
      "id": "N_YjyECUdeDS"
    },
    {
      "cell_type": "code",
      "execution_count": null,
      "metadata": {
        "id": "e4lycTgRtNkv"
      },
      "outputs": [],
      "source": [
        "# might be needed if we restarted the notebook before\n",
        "# from google.colab import auth\n",
        "# auth.authenticate_user()"
      ],
      "id": "e4lycTgRtNkv"
    },
    {
      "cell_type": "code",
      "execution_count": null,
      "metadata": {
        "id": "b24bac81"
      },
      "outputs": [],
      "source": [
        "start_pipeline = pipeline_jobs.PipelineJob(\n",
        "  display_name=\"winequality-pipeline\",\n",
        "  template_path=\"ml_winequality.json\",\n",
        "  enable_caching=True,\n",
        "  location=REGION\n",
        ")"
      ],
      "id": "b24bac81"
    },
    {
      "cell_type": "code",
      "execution_count": null,
      "metadata": {
        "colab": {
          "base_uri": "https://localhost:8080/",
          "height": 356
        },
        "id": "gq0C91EItkmP",
        "outputId": "bbdc15d5-b027-406e-f3d7-5f267a4e2a56"
      },
      "outputs": [
        {
          "output_type": "stream",
          "name": "stderr",
          "text": [
            "INFO:google.cloud.aiplatform.pipeline_jobs:Creating PipelineJob\n"
          ]
        },
        {
          "output_type": "error",
          "ename": "RuntimeError",
          "evalue": "Job failed with:\ncode: 9\nmessage: \" The DAG failed because some tasks failed. The failed tasks are: [get-wine-data].; Job (project_id = vertex-test-id, job_id = 7084658231036870656) is failed due to the above error.; Failed to handle the job: {project_number = 219162896674, job_id = 7084658231036870656}\"\n",
          "traceback": [
            "\u001b[0;31m---------------------------------------------------------------------------\u001b[0m",
            "\u001b[0;31mRuntimeError\u001b[0m                              Traceback (most recent call last)",
            "\u001b[0;32m/tmp/ipython-input-48-1679040736.py\u001b[0m in \u001b[0;36m<cell line: 0>\u001b[0;34m()\u001b[0m\n\u001b[0;32m----> 1\u001b[0;31m \u001b[0mstart_pipeline\u001b[0m\u001b[0;34m.\u001b[0m\u001b[0mrun\u001b[0m\u001b[0;34m(\u001b[0m\u001b[0mservice_account\u001b[0m\u001b[0;34m=\u001b[0m\u001b[0mSERVICE_ACCOUNT\u001b[0m\u001b[0;34m)\u001b[0m\u001b[0;34m\u001b[0m\u001b[0;34m\u001b[0m\u001b[0m\n\u001b[0m",
            "\u001b[0;32m/usr/local/lib/python3.11/dist-packages/google/cloud/aiplatform/pipeline_jobs.py\u001b[0m in \u001b[0;36mrun\u001b[0;34m(self, service_account, network, reserved_ip_ranges, sync, create_request_timeout, enable_preflight_validations)\u001b[0m\n\u001b[1;32m    332\u001b[0m         \u001b[0mnetwork\u001b[0m \u001b[0;34m=\u001b[0m \u001b[0mnetwork\u001b[0m \u001b[0;32mor\u001b[0m \u001b[0minitializer\u001b[0m\u001b[0;34m.\u001b[0m\u001b[0mglobal_config\u001b[0m\u001b[0;34m.\u001b[0m\u001b[0mnetwork\u001b[0m\u001b[0;34m\u001b[0m\u001b[0;34m\u001b[0m\u001b[0m\n\u001b[1;32m    333\u001b[0m \u001b[0;34m\u001b[0m\u001b[0m\n\u001b[0;32m--> 334\u001b[0;31m         self._run(\n\u001b[0m\u001b[1;32m    335\u001b[0m             \u001b[0mservice_account\u001b[0m\u001b[0;34m=\u001b[0m\u001b[0mservice_account\u001b[0m\u001b[0;34m,\u001b[0m\u001b[0;34m\u001b[0m\u001b[0;34m\u001b[0m\u001b[0m\n\u001b[1;32m    336\u001b[0m             \u001b[0mnetwork\u001b[0m\u001b[0;34m=\u001b[0m\u001b[0mnetwork\u001b[0m\u001b[0;34m,\u001b[0m\u001b[0;34m\u001b[0m\u001b[0;34m\u001b[0m\u001b[0m\n",
            "\u001b[0;32m/usr/local/lib/python3.11/dist-packages/google/cloud/aiplatform/base.py\u001b[0m in \u001b[0;36mwrapper\u001b[0;34m(*args, **kwargs)\u001b[0m\n\u001b[1;32m    861\u001b[0m                 \u001b[0;32mif\u001b[0m \u001b[0mself\u001b[0m\u001b[0;34m:\u001b[0m\u001b[0;34m\u001b[0m\u001b[0;34m\u001b[0m\u001b[0m\n\u001b[1;32m    862\u001b[0m                     \u001b[0mVertexAiResourceNounWithFutureManager\u001b[0m\u001b[0;34m.\u001b[0m\u001b[0mwait\u001b[0m\u001b[0;34m(\u001b[0m\u001b[0mself\u001b[0m\u001b[0;34m)\u001b[0m\u001b[0;34m\u001b[0m\u001b[0;34m\u001b[0m\u001b[0m\n\u001b[0;32m--> 863\u001b[0;31m                 \u001b[0;32mreturn\u001b[0m \u001b[0mmethod\u001b[0m\u001b[0;34m(\u001b[0m\u001b[0;34m*\u001b[0m\u001b[0margs\u001b[0m\u001b[0;34m,\u001b[0m \u001b[0;34m**\u001b[0m\u001b[0mkwargs\u001b[0m\u001b[0;34m)\u001b[0m\u001b[0;34m\u001b[0m\u001b[0;34m\u001b[0m\u001b[0m\n\u001b[0m\u001b[1;32m    864\u001b[0m \u001b[0;34m\u001b[0m\u001b[0m\n\u001b[1;32m    865\u001b[0m             \u001b[0;31m# callbacks to call within the Future (in same Thread)\u001b[0m\u001b[0;34m\u001b[0m\u001b[0;34m\u001b[0m\u001b[0m\n",
            "\u001b[0;32m/usr/local/lib/python3.11/dist-packages/google/cloud/aiplatform/pipeline_jobs.py\u001b[0m in \u001b[0;36m_run\u001b[0;34m(self, service_account, network, reserved_ip_ranges, sync, create_request_timeout, enable_preflight_validations)\u001b[0m\n\u001b[1;32m    380\u001b[0m         )\n\u001b[1;32m    381\u001b[0m \u001b[0;34m\u001b[0m\u001b[0m\n\u001b[0;32m--> 382\u001b[0;31m         \u001b[0mself\u001b[0m\u001b[0;34m.\u001b[0m\u001b[0m_block_until_complete\u001b[0m\u001b[0;34m(\u001b[0m\u001b[0;34m)\u001b[0m\u001b[0;34m\u001b[0m\u001b[0;34m\u001b[0m\u001b[0m\n\u001b[0m\u001b[1;32m    383\u001b[0m \u001b[0;34m\u001b[0m\u001b[0m\n\u001b[1;32m    384\u001b[0m         \u001b[0;31m# AutoSxS view model evaluations\u001b[0m\u001b[0;34m\u001b[0m\u001b[0;34m\u001b[0m\u001b[0m\n",
            "\u001b[0;32m/usr/local/lib/python3.11/dist-packages/google/cloud/aiplatform/pipeline_jobs.py\u001b[0m in \u001b[0;36m_block_until_complete\u001b[0;34m(self)\u001b[0m\n\u001b[1;32m    791\u001b[0m         \u001b[0;31m# JOB_STATE_FAILED or JOB_STATE_CANCELLED.\u001b[0m\u001b[0;34m\u001b[0m\u001b[0;34m\u001b[0m\u001b[0m\n\u001b[1;32m    792\u001b[0m         \u001b[0;32mif\u001b[0m \u001b[0mself\u001b[0m\u001b[0;34m.\u001b[0m\u001b[0m_gca_resource\u001b[0m\u001b[0;34m.\u001b[0m\u001b[0mstate\u001b[0m \u001b[0;32min\u001b[0m \u001b[0m_PIPELINE_ERROR_STATES\u001b[0m\u001b[0;34m:\u001b[0m\u001b[0;34m\u001b[0m\u001b[0;34m\u001b[0m\u001b[0m\n\u001b[0;32m--> 793\u001b[0;31m             \u001b[0;32mraise\u001b[0m \u001b[0mRuntimeError\u001b[0m\u001b[0;34m(\u001b[0m\u001b[0;34m\"Job failed with:\\n%s\"\u001b[0m \u001b[0;34m%\u001b[0m \u001b[0mself\u001b[0m\u001b[0;34m.\u001b[0m\u001b[0m_gca_resource\u001b[0m\u001b[0;34m.\u001b[0m\u001b[0merror\u001b[0m\u001b[0;34m)\u001b[0m\u001b[0;34m\u001b[0m\u001b[0;34m\u001b[0m\u001b[0m\n\u001b[0m\u001b[1;32m    794\u001b[0m         \u001b[0;32melse\u001b[0m\u001b[0;34m:\u001b[0m\u001b[0;34m\u001b[0m\u001b[0;34m\u001b[0m\u001b[0m\n\u001b[1;32m    795\u001b[0m             \u001b[0m_LOGGER\u001b[0m\u001b[0;34m.\u001b[0m\u001b[0mlog_action_completed_against_resource\u001b[0m\u001b[0;34m(\u001b[0m\u001b[0;34m\"run\"\u001b[0m\u001b[0;34m,\u001b[0m \u001b[0;34m\"completed\"\u001b[0m\u001b[0;34m,\u001b[0m \u001b[0mself\u001b[0m\u001b[0;34m)\u001b[0m\u001b[0;34m\u001b[0m\u001b[0;34m\u001b[0m\u001b[0m\n",
            "\u001b[0;31mRuntimeError\u001b[0m: Job failed with:\ncode: 9\nmessage: \" The DAG failed because some tasks failed. The failed tasks are: [get-wine-data].; Job (project_id = vertex-test-id, job_id = 7084658231036870656) is failed due to the above error.; Failed to handle the job: {project_number = 219162896674, job_id = 7084658231036870656}\"\n"
          ]
        }
      ],
      "source": [
        "start_pipeline.run(service_account=SERVICE_ACCOUNT)"
      ],
      "id": "gq0C91EItkmP"
    },
    {
      "cell_type": "markdown",
      "metadata": {
        "id": "dcb26db0"
      },
      "source": [
        "### List all models"
      ],
      "id": "dcb26db0"
    },
    {
      "cell_type": "code",
      "execution_count": null,
      "metadata": {
        "id": "8e9c6097"
      },
      "outputs": [],
      "source": [
        "DISPLAY_NAME = \"winequality\"\n",
        "! gcloud ai models list --region={REGION} --filter={DISPLAY_NAME}"
      ],
      "id": "8e9c6097"
    },
    {
      "cell_type": "markdown",
      "metadata": {
        "id": "a1de419e"
      },
      "source": [
        "### Schedule pipeline"
      ],
      "id": "a1de419e"
    },
    {
      "cell_type": "markdown",
      "metadata": {
        "id": "fbce39c8"
      },
      "source": [
        "The scheduled jobs are supported by the Cloud Scheduler and Cloud Functions.\n",
        "Check that the APIs Cloud Scheduler, Cloud Functions are enabled.\n",
        "\n",
        "Below is a code to create a scheduled pipeline run"
      ],
      "id": "fbce39c8"
    },
    {
      "cell_type": "code",
      "execution_count": null,
      "metadata": {
        "id": "c2cf02fc"
      },
      "outputs": [],
      "source": [
        "from kfp.v2.google.client import AIPlatformClient\n",
        "\n",
        "api_client = AIPlatformClient(\n",
        "                project_id=PROJECT_ID,\n",
        "                region=REGION,\n",
        "                )\n",
        "\n",
        "response = api_client.create_schedule_from_job_spec(\n",
        "    enable_caching=True,\n",
        "    job_spec_path=\"ml_winequality.json\",\n",
        "    schedule=\"0 0 * * 1\", # once per week on Monday\n",
        "    time_zone=\"Europe/Brussels\",  # change this as necessary\n",
        "    parameter_values={\"display_name\": DISPLAY_NAME},\n",
        "    pipeline_root=PIPELINE_ROOT,  # this argument is necessary if you did not specify PIPELINE_ROOT as part of the pipeline definition.\n",
        "    #service_account=SERVICE_ACCOUNT,\n",
        ")\n"
      ],
      "id": "c2cf02fc"
    },
    {
      "cell_type": "markdown",
      "metadata": {
        "id": "3bfc56a4"
      },
      "source": [
        "Once the scheduled job is created, you can see it listed in the Cloud Scheduler panel in the Console."
      ],
      "id": "3bfc56a4"
    },
    {
      "cell_type": "markdown",
      "metadata": {
        "id": "a14ebfea"
      },
      "source": [
        "# Get predictions from endpoint"
      ],
      "id": "a14ebfea"
    },
    {
      "cell_type": "markdown",
      "source": [
        "We can check our model performance by calling endpoint. And for sure we can call it for the new data coming."
      ],
      "metadata": {
        "id": "dSmxv1ehde9I"
      },
      "id": "dSmxv1ehde9I"
    },
    {
      "cell_type": "code",
      "source": [
        "! pip install gcsfs"
      ],
      "metadata": {
        "id": "GR46l2oH_274"
      },
      "id": "GR46l2oH_274",
      "execution_count": null,
      "outputs": []
    },
    {
      "cell_type": "code",
      "source": [
        "# here is how to read data from GCS. You need to be authorized!\n",
        "\n",
        "import gcsfs\n",
        "import pandas as pd\n",
        "\n",
        "fs = gcsfs.GCSFileSystem()\n",
        "\n",
        "data_path = 'gs://tokyo-charge-378510-bucket-winequality/pipeline_root_wine/24871937313/pipeline-winequality-20230222190608/get-wine-data_-3056498289194041344/dataset_test.csv'\n",
        "with fs.open(data_path, 'rb') as f:\n",
        "    test_df = pd.read_csv(f, nrows=10) # let's read just a chunk of data to speed up data load"
      ],
      "metadata": {
        "id": "vdVYOgku_s2Z"
      },
      "id": "vdVYOgku_s2Z",
      "execution_count": null,
      "outputs": []
    },
    {
      "cell_type": "code",
      "source": [
        "# create instances\n",
        "instances = test_df.drop(columns='target').values.tolist()"
      ],
      "metadata": {
        "id": "JFlbY9UOeTjU"
      },
      "id": "JFlbY9UOeTjU",
      "execution_count": null,
      "outputs": []
    },
    {
      "cell_type": "code",
      "source": [
        "instances"
      ],
      "metadata": {
        "id": "QeYyCAwMebBF"
      },
      "id": "QeYyCAwMebBF",
      "execution_count": null,
      "outputs": []
    },
    {
      "cell_type": "code",
      "source": [
        "ENDPOINT_ID = !(gcloud ai endpoints list --region=$REGION \\\n",
        "              --format='value(ENDPOINT_ID)'\\\n",
        "              --filter=display_name=$ENDPOINT_NAME \\\n",
        "              --sort-by=creationTimeStamp)"
      ],
      "metadata": {
        "id": "ThdpwIcMl-2Z"
      },
      "id": "ThdpwIcMl-2Z",
      "execution_count": null,
      "outputs": []
    },
    {
      "cell_type": "code",
      "execution_count": null,
      "metadata": {
        "id": "f69cd649"
      },
      "outputs": [],
      "source": [
        "ENDPOINT_NAME=\"winequality_endpoint\"\n",
        "\n",
        "# get the endpoint id\n",
        "# ENDPOINT_ID = !(gcloud ai endpoints list --region=$REGION \\\n",
        "#               --format='value(ENDPOINT_ID)'\\\n",
        "#               --filter=display_name=$ENDPOINT_NAME \\\n",
        "#               --sort-by=creationTimeStamp)\n",
        "ENDPOINT_ID = '7273225437273128960' # the most recent endpoint\n",
        "\n",
        "\n",
        "# aiplatform.init(project=PROJECT_ID, location=REGION)\n",
        "endpoint = aiplatform.Endpoint(ENDPOINT_ID)\n",
        "prediction = endpoint.predict(instances=instances)\n"
      ],
      "id": "f69cd649"
    },
    {
      "cell_type": "code",
      "source": [
        "prediction.predictions"
      ],
      "metadata": {
        "id": "9lLslB-dfcoM"
      },
      "id": "9lLslB-dfcoM",
      "execution_count": null,
      "outputs": []
    },
    {
      "cell_type": "code",
      "source": [
        "list(map(int, prediction.predictions)), test_df.target.tolist()"
      ],
      "metadata": {
        "id": "WTcsB8Ro-wPF"
      },
      "id": "WTcsB8Ro-wPF",
      "execution_count": null,
      "outputs": []
    },
    {
      "cell_type": "markdown",
      "source": [
        "So the model performance is quite good. At least on those 10 records :)"
      ],
      "metadata": {
        "id": "YpE1Jy2Sf5pe"
      },
      "id": "YpE1Jy2Sf5pe"
    },
    {
      "cell_type": "markdown",
      "metadata": {
        "id": "cf61af7d"
      },
      "source": [
        "# Test the batch prediction\n",
        "\n",
        "Takes some time, but at least you will have a code and understanding of how to run it.\n",
        "\n"
      ],
      "id": "cf61af7d"
    },
    {
      "cell_type": "code",
      "execution_count": null,
      "metadata": {
        "id": "e748c28b"
      },
      "outputs": [],
      "source": [
        "# Define variables\n",
        "job_display_name = \"winequality-batch-prediction-job\"\n",
        "MODEL_NAME=\"winequality\"\n",
        "ENDPOINT_NAME=\"winequality_endpoint\"\n",
        "BUCKET_URI=\"gs://tokyo-charge-378510-bucket-winequality/pipeline_root_wine/24871937313/pipeline-winequality-20230222111722/get-wine-data_5671759263626690560\"\n",
        "input_file_name=\"dataset_test.csv\"\n",
        "\n",
        "# Get model id\n",
        "MODEL_ID=!(gcloud ai models list --region=$REGION \\\n",
        "           --filter=display_name=$MODEL_NAME)\n",
        "MODEL_ID=MODEL_ID[2].split(\" \")[0]\n",
        "\n",
        "model_resource_name = f'projects/{PROJECT_ID}/locations/{REGION}/models/{MODEL_ID}'\n",
        "gcs_source= [f\"{BUCKET_URI}/{input_file_name}\"]\n",
        "gcs_destination_prefix=f\"{BUCKET_URI}/output\"\n",
        "\n",
        "def batch_prediction_job(\n",
        "    project: str,\n",
        "    location: str,\n",
        "    model_resource_name: str,\n",
        "    job_display_name: str,\n",
        "    gcs_source: str,\n",
        "    gcs_destination_prefix: str,\n",
        "    machine_type: str,\n",
        "    starting_replica_count: int = 1, # The number of nodes for this batch prediction job.\n",
        "    max_replica_count: int = 1,\n",
        "):\n",
        "    aiplatform.init(project=project, location=location)\n",
        "\n",
        "    model = aiplatform.Model(model_resource_name)\n",
        "\n",
        "    batch_prediction_job = model.batch_predict(\n",
        "        job_display_name=job_display_name,\n",
        "        instances_format='csv', #json\n",
        "        gcs_source=[f\"{BUCKET_URI}/{input_file_name}\"],\n",
        "        gcs_destination_prefix=f\"{BUCKET_URI}/output\",\n",
        "        machine_type=machine_type, # must be present\n",
        "    )\n",
        "    batch_prediction_job.wait()\n",
        "    print(batch_prediction_job.display_name)\n",
        "    print(batch_prediction_job.state)\n",
        "    return batch_prediction_job\n",
        "\n",
        "batch_prediction_job(PROJECT_ID, REGION, model_resource_name, job_display_name, gcs_source, gcs_destination_prefix, machine_type=\"n1-standard-2\")"
      ],
      "id": "e748c28b"
    },
    {
      "cell_type": "markdown",
      "source": [
        "# Clean up!"
      ],
      "metadata": {
        "id": "7v5R-N5bgSWz"
      },
      "id": "7v5R-N5bgSWz"
    },
    {
      "cell_type": "code",
      "source": [
        "# setup the following parameters manually\n",
        "\n",
        "DISPLAY_NAME = \"pipeline-winequality-20230222111722\"\n",
        "BUCKET_URI = \"gs://tokyo-charge-378510-bucket-winequality/pipeline_root_wine/24871937313/aaa\""
      ],
      "metadata": {
        "id": "8r9QmStlgikz"
      },
      "id": "8r9QmStlgikz",
      "execution_count": null,
      "outputs": []
    },
    {
      "cell_type": "code",
      "source": [
        "import os\n",
        "delete_pipeline = True\n",
        "delete_bucket = True\n",
        "\n",
        "try:\n",
        "    if delete_pipeline and \"DISPLAY_NAME\" in globals():\n",
        "        pipelines = aiplatform.PipelineJob.list(\n",
        "            filter=f\"display_name={DISPLAY_NAME}\", order_by=\"create_time\"\n",
        "        )\n",
        "        pipeline = pipelines[0]\n",
        "        aiplatform.PipelineJob.delete(pipeline.resource_name)\n",
        "        print(\"Deleted pipeline:\", pipeline)\n",
        "except Exception as e:\n",
        "    print(e)\n",
        "\n",
        "if delete_bucket or os.getenv(\"IS_TESTING\"):\n",
        "    ! gsutil rm -r $BUCKET_URI"
      ],
      "metadata": {
        "id": "OXk8Udktgezz"
      },
      "id": "OXk8Udktgezz",
      "execution_count": null,
      "outputs": []
    },
    {
      "cell_type": "code",
      "source": [
        "if delete_bucket or os.getenv(\"IS_TESTING\"):\n",
        "    ! gsutil rm -r $BUCKET_URI"
      ],
      "metadata": {
        "id": "Q_NsbE0aheOY"
      },
      "id": "Q_NsbE0aheOY",
      "execution_count": null,
      "outputs": []
    },
    {
      "cell_type": "markdown",
      "source": [
        "Then we need to go the the Vertex AI and delete deployed models.\n",
        "This is important as everyhting we store on cloud costs something."
      ],
      "metadata": {
        "id": "zC4dso77jpPn"
      },
      "id": "zC4dso77jpPn"
    },
    {
      "cell_type": "code",
      "metadata": {
        "colab": {
          "base_uri": "https://localhost:8080/",
          "height": 176
        },
        "id": "a1bf95ab",
        "outputId": "6e010ea9-0ef6-429f-ea15-7729fb84cc4c"
      },
      "source": [
        "# Define the get_wine_data component using a YAML specification\n",
        "get_wine_data_yaml = \"\"\"\n",
        "name: Get Wine Data\n",
        "description: Reads the wine quality dataset and splits it into train and test sets.\n",
        "inputs:\n",
        "  - name: url\n",
        "    type: String\n",
        "outputs:\n",
        "  - name: dataset_train\n",
        "    type: Dataset\n",
        "  - name: dataset_test\n",
        "    type: Dataset\n",
        "implementation:\n",
        "  container:\n",
        "    image: python:3.9\n",
        "    command:\n",
        "      - python\n",
        "      - -c\n",
        "      - |\n",
        "        import pandas as pd\n",
        "        from sklearn.model_selection import train_test_split\n",
        "        import argparse\n",
        "\n",
        "        parser = argparse.ArgumentParser()\n",
        "        parser.add_argument('--url', type=str)\n",
        "        parser.add_argument('--dataset_train_path', type=str)\n",
        "        parser.add_argument('--dataset_test_path', type=str)\n",
        "        args = parser.parse_args()\n",
        "\n",
        "        df_wine = pd.read_csv(args.url, delimiter=\";\")\n",
        "        df_wine['best_quality'] = df_wine.quality.apply(lambda x: int(x>=7))\n",
        "        df_wine['target'] = df_wine.best_quality\n",
        "        df_wine.drop(\n",
        "            columns=['quality', 'total sulfur dioxide', 'best_quality'],\n",
        "            inplace=True\n",
        "        )\n",
        "\n",
        "        train, test = train_test_split(df_wine, test_size=0.3)\n",
        "        train.to_csv(args.dataset_train_path + \".csv\" , index=False)\n",
        "        test.to_csv(args.dataset_test_path + \".csv\" , index=False)\n",
        "\n",
        "    args:\n",
        "      - --url\n",
        "      - {inputValue: url}\n",
        "      - --dataset_train_path\n",
        "      - {outputPath: dataset_train}\n",
        "      - --dataset_test_path\n",
        "      - {outputPath: dataset_test}\n",
        "\"\"\"\n",
        "\n",
        "from kfp import components\n",
        "get_wine_data_op = components.load_component_from_yaml(get_wine_data_yaml)"
      ],
      "id": "a1bf95ab",
      "execution_count": null,
      "outputs": [
        {
          "output_type": "error",
          "ename": "AttributeError",
          "evalue": "module 'kfp.components' has no attribute 'load_component_from_yaml'",
          "traceback": [
            "\u001b[0;31m---------------------------------------------------------------------------\u001b[0m",
            "\u001b[0;31mAttributeError\u001b[0m                            Traceback (most recent call last)",
            "\u001b[0;32m/tmp/ipython-input-32-2360887239.py\u001b[0m in \u001b[0;36m<cell line: 0>\u001b[0;34m()\u001b[0m\n\u001b[1;32m     50\u001b[0m \u001b[0;34m\u001b[0m\u001b[0m\n\u001b[1;32m     51\u001b[0m \u001b[0;32mfrom\u001b[0m \u001b[0mkfp\u001b[0m \u001b[0;32mimport\u001b[0m \u001b[0mcomponents\u001b[0m\u001b[0;34m\u001b[0m\u001b[0;34m\u001b[0m\u001b[0m\n\u001b[0;32m---> 52\u001b[0;31m \u001b[0mget_wine_data_op\u001b[0m \u001b[0;34m=\u001b[0m \u001b[0mcomponents\u001b[0m\u001b[0;34m.\u001b[0m\u001b[0mload_component_from_yaml\u001b[0m\u001b[0;34m(\u001b[0m\u001b[0mget_wine_data_yaml\u001b[0m\u001b[0;34m)\u001b[0m\u001b[0;34m\u001b[0m\u001b[0;34m\u001b[0m\u001b[0m\n\u001b[0m",
            "\u001b[0;31mAttributeError\u001b[0m: module 'kfp.components' has no attribute 'load_component_from_yaml'"
          ]
        }
      ]
    },
    {
      "cell_type": "code",
      "metadata": {
        "colab": {
          "base_uri": "https://localhost:8080/",
          "height": 356
        },
        "id": "a537e633",
        "outputId": "d7b69f8a-6e9b-4aa6-bfb0-9d96b31feee0"
      },
      "source": [
        "@dsl.pipeline(\n",
        "  # Default pipeline root. You can override it when submitting the pipeline.\n",
        "  pipeline_root=PIPELINE_ROOT,\n",
        "  # A name for the pipeline. Use to determine the pipeline Context.\n",
        "  name=\"pipeline-winequality\",\n",
        ")\n",
        "def pipeline(\n",
        "  url: str = \"http://archive.ics.uci.edu/ml/machine-learning-databases/wine-quality/winequality-white.csv\",\n",
        "  project: str = PROJECT_ID,\n",
        "  region: str = REGION,\n",
        "  display_name: str = DISPLAY_NAME,\n",
        "  api_endpoint: str = REGION+\"-aiplatform.googleapis.com\",\n",
        "  thresholds_dict_str: str = '{\"roc\":0.8}',\n",
        "  serving_container_image_uri: str = \"europe-docker.pkg.dev/vertex-ai/prediction/sklearn-cpu.0-24:latest\"\n",
        "):\n",
        "  data_op = get_wine_data_op(url=url)\n",
        "  train_model_op = train_winequality(dataset=data_op.outputs[\"dataset_train\"])\n",
        "  model_evaluation_op = winequality_evaluation(\n",
        "      test_set=data_op.outputs[\"dataset_test\"],\n",
        "      rf_winequality_model=train_model_op.outputs[\"model\"],\n",
        "      thresholds_dict_str = thresholds_dict_str, # I deploy the model anly if the model performance is above the threshold\n",
        "  )\n",
        "\n",
        "  with dsl.Condition(\n",
        "      model_evaluation_op.outputs[\"deploy\"]==\"true\",\n",
        "      name=\"deploy-winequality\",\n",
        "  ):\n",
        "      deploy_model_op = deploy_winequality(\n",
        "        model=train_model_op.outputs['model'],\n",
        "        project=project,\n",
        "        region=region,\n",
        "        serving_container_image_uri = serving_container_image_uri,\n",
        "      )"
      ],
      "id": "a537e633",
      "execution_count": null,
      "outputs": [
        {
          "output_type": "error",
          "ename": "NameError",
          "evalue": "name 'get_wine_data_op' is not defined",
          "traceback": [
            "\u001b[0;31m---------------------------------------------------------------------------\u001b[0m",
            "\u001b[0;31mNameError\u001b[0m                                 Traceback (most recent call last)",
            "\u001b[0;32m/tmp/ipython-input-33-3748514518.py\u001b[0m in \u001b[0;36m<cell line: 0>\u001b[0;34m()\u001b[0m\n\u001b[0;32m----> 1\u001b[0;31m @dsl.pipeline(\n\u001b[0m\u001b[1;32m      2\u001b[0m   \u001b[0;31m# Default pipeline root. You can override it when submitting the pipeline.\u001b[0m\u001b[0;34m\u001b[0m\u001b[0;34m\u001b[0m\u001b[0m\n\u001b[1;32m      3\u001b[0m   \u001b[0mpipeline_root\u001b[0m\u001b[0;34m=\u001b[0m\u001b[0mPIPELINE_ROOT\u001b[0m\u001b[0;34m,\u001b[0m\u001b[0;34m\u001b[0m\u001b[0;34m\u001b[0m\u001b[0m\n\u001b[1;32m      4\u001b[0m   \u001b[0;31m# A name for the pipeline. Use to determine the pipeline Context.\u001b[0m\u001b[0;34m\u001b[0m\u001b[0;34m\u001b[0m\u001b[0m\n\u001b[1;32m      5\u001b[0m   \u001b[0mname\u001b[0m\u001b[0;34m=\u001b[0m\u001b[0;34m\"pipeline-winequality\"\u001b[0m\u001b[0;34m,\u001b[0m\u001b[0;34m\u001b[0m\u001b[0;34m\u001b[0m\u001b[0m\n",
            "\u001b[0;32m/usr/local/lib/python3.11/dist-packages/kfp/dsl/pipeline_context.py\u001b[0m in \u001b[0;36mpipeline\u001b[0;34m(func, name, description, pipeline_root, display_name, pipeline_config)\u001b[0m\n\u001b[1;32m     69\u001b[0m         \u001b[0mfunc\u001b[0m\u001b[0;34m.\u001b[0m\u001b[0mpipeline_root\u001b[0m \u001b[0;34m=\u001b[0m \u001b[0mpipeline_root\u001b[0m\u001b[0;34m\u001b[0m\u001b[0;34m\u001b[0m\u001b[0m\n\u001b[1;32m     70\u001b[0m \u001b[0;34m\u001b[0m\u001b[0m\n\u001b[0;32m---> 71\u001b[0;31m     return component_factory.create_graph_component_from_func(\n\u001b[0m\u001b[1;32m     72\u001b[0m         \u001b[0mfunc\u001b[0m\u001b[0;34m,\u001b[0m\u001b[0;34m\u001b[0m\u001b[0;34m\u001b[0m\u001b[0m\n\u001b[1;32m     73\u001b[0m         \u001b[0mname\u001b[0m\u001b[0;34m=\u001b[0m\u001b[0mname\u001b[0m\u001b[0;34m,\u001b[0m\u001b[0;34m\u001b[0m\u001b[0;34m\u001b[0m\u001b[0m\n",
            "\u001b[0;32m/usr/local/lib/python3.11/dist-packages/kfp/dsl/component_factory.py\u001b[0m in \u001b[0;36mcreate_graph_component_from_func\u001b[0;34m(func, name, description, display_name, pipeline_config)\u001b[0m\n\u001b[1;32m    706\u001b[0m         \u001b[0mname\u001b[0m\u001b[0;34m=\u001b[0m\u001b[0mname\u001b[0m\u001b[0;34m,\u001b[0m\u001b[0;34m\u001b[0m\u001b[0;34m\u001b[0m\u001b[0m\n\u001b[1;32m    707\u001b[0m     )\n\u001b[0;32m--> 708\u001b[0;31m     return graph_component.GraphComponent(\n\u001b[0m\u001b[1;32m    709\u001b[0m         \u001b[0mcomponent_spec\u001b[0m\u001b[0;34m=\u001b[0m\u001b[0mcomponent_spec\u001b[0m\u001b[0;34m,\u001b[0m\u001b[0;34m\u001b[0m\u001b[0;34m\u001b[0m\u001b[0m\n\u001b[1;32m    710\u001b[0m         \u001b[0mpipeline_func\u001b[0m\u001b[0;34m=\u001b[0m\u001b[0mfunc\u001b[0m\u001b[0;34m,\u001b[0m\u001b[0;34m\u001b[0m\u001b[0;34m\u001b[0m\u001b[0m\n",
            "\u001b[0;32m/usr/local/lib/python3.11/dist-packages/kfp/dsl/graph_component.py\u001b[0m in \u001b[0;36m__init__\u001b[0;34m(self, component_spec, pipeline_func, display_name, pipeline_config)\u001b[0m\n\u001b[1;32m     59\u001b[0m         with pipeline_context.Pipeline(\n\u001b[1;32m     60\u001b[0m                 self.component_spec.name) as dsl_pipeline:\n\u001b[0;32m---> 61\u001b[0;31m             \u001b[0mpipeline_outputs\u001b[0m \u001b[0;34m=\u001b[0m \u001b[0mpipeline_func\u001b[0m\u001b[0;34m(\u001b[0m\u001b[0;34m*\u001b[0m\u001b[0margs_list\u001b[0m\u001b[0;34m)\u001b[0m\u001b[0;34m\u001b[0m\u001b[0;34m\u001b[0m\u001b[0m\n\u001b[0m\u001b[1;32m     62\u001b[0m \u001b[0;34m\u001b[0m\u001b[0m\n\u001b[1;32m     63\u001b[0m         \u001b[0;32mif\u001b[0m \u001b[0;32mnot\u001b[0m \u001b[0mdsl_pipeline\u001b[0m\u001b[0;34m.\u001b[0m\u001b[0mtasks\u001b[0m\u001b[0;34m:\u001b[0m\u001b[0;34m\u001b[0m\u001b[0;34m\u001b[0m\u001b[0m\n",
            "\u001b[0;32m/tmp/ipython-input-33-3748514518.py\u001b[0m in \u001b[0;36mpipeline\u001b[0;34m(url, project, region, display_name, api_endpoint, thresholds_dict_str, serving_container_image_uri)\u001b[0m\n\u001b[1;32m     14\u001b[0m   \u001b[0mserving_container_image_uri\u001b[0m\u001b[0;34m:\u001b[0m \u001b[0mstr\u001b[0m \u001b[0;34m=\u001b[0m \u001b[0;34m\"europe-docker.pkg.dev/vertex-ai/prediction/sklearn-cpu.0-24:latest\"\u001b[0m\u001b[0;34m\u001b[0m\u001b[0;34m\u001b[0m\u001b[0m\n\u001b[1;32m     15\u001b[0m ):\n\u001b[0;32m---> 16\u001b[0;31m   \u001b[0mdata_op\u001b[0m \u001b[0;34m=\u001b[0m \u001b[0mget_wine_data_op\u001b[0m\u001b[0;34m(\u001b[0m\u001b[0murl\u001b[0m\u001b[0;34m=\u001b[0m\u001b[0murl\u001b[0m\u001b[0;34m)\u001b[0m\u001b[0;34m\u001b[0m\u001b[0;34m\u001b[0m\u001b[0m\n\u001b[0m\u001b[1;32m     17\u001b[0m   \u001b[0mtrain_model_op\u001b[0m \u001b[0;34m=\u001b[0m \u001b[0mtrain_winequality\u001b[0m\u001b[0;34m(\u001b[0m\u001b[0mdataset\u001b[0m\u001b[0;34m=\u001b[0m\u001b[0mdata_op\u001b[0m\u001b[0;34m.\u001b[0m\u001b[0moutputs\u001b[0m\u001b[0;34m[\u001b[0m\u001b[0;34m\"dataset_train\"\u001b[0m\u001b[0;34m]\u001b[0m\u001b[0;34m)\u001b[0m\u001b[0;34m\u001b[0m\u001b[0;34m\u001b[0m\u001b[0m\n\u001b[1;32m     18\u001b[0m   model_evaluation_op = winequality_evaluation(\n",
            "\u001b[0;31mNameError\u001b[0m: name 'get_wine_data_op' is not defined"
          ]
        }
      ]
    }
  ],
  "metadata": {
    "colab": {
      "provenance": [],
      "include_colab_link": true
    },
    "environment": {
      "name": "tf2-gpu.2-3.m75",
      "type": "gcloud",
      "uri": "gcr.io/deeplearning-platform-release/tf2-gpu.2-3:m75"
    },
    "kernelspec": {
      "display_name": "vetex_env",
      "language": "python",
      "name": "vetex_env"
    },
    "language_info": {
      "codemirror_mode": {
        "name": "ipython",
        "version": 3
      },
      "file_extension": ".py",
      "mimetype": "text/x-python",
      "name": "python",
      "nbconvert_exporter": "python",
      "pygments_lexer": "ipython3",
      "version": "3.7.10"
    }
  },
  "nbformat": 4,
  "nbformat_minor": 5
}